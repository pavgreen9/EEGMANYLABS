{
 "cells": [
  {
   "cell_type": "markdown",
   "id": "9bdf7ec5-f355-4f95-a24e-7a49709ccb67",
   "metadata": {},
   "source": [
    "# Data Extraction"
   ]
  },
  {
   "cell_type": "markdown",
   "id": "e4d97461-d4ca-4ecb-928c-9af1ecd756a7",
   "metadata": {},
   "source": [
    "Notes:\n",
    "1. The code assumes that the order of the columns remain the same i.e., columns 14:24 are items from the Updated Dogmatism Scale and they remain in the same order\n",
    "2. The code assumes that other than the demo questionnaires, everything else requires an answer and the answer format has not changed - please notify if else\n",
    "3. Code has not yet accounted for 'other' answers under the sex, gender, diagnoses, and stimulants section - need to discusss to streamline the output\n",
    "4. Readability and flexibility is prioritised (or attempting to), if there are any parts that are unreadable or is difficult to troubleshoot due to foreseeable issues, please lmk\n",
    "5. Because of the way Jupyter works, if you've run a column and go back and run previous columns, the output may not be correct and/or an error may pop up - I've tried reducing the occurence as much as possible but the safest option is to re-run the code from the respective header/section "
   ]
  },
  {
   "cell_type": "markdown",
   "id": "d207da9f-85ec-498b-819e-f89a2176ae79",
   "metadata": {},
   "source": [
    "---"
   ]
  },
  {
   "cell_type": "markdown",
   "id": "8a5b7714-f2ba-448e-bc89-c5f858f0a2dd",
   "metadata": {
    "tags": []
   },
   "source": [
    "# Setting Up"
   ]
  },
  {
   "cell_type": "code",
   "execution_count": 1,
   "id": "96fbe4d1-ceeb-4770-b1a4-919d52647829",
   "metadata": {},
   "outputs": [],
   "source": [
    "import numpy as np\n",
    "import pandas as pd\n",
    "import matplotlib.pyplot as plt\n",
    "import os\n",
    "from datetime import datetime, date, timedelta\n",
    "from IPython.core.interactiveshell import InteractiveShell\n",
    "InteractiveShell.ast_node_interactivity = 'all'"
   ]
  },
  {
   "cell_type": "code",
   "execution_count": 2,
   "id": "c133caab-0703-4e37-9ebc-7286e03c7e79",
   "metadata": {},
   "outputs": [
    {
     "data": {
      "text/html": [
       "<div>\n",
       "<style scoped>\n",
       "    .dataframe tbody tr th:only-of-type {\n",
       "        vertical-align: middle;\n",
       "    }\n",
       "\n",
       "    .dataframe tbody tr th {\n",
       "        vertical-align: top;\n",
       "    }\n",
       "\n",
       "    .dataframe thead th {\n",
       "        text-align: right;\n",
       "    }\n",
       "</style>\n",
       "<table border=\"1\" class=\"dataframe\">\n",
       "  <thead>\n",
       "    <tr style=\"text-align: right;\">\n",
       "      <th></th>\n",
       "      <th>Timestamp</th>\n",
       "      <th>Please enter your participant number</th>\n",
       "      <th>When is your date of birth?</th>\n",
       "      <th>Which sex were you assigned at birth?</th>\n",
       "      <th>What is your gender?</th>\n",
       "      <th>Do you have a diagnosis of psychiatric or neurological conditions?</th>\n",
       "      <th>If you responded 'yes' to the previous question, please indicate the diagnosis received.</th>\n",
       "      <th>Are you currently taking any psychiatric medication?</th>\n",
       "      <th>If you responded 'yes' to the previous question, please indicate the medication.</th>\n",
       "      <th>Have you consumed any food, drinks, or medications containing nicotine, caffeine, alcohol or other stimulants in the last 24 hours?</th>\n",
       "      <th>...</th>\n",
       "      <th>Upset</th>\n",
       "      <th>Hostile</th>\n",
       "      <th>Alert</th>\n",
       "      <th>Ashamed</th>\n",
       "      <th>Inspired</th>\n",
       "      <th>Nervous</th>\n",
       "      <th>Determined</th>\n",
       "      <th>Attentive</th>\n",
       "      <th>Afraid</th>\n",
       "      <th>Active</th>\n",
       "    </tr>\n",
       "  </thead>\n",
       "  <tbody>\n",
       "    <tr>\n",
       "      <th>0</th>\n",
       "      <td>17/06/2023 20:51:03</td>\n",
       "      <td>90210</td>\n",
       "      <td>01/01/1999</td>\n",
       "      <td>Male</td>\n",
       "      <td>Male</td>\n",
       "      <td>No</td>\n",
       "      <td>NaN</td>\n",
       "      <td>No</td>\n",
       "      <td>NaN</td>\n",
       "      <td>No</td>\n",
       "      <td>...</td>\n",
       "      <td>1</td>\n",
       "      <td>2</td>\n",
       "      <td>3</td>\n",
       "      <td>4</td>\n",
       "      <td>5</td>\n",
       "      <td>1</td>\n",
       "      <td>2</td>\n",
       "      <td>3</td>\n",
       "      <td>4</td>\n",
       "      <td>5</td>\n",
       "    </tr>\n",
       "    <tr>\n",
       "      <th>1</th>\n",
       "      <td>17/06/2023 21:10:06</td>\n",
       "      <td>21</td>\n",
       "      <td>02/03/2003</td>\n",
       "      <td>Female</td>\n",
       "      <td>Female</td>\n",
       "      <td>No</td>\n",
       "      <td>NaN</td>\n",
       "      <td>No</td>\n",
       "      <td>NaN</td>\n",
       "      <td>Yes</td>\n",
       "      <td>...</td>\n",
       "      <td>3</td>\n",
       "      <td>3</td>\n",
       "      <td>4</td>\n",
       "      <td>3</td>\n",
       "      <td>3</td>\n",
       "      <td>2</td>\n",
       "      <td>3</td>\n",
       "      <td>3</td>\n",
       "      <td>3</td>\n",
       "      <td>3</td>\n",
       "    </tr>\n",
       "  </tbody>\n",
       "</table>\n",
       "<p>2 rows × 150 columns</p>\n",
       "</div>"
      ],
      "text/plain": [
       "             Timestamp  Please enter your participant number  \\\n",
       "0  17/06/2023 20:51:03                                 90210   \n",
       "1  17/06/2023 21:10:06                                    21   \n",
       "\n",
       "  When is your date of birth? Which sex were you assigned at birth?  \\\n",
       "0                  01/01/1999                                  Male   \n",
       "1                  02/03/2003                                Female   \n",
       "\n",
       "  What is your gender?  \\\n",
       "0                 Male   \n",
       "1               Female   \n",
       "\n",
       "  Do you have a diagnosis of psychiatric or neurological conditions?  \\\n",
       "0                                                 No                   \n",
       "1                                                 No                   \n",
       "\n",
       "   If you responded 'yes' to the previous question, please indicate the diagnosis received.  \\\n",
       "0                                                NaN                                          \n",
       "1                                                NaN                                          \n",
       "\n",
       "  Are you currently taking any psychiatric medication?   \\\n",
       "0                                                 No      \n",
       "1                                                 No      \n",
       "\n",
       "   If you responded 'yes' to the previous question, please indicate the medication.   \\\n",
       "0                                                NaN                                   \n",
       "1                                                NaN                                   \n",
       "\n",
       "  Have you consumed any food, drinks, or medications containing nicotine, caffeine, alcohol or other stimulants in the last 24 hours?  \\\n",
       "0                                                 No                                                                                    \n",
       "1                                                Yes                                                                                    \n",
       "\n",
       "   ... Upset  Hostile  Alert  Ashamed  Inspired  Nervous  Determined  \\\n",
       "0  ...     1        2      3        4         5        1           2   \n",
       "1  ...     3        3      4        3         3        2           3   \n",
       "\n",
       "   Attentive  Afraid  Active  \n",
       "0          3       4       5  \n",
       "1          3       3       3  \n",
       "\n",
       "[2 rows x 150 columns]"
      ]
     },
     "execution_count": 2,
     "metadata": {},
     "output_type": "execute_result"
    }
   ],
   "source": [
    "os.chdir('/home/pavgreen/Documents/Amodio')\n",
    "dforig = pd.read_csv('EEGMANYLABS_Responses.csv')\n",
    "dforig"
   ]
  },
  {
   "cell_type": "code",
   "execution_count": 3,
   "id": "6adc5da2-6606-4dfa-8758-183b5f4f55cd",
   "metadata": {},
   "outputs": [
    {
     "data": {
      "text/html": [
       "<div>\n",
       "<style scoped>\n",
       "    .dataframe tbody tr th:only-of-type {\n",
       "        vertical-align: middle;\n",
       "    }\n",
       "\n",
       "    .dataframe tbody tr th {\n",
       "        vertical-align: top;\n",
       "    }\n",
       "\n",
       "    .dataframe thead th {\n",
       "        text-align: right;\n",
       "    }\n",
       "</style>\n",
       "<table border=\"1\" class=\"dataframe\">\n",
       "  <thead>\n",
       "    <tr style=\"text-align: right;\">\n",
       "      <th></th>\n",
       "      <th>Timestamp</th>\n",
       "      <th>Please enter your participant number</th>\n",
       "      <th>Please indicate your preferences in the use of hands in the following activities or when using certain objects [Writing]</th>\n",
       "      <th>Please indicate your preferences in the use of hands in the following activities or when using certain objects [Throwing]</th>\n",
       "      <th>Please indicate your preferences in the use of hands in the following activities or when using certain objects [Toothbrush]</th>\n",
       "      <th>Please indicate your preferences in the use of hands in the following activities or when using certain objects [Spoon]</th>\n",
       "      <th>Have you ever practiced meditation, mindfulness, or contemplative prayer?</th>\n",
       "      <th>If you responded 'yes' to the previous question, please briefly describe the kind of practice you engage in most frequently</th>\n",
       "      <th>If you responded 'yes' to the previous question, what is the total length of time (in months) you practiced/have been practicing meditation, mindfulness, or contemplative prayer?</th>\n",
       "      <th>If you responded 'yes' to the previous question, which option best describes the frequency of your typical practice of meditation, mindfulness, or contemplative prayer?</th>\n",
       "      <th>...</th>\n",
       "      <th>Please read the following statements and select the item to indicate how you generally feel most of the time. There’s no right or wrong answers and please don’t spend too much time on each statement [I have disturbing thoughts.]</th>\n",
       "      <th>Please read the following statements and select the item to indicate how you generally feel most of the time. There’s no right or wrong answers and please don’t spend too much time on each statement [I lack self-confidence.]</th>\n",
       "      <th>Please read the following statements and select the item to indicate how you generally feel most of the time. There’s no right or wrong answers and please don’t spend too much time on each statement [I feel secure.]</th>\n",
       "      <th>Please read the following statements and select the item to indicate how you generally feel most of the time. There’s no right or wrong answers and please don’t spend too much time on each statement [I make decisions easily.]</th>\n",
       "      <th>Please read the following statements and select the item to indicate how you generally feel most of the time. There’s no right or wrong answers and please don’t spend too much time on each statement [I feel inadequate.]</th>\n",
       "      <th>Please read the following statements and select the item to indicate how you generally feel most of the time. There’s no right or wrong answers and please don’t spend too much time on each statement [I am content.]</th>\n",
       "      <th>Please read the following statements and select the item to indicate how you generally feel most of the time. There’s no right or wrong answers and please don’t spend too much time on each statement [Some unimportant thought runs through my mind and bothers me.]</th>\n",
       "      <th>Please read the following statements and select the item to indicate how you generally feel most of the time. There’s no right or wrong answers and please don’t spend too much time on each statement [I take disappointments so keenly I can't put them out of my mind.]</th>\n",
       "      <th>Please read the following statements and select the item to indicate how you generally feel most of the time. There’s no right or wrong answers and please don’t spend too much time on each statement [I am a steady person.]</th>\n",
       "      <th>Please read the following statements and select the item to indicate how you generally feel most of the time. There’s no right or wrong answers and please don’t spend too much time on each statement [I get in a state of tension or turmoil as I think over my recent concerns and interests.]</th>\n",
       "    </tr>\n",
       "  </thead>\n",
       "  <tbody>\n",
       "    <tr>\n",
       "      <th>0</th>\n",
       "      <td>17/06/2023 21:12:38</td>\n",
       "      <td>90210</td>\n",
       "      <td>Both equally</td>\n",
       "      <td>Usually Left</td>\n",
       "      <td>Both equally</td>\n",
       "      <td>Both equally</td>\n",
       "      <td>No</td>\n",
       "      <td>NaN</td>\n",
       "      <td>NaN</td>\n",
       "      <td>Not currently practicing</td>\n",
       "      <td>...</td>\n",
       "      <td>Moderately so</td>\n",
       "      <td>Not at all</td>\n",
       "      <td>Very much so</td>\n",
       "      <td>Very much so</td>\n",
       "      <td>Very much so</td>\n",
       "      <td>Very much so</td>\n",
       "      <td>Moderately so</td>\n",
       "      <td>Somewhat</td>\n",
       "      <td>Moderately so</td>\n",
       "      <td>Moderately so</td>\n",
       "    </tr>\n",
       "    <tr>\n",
       "      <th>1</th>\n",
       "      <td>17/06/2023 21:32:40</td>\n",
       "      <td>21</td>\n",
       "      <td>Always Right</td>\n",
       "      <td>Always Right</td>\n",
       "      <td>Always Right</td>\n",
       "      <td>Always Right</td>\n",
       "      <td>Yes</td>\n",
       "      <td>Meditation</td>\n",
       "      <td>1 month</td>\n",
       "      <td>Not currently practicing</td>\n",
       "      <td>...</td>\n",
       "      <td>Moderately so</td>\n",
       "      <td>Moderately so</td>\n",
       "      <td>Moderately so</td>\n",
       "      <td>Moderately so</td>\n",
       "      <td>Moderately so</td>\n",
       "      <td>Moderately so</td>\n",
       "      <td>Moderately so</td>\n",
       "      <td>Moderately so</td>\n",
       "      <td>Moderately so</td>\n",
       "      <td>Moderately so</td>\n",
       "    </tr>\n",
       "  </tbody>\n",
       "</table>\n",
       "<p>2 rows × 69 columns</p>\n",
       "</div>"
      ],
      "text/plain": [
       "             Timestamp  Please enter your participant number  \\\n",
       "0  17/06/2023 21:12:38                                 90210   \n",
       "1  17/06/2023 21:32:40                                    21   \n",
       "\n",
       "  Please indicate your preferences in the use of hands in the following activities or when using certain objects [Writing]  \\\n",
       "0                                       Both equally                                                                         \n",
       "1                                       Always Right                                                                         \n",
       "\n",
       "  Please indicate your preferences in the use of hands in the following activities or when using certain objects [Throwing]  \\\n",
       "0                                       Usually Left                                                                          \n",
       "1                                       Always Right                                                                          \n",
       "\n",
       "  Please indicate your preferences in the use of hands in the following activities or when using certain objects [Toothbrush]  \\\n",
       "0                                       Both equally                                                                            \n",
       "1                                       Always Right                                                                            \n",
       "\n",
       "  Please indicate your preferences in the use of hands in the following activities or when using certain objects [Spoon]  \\\n",
       "0                                       Both equally                                                                       \n",
       "1                                       Always Right                                                                       \n",
       "\n",
       "  Have you ever practiced meditation, mindfulness, or contemplative prayer?  \\\n",
       "0                                                 No                          \n",
       "1                                                Yes                          \n",
       "\n",
       "  If you responded 'yes' to the previous question, please briefly describe the kind of practice you engage in most frequently  \\\n",
       "0                                                NaN                                                                            \n",
       "1                                         Meditation                                                                            \n",
       "\n",
       "  If you responded 'yes' to the previous question, what is the total length of time (in months) you practiced/have been practicing meditation, mindfulness, or contemplative prayer?  \\\n",
       "0                                                NaN                                                                                                                                   \n",
       "1                                            1 month                                                                                                                                   \n",
       "\n",
       "  If you responded 'yes' to the previous question, which option best describes the frequency of your typical practice of meditation, mindfulness, or contemplative prayer?  \\\n",
       "0                           Not currently practicing                                                                                                                         \n",
       "1                           Not currently practicing                                                                                                                         \n",
       "\n",
       "   ...  \\\n",
       "0  ...   \n",
       "1  ...   \n",
       "\n",
       "  Please read the following statements and select the item to indicate how you generally feel most of the time. There’s no right or wrong answers and please don’t spend too much time on each statement [I have disturbing thoughts.]  \\\n",
       "0                                      Moderately so                                                                                                                                                                                     \n",
       "1                                      Moderately so                                                                                                                                                                                     \n",
       "\n",
       "  Please read the following statements and select the item to indicate how you generally feel most of the time. There’s no right or wrong answers and please don’t spend too much time on each statement [I lack self-confidence.]  \\\n",
       "0                                         Not at all                                                                                                                                                                                 \n",
       "1                                      Moderately so                                                                                                                                                                                 \n",
       "\n",
       "  Please read the following statements and select the item to indicate how you generally feel most of the time. There’s no right or wrong answers and please don’t spend too much time on each statement [I feel secure.]  \\\n",
       "0                                       Very much so                                                                                                                                                                        \n",
       "1                                      Moderately so                                                                                                                                                                        \n",
       "\n",
       "  Please read the following statements and select the item to indicate how you generally feel most of the time. There’s no right or wrong answers and please don’t spend too much time on each statement [I make decisions easily.]  \\\n",
       "0                                       Very much so                                                                                                                                                                                  \n",
       "1                                      Moderately so                                                                                                                                                                                  \n",
       "\n",
       "  Please read the following statements and select the item to indicate how you generally feel most of the time. There’s no right or wrong answers and please don’t spend too much time on each statement [I feel inadequate.]  \\\n",
       "0                                       Very much so                                                                                                                                                                            \n",
       "1                                      Moderately so                                                                                                                                                                            \n",
       "\n",
       "  Please read the following statements and select the item to indicate how you generally feel most of the time. There’s no right or wrong answers and please don’t spend too much time on each statement [I am content.]  \\\n",
       "0                                       Very much so                                                                                                                                                                       \n",
       "1                                      Moderately so                                                                                                                                                                       \n",
       "\n",
       "  Please read the following statements and select the item to indicate how you generally feel most of the time. There’s no right or wrong answers and please don’t spend too much time on each statement [Some unimportant thought runs through my mind and bothers me.]  \\\n",
       "0                                      Moderately so                                                                                                                                                                                                                       \n",
       "1                                      Moderately so                                                                                                                                                                                                                       \n",
       "\n",
       "  Please read the following statements and select the item to indicate how you generally feel most of the time. There’s no right or wrong answers and please don’t spend too much time on each statement [I take disappointments so keenly I can't put them out of my mind.]  \\\n",
       "0                                           Somewhat                                                                                                                                                                                                                           \n",
       "1                                      Moderately so                                                                                                                                                                                                                           \n",
       "\n",
       "  Please read the following statements and select the item to indicate how you generally feel most of the time. There’s no right or wrong answers and please don’t spend too much time on each statement [I am a steady person.]  \\\n",
       "0                                      Moderately so                                                                                                                                                                               \n",
       "1                                      Moderately so                                                                                                                                                                               \n",
       "\n",
       "  Please read the following statements and select the item to indicate how you generally feel most of the time. There’s no right or wrong answers and please don’t spend too much time on each statement [I get in a state of tension or turmoil as I think over my recent concerns and interests.]  \n",
       "0                                      Moderately so                                                                                                                                                                                                                                                 \n",
       "1                                      Moderately so                                                                                                                                                                                                                                                 \n",
       "\n",
       "[2 rows x 69 columns]"
      ]
     },
     "execution_count": 3,
     "metadata": {},
     "output_type": "execute_result"
    }
   ],
   "source": [
    "dfmind = pd.read_csv('Mindfulness_Responses.csv')\n",
    "dfmind"
   ]
  },
  {
   "cell_type": "code",
   "execution_count": 4,
   "id": "7017aab8-c8fd-41fc-9e61-9889b825d289",
   "metadata": {},
   "outputs": [
    {
     "data": {
      "text/html": [
       "<div>\n",
       "<style scoped>\n",
       "    .dataframe tbody tr th:only-of-type {\n",
       "        vertical-align: middle;\n",
       "    }\n",
       "\n",
       "    .dataframe tbody tr th {\n",
       "        vertical-align: top;\n",
       "    }\n",
       "\n",
       "    .dataframe thead th {\n",
       "        text-align: right;\n",
       "    }\n",
       "</style>\n",
       "<table border=\"1\" class=\"dataframe\">\n",
       "  <thead>\n",
       "    <tr style=\"text-align: right;\">\n",
       "      <th></th>\n",
       "      <th>Timestamp_x</th>\n",
       "      <th>Please enter your participant number</th>\n",
       "      <th>When is your date of birth?</th>\n",
       "      <th>Which sex were you assigned at birth?</th>\n",
       "      <th>What is your gender?</th>\n",
       "      <th>Do you have a diagnosis of psychiatric or neurological conditions?</th>\n",
       "      <th>If you responded 'yes' to the previous question, please indicate the diagnosis received.</th>\n",
       "      <th>Are you currently taking any psychiatric medication?</th>\n",
       "      <th>If you responded 'yes' to the previous question, please indicate the medication.</th>\n",
       "      <th>Have you consumed any food, drinks, or medications containing nicotine, caffeine, alcohol or other stimulants in the last 24 hours?</th>\n",
       "      <th>...</th>\n",
       "      <th>Please read the following statements and select the item to indicate how you generally feel most of the time. There’s no right or wrong answers and please don’t spend too much time on each statement [I have disturbing thoughts.]</th>\n",
       "      <th>Please read the following statements and select the item to indicate how you generally feel most of the time. There’s no right or wrong answers and please don’t spend too much time on each statement [I lack self-confidence.]</th>\n",
       "      <th>Please read the following statements and select the item to indicate how you generally feel most of the time. There’s no right or wrong answers and please don’t spend too much time on each statement [I feel secure.]</th>\n",
       "      <th>Please read the following statements and select the item to indicate how you generally feel most of the time. There’s no right or wrong answers and please don’t spend too much time on each statement [I make decisions easily.]</th>\n",
       "      <th>Please read the following statements and select the item to indicate how you generally feel most of the time. There’s no right or wrong answers and please don’t spend too much time on each statement [I feel inadequate.]</th>\n",
       "      <th>Please read the following statements and select the item to indicate how you generally feel most of the time. There’s no right or wrong answers and please don’t spend too much time on each statement [I am content.]</th>\n",
       "      <th>Please read the following statements and select the item to indicate how you generally feel most of the time. There’s no right or wrong answers and please don’t spend too much time on each statement [Some unimportant thought runs through my mind and bothers me.]</th>\n",
       "      <th>Please read the following statements and select the item to indicate how you generally feel most of the time. There’s no right or wrong answers and please don’t spend too much time on each statement [I take disappointments so keenly I can't put them out of my mind.]</th>\n",
       "      <th>Please read the following statements and select the item to indicate how you generally feel most of the time. There’s no right or wrong answers and please don’t spend too much time on each statement [I am a steady person.]</th>\n",
       "      <th>Please read the following statements and select the item to indicate how you generally feel most of the time. There’s no right or wrong answers and please don’t spend too much time on each statement [I get in a state of tension or turmoil as I think over my recent concerns and interests.]</th>\n",
       "    </tr>\n",
       "  </thead>\n",
       "  <tbody>\n",
       "    <tr>\n",
       "      <th>0</th>\n",
       "      <td>17/06/2023 20:51:03</td>\n",
       "      <td>90210</td>\n",
       "      <td>01/01/1999</td>\n",
       "      <td>Male</td>\n",
       "      <td>Male</td>\n",
       "      <td>No</td>\n",
       "      <td>NaN</td>\n",
       "      <td>No</td>\n",
       "      <td>NaN</td>\n",
       "      <td>No</td>\n",
       "      <td>...</td>\n",
       "      <td>Moderately so</td>\n",
       "      <td>Not at all</td>\n",
       "      <td>Very much so</td>\n",
       "      <td>Very much so</td>\n",
       "      <td>Very much so</td>\n",
       "      <td>Very much so</td>\n",
       "      <td>Moderately so</td>\n",
       "      <td>Somewhat</td>\n",
       "      <td>Moderately so</td>\n",
       "      <td>Moderately so</td>\n",
       "    </tr>\n",
       "    <tr>\n",
       "      <th>1</th>\n",
       "      <td>17/06/2023 21:10:06</td>\n",
       "      <td>21</td>\n",
       "      <td>02/03/2003</td>\n",
       "      <td>Female</td>\n",
       "      <td>Female</td>\n",
       "      <td>No</td>\n",
       "      <td>NaN</td>\n",
       "      <td>No</td>\n",
       "      <td>NaN</td>\n",
       "      <td>Yes</td>\n",
       "      <td>...</td>\n",
       "      <td>Moderately so</td>\n",
       "      <td>Moderately so</td>\n",
       "      <td>Moderately so</td>\n",
       "      <td>Moderately so</td>\n",
       "      <td>Moderately so</td>\n",
       "      <td>Moderately so</td>\n",
       "      <td>Moderately so</td>\n",
       "      <td>Moderately so</td>\n",
       "      <td>Moderately so</td>\n",
       "      <td>Moderately so</td>\n",
       "    </tr>\n",
       "  </tbody>\n",
       "</table>\n",
       "<p>2 rows × 218 columns</p>\n",
       "</div>"
      ],
      "text/plain": [
       "           Timestamp_x  Please enter your participant number  \\\n",
       "0  17/06/2023 20:51:03                                 90210   \n",
       "1  17/06/2023 21:10:06                                    21   \n",
       "\n",
       "  When is your date of birth? Which sex were you assigned at birth?  \\\n",
       "0                  01/01/1999                                  Male   \n",
       "1                  02/03/2003                                Female   \n",
       "\n",
       "  What is your gender?  \\\n",
       "0                 Male   \n",
       "1               Female   \n",
       "\n",
       "  Do you have a diagnosis of psychiatric or neurological conditions?  \\\n",
       "0                                                 No                   \n",
       "1                                                 No                   \n",
       "\n",
       "   If you responded 'yes' to the previous question, please indicate the diagnosis received.  \\\n",
       "0                                                NaN                                          \n",
       "1                                                NaN                                          \n",
       "\n",
       "  Are you currently taking any psychiatric medication?   \\\n",
       "0                                                 No      \n",
       "1                                                 No      \n",
       "\n",
       "   If you responded 'yes' to the previous question, please indicate the medication.   \\\n",
       "0                                                NaN                                   \n",
       "1                                                NaN                                   \n",
       "\n",
       "  Have you consumed any food, drinks, or medications containing nicotine, caffeine, alcohol or other stimulants in the last 24 hours?  \\\n",
       "0                                                 No                                                                                    \n",
       "1                                                Yes                                                                                    \n",
       "\n",
       "   ...  \\\n",
       "0  ...   \n",
       "1  ...   \n",
       "\n",
       "  Please read the following statements and select the item to indicate how you generally feel most of the time. There’s no right or wrong answers and please don’t spend too much time on each statement [I have disturbing thoughts.]  \\\n",
       "0                                      Moderately so                                                                                                                                                                                     \n",
       "1                                      Moderately so                                                                                                                                                                                     \n",
       "\n",
       "   Please read the following statements and select the item to indicate how you generally feel most of the time. There’s no right or wrong answers and please don’t spend too much time on each statement [I lack self-confidence.]  \\\n",
       "0                                         Not at all                                                                                                                                                                                  \n",
       "1                                      Moderately so                                                                                                                                                                                  \n",
       "\n",
       "   Please read the following statements and select the item to indicate how you generally feel most of the time. There’s no right or wrong answers and please don’t spend too much time on each statement [I feel secure.]  \\\n",
       "0                                       Very much so                                                                                                                                                                         \n",
       "1                                      Moderately so                                                                                                                                                                         \n",
       "\n",
       "   Please read the following statements and select the item to indicate how you generally feel most of the time. There’s no right or wrong answers and please don’t spend too much time on each statement [I make decisions easily.]  \\\n",
       "0                                       Very much so                                                                                                                                                                                   \n",
       "1                                      Moderately so                                                                                                                                                                                   \n",
       "\n",
       "   Please read the following statements and select the item to indicate how you generally feel most of the time. There’s no right or wrong answers and please don’t spend too much time on each statement [I feel inadequate.]  \\\n",
       "0                                       Very much so                                                                                                                                                                             \n",
       "1                                      Moderately so                                                                                                                                                                             \n",
       "\n",
       "   Please read the following statements and select the item to indicate how you generally feel most of the time. There’s no right or wrong answers and please don’t spend too much time on each statement [I am content.]  \\\n",
       "0                                       Very much so                                                                                                                                                                        \n",
       "1                                      Moderately so                                                                                                                                                                        \n",
       "\n",
       "   Please read the following statements and select the item to indicate how you generally feel most of the time. There’s no right or wrong answers and please don’t spend too much time on each statement [Some unimportant thought runs through my mind and bothers me.]  \\\n",
       "0                                      Moderately so                                                                                                                                                                                                                        \n",
       "1                                      Moderately so                                                                                                                                                                                                                        \n",
       "\n",
       "   Please read the following statements and select the item to indicate how you generally feel most of the time. There’s no right or wrong answers and please don’t spend too much time on each statement [I take disappointments so keenly I can't put them out of my mind.]  \\\n",
       "0                                           Somewhat                                                                                                                                                                                                                            \n",
       "1                                      Moderately so                                                                                                                                                                                                                            \n",
       "\n",
       "   Please read the following statements and select the item to indicate how you generally feel most of the time. There’s no right or wrong answers and please don’t spend too much time on each statement [I am a steady person.]  \\\n",
       "0                                      Moderately so                                                                                                                                                                                \n",
       "1                                      Moderately so                                                                                                                                                                                \n",
       "\n",
       "   Please read the following statements and select the item to indicate how you generally feel most of the time. There’s no right or wrong answers and please don’t spend too much time on each statement [I get in a state of tension or turmoil as I think over my recent concerns and interests.]  \n",
       "0                                      Moderately so                                                                                                                                                                                                                                                  \n",
       "1                                      Moderately so                                                                                                                                                                                                                                                  \n",
       "\n",
       "[2 rows x 218 columns]"
      ]
     },
     "execution_count": 4,
     "metadata": {},
     "output_type": "execute_result"
    }
   ],
   "source": [
    "dforig = dforig.merge(dfmind, on = \"Please enter your participant number\")\n",
    "dforig"
   ]
  },
  {
   "cell_type": "markdown",
   "id": "fa004806-2e6a-47bf-9e05-d6cc42e222fa",
   "metadata": {},
   "source": [
    "---"
   ]
  },
  {
   "cell_type": "markdown",
   "id": "085feb78-d59b-46f7-bba0-c5fe6f8e36da",
   "metadata": {
    "tags": []
   },
   "source": [
    "## Functions"
   ]
  },
  {
   "cell_type": "markdown",
   "id": "625225a7-87bb-4eb0-bcef-34f8f2c4945d",
   "metadata": {},
   "source": [
    "### All of these functions assumes numpy array | Tried class methods but too messy, may reconsider"
   ]
  },
  {
   "cell_type": "markdown",
   "id": "a0eebfa8-ea3e-48ef-8396-82e5556d5fce",
   "metadata": {},
   "source": [
    "#### Sum Whole Array"
   ]
  },
  {
   "cell_type": "code",
   "execution_count": 5,
   "id": "2574100e-b8fe-413c-9068-33a61a84951f",
   "metadata": {},
   "outputs": [],
   "source": [
    "def swa(na):\n",
    "    return np.round(np.sum(na),3)"
   ]
  },
  {
   "cell_type": "markdown",
   "id": "cddc1e0a-a570-438e-b381-2098865adfac",
   "metadata": {},
   "source": [
    "#### Sum Columns"
   ]
  },
  {
   "cell_type": "code",
   "execution_count": 6,
   "id": "17685d80-f9ba-4bd4-bf7a-55797fb47612",
   "metadata": {},
   "outputs": [],
   "source": [
    "def sc(na):\n",
    "    return np.round(np.sum(na, axis=0),3)"
   ]
  },
  {
   "cell_type": "markdown",
   "id": "97abcc0d-584c-4f7a-b77b-fe3df7fe8a25",
   "metadata": {},
   "source": [
    "#### Sum Rows"
   ]
  },
  {
   "cell_type": "code",
   "execution_count": 7,
   "id": "e94db894-49ab-4d69-8aca-fc3acbf53a58",
   "metadata": {},
   "outputs": [],
   "source": [
    "def sr(na):\n",
    "    return np.round(np.sum(na, axis=1),3)"
   ]
  },
  {
   "cell_type": "markdown",
   "id": "56fa22df-1a69-4046-891c-32117be83d8f",
   "metadata": {},
   "source": [
    "#### Mean Whole Array"
   ]
  },
  {
   "cell_type": "code",
   "execution_count": 8,
   "id": "e6d2a3bc-d79c-4a40-a64b-a4ce5a723fd2",
   "metadata": {},
   "outputs": [],
   "source": [
    "def mwa(na):\n",
    "    return np.round(np.mean(na), 3)"
   ]
  },
  {
   "cell_type": "markdown",
   "id": "59376dd6-6da3-49de-811f-37d63f67584b",
   "metadata": {},
   "source": [
    "#### Mean Columns"
   ]
  },
  {
   "cell_type": "code",
   "execution_count": 9,
   "id": "d816759f-048b-4e8c-90bc-de865ccd0111",
   "metadata": {},
   "outputs": [],
   "source": [
    "def mc(na):\n",
    "    return np.round(np.mean(na, axis=0), 3)"
   ]
  },
  {
   "cell_type": "markdown",
   "id": "65ca9b7f-a7c4-4001-a093-e5ac1239e90b",
   "metadata": {},
   "source": [
    "#### Mean Rows"
   ]
  },
  {
   "cell_type": "code",
   "execution_count": 10,
   "id": "06b7aa11-cc8c-4d32-962d-6e011c84d421",
   "metadata": {},
   "outputs": [],
   "source": [
    "def mr(na):\n",
    "    return np.round(np.mean(na, axis=1), 3)"
   ]
  },
  {
   "cell_type": "markdown",
   "id": "ed578504-cf13-4a6e-970b-e8b64b0e6bc0",
   "metadata": {},
   "source": [
    "#### SD Whole Array"
   ]
  },
  {
   "cell_type": "code",
   "execution_count": 11,
   "id": "f3dc7317-c368-460b-b475-b62169ad9225",
   "metadata": {},
   "outputs": [],
   "source": [
    "def sdwa(na):\n",
    "    return np.round(np.std(na), 3)"
   ]
  },
  {
   "cell_type": "markdown",
   "id": "a609741a-0e73-4d37-baa7-9cfb83236503",
   "metadata": {},
   "source": [
    "#### SD Columns"
   ]
  },
  {
   "cell_type": "code",
   "execution_count": 12,
   "id": "e7904484-6776-4f2d-844c-bca5c0d5ac09",
   "metadata": {},
   "outputs": [],
   "source": [
    "def sdc(na):\n",
    "    return np.round(np.std(na, axis=0), 3)"
   ]
  },
  {
   "cell_type": "markdown",
   "id": "d3e3212b-f5a2-4b4e-9854-efb2d6ec2280",
   "metadata": {},
   "source": [
    "#### SD Rows"
   ]
  },
  {
   "cell_type": "code",
   "execution_count": 13,
   "id": "de863c50-26b5-40b5-b066-5db5b3843019",
   "metadata": {},
   "outputs": [],
   "source": [
    "def sdr(na):\n",
    "    return np.round(np.std(na, axis=1), 3)"
   ]
  },
  {
   "cell_type": "markdown",
   "id": "78cc9c13-c38a-4a02-bade-055c62dd8913",
   "metadata": {},
   "source": [
    "---"
   ]
  },
  {
   "cell_type": "markdown",
   "id": "a467207e-5abd-4713-afa5-c3ca1dcb7aac",
   "metadata": {},
   "source": [
    "## Age, Sex, and Gender"
   ]
  },
  {
   "cell_type": "markdown",
   "id": "95c1afca-82ad-4c1a-920f-e39932936c26",
   "metadata": {},
   "source": [
    "### Sex and Gender"
   ]
  },
  {
   "cell_type": "code",
   "execution_count": 14,
   "id": "9214de27-b194-4ec9-bb4c-a105383f0f8e",
   "metadata": {},
   "outputs": [
    {
     "data": {
      "text/html": [
       "<div>\n",
       "<style scoped>\n",
       "    .dataframe tbody tr th:only-of-type {\n",
       "        vertical-align: middle;\n",
       "    }\n",
       "\n",
       "    .dataframe tbody tr th {\n",
       "        vertical-align: top;\n",
       "    }\n",
       "\n",
       "    .dataframe thead th {\n",
       "        text-align: right;\n",
       "    }\n",
       "</style>\n",
       "<table border=\"1\" class=\"dataframe\">\n",
       "  <thead>\n",
       "    <tr style=\"text-align: right;\">\n",
       "      <th></th>\n",
       "      <th>When is your date of birth?</th>\n",
       "      <th>Which sex were you assigned at birth?</th>\n",
       "      <th>What is your gender?</th>\n",
       "    </tr>\n",
       "  </thead>\n",
       "  <tbody>\n",
       "    <tr>\n",
       "      <th>0</th>\n",
       "      <td>01/01/1999</td>\n",
       "      <td>Male</td>\n",
       "      <td>Male</td>\n",
       "    </tr>\n",
       "    <tr>\n",
       "      <th>1</th>\n",
       "      <td>02/03/2003</td>\n",
       "      <td>Female</td>\n",
       "      <td>Female</td>\n",
       "    </tr>\n",
       "  </tbody>\n",
       "</table>\n",
       "</div>"
      ],
      "text/plain": [
       "  When is your date of birth? Which sex were you assigned at birth?  \\\n",
       "0                  01/01/1999                                  Male   \n",
       "1                  02/03/2003                                Female   \n",
       "\n",
       "  What is your gender?  \n",
       "0                 Male  \n",
       "1               Female  "
      ]
     },
     "execution_count": 14,
     "metadata": {},
     "output_type": "execute_result"
    }
   ],
   "source": [
    "dfasg = dforig.iloc[:, 2:5]\n",
    "dfasg"
   ]
  },
  {
   "cell_type": "markdown",
   "id": "531c93a2-222e-45b9-874f-b94e7a5371ac",
   "metadata": {},
   "source": [
    "#### Count"
   ]
  },
  {
   "cell_type": "code",
   "execution_count": 15,
   "id": "2213f6f4-fcc4-45d2-b2af-94cee29282b6",
   "metadata": {},
   "outputs": [
    {
     "data": {
      "text/plain": [
       "Which sex were you assigned at birth?  What is your gender?\n",
       "Female                                 Female                  1\n",
       "Male                                   Male                    1\n",
       "dtype: int64"
      ]
     },
     "execution_count": 15,
     "metadata": {},
     "output_type": "execute_result"
    }
   ],
   "source": [
    "dfc = dfasg.groupby(dfasg.columns[1:3].tolist()).size()\n",
    "dfc"
   ]
  },
  {
   "cell_type": "code",
   "execution_count": 16,
   "id": "d8c70db3-d09a-4cfd-89f6-857fb6ea3bb1",
   "metadata": {},
   "outputs": [
    {
     "data": {
      "text/plain": [
       "<AxesSubplot:title={'center':'Sex and Gender'}, xlabel='Sex and Gender', ylabel='Number'>"
      ]
     },
     "execution_count": 16,
     "metadata": {},
     "output_type": "execute_result"
    },
    {
     "data": {
      "text/plain": [
       "(array([0, 1]), [Text(0, 0, '(Female, Female)'), Text(1, 0, '(Male, Male)')])"
      ]
     },
     "execution_count": 16,
     "metadata": {},
     "output_type": "execute_result"
    },
    {
     "data": {
      "image/png": "[encoded data removed]",
      "text/plain": [
       "<Figure size 1000x600 with 1 Axes>"
      ]
     },
     "metadata": {},
     "output_type": "display_data"
    }
   ],
   "source": [
    "dfc.plot(kind='bar', title='Sex and Gender', ylabel='Number', xlabel='Sex and Gender', figsize=(10, 6))\n",
    "plt.xticks(rotation=0)"
   ]
  },
  {
   "cell_type": "markdown",
   "id": "5247ab1c-6213-4b6b-9aa1-6c74208934da",
   "metadata": {},
   "source": [
    "### Age"
   ]
  },
  {
   "cell_type": "code",
   "execution_count": 17,
   "id": "5606f202-a510-4370-b5ac-a4e3ac8547d2",
   "metadata": {},
   "outputs": [],
   "source": [
    "def ymd(dt):\n",
    "    bday = datetime.strptime(dt, \"%d/%m/%Y\").date()\n",
    "    today = date.today()\n",
    "    year = timedelta(days=365)\n",
    "    age = (today-bday)//year\n",
    "    return(age)"
   ]
  },
  {
   "cell_type": "code",
   "execution_count": 18,
   "id": "2899f1c9-6dca-4fa1-919c-380fc18b565a",
   "metadata": {},
   "outputs": [
    {
     "data": {
      "text/html": [
       "<div>\n",
       "<style scoped>\n",
       "    .dataframe tbody tr th:only-of-type {\n",
       "        vertical-align: middle;\n",
       "    }\n",
       "\n",
       "    .dataframe tbody tr th {\n",
       "        vertical-align: top;\n",
       "    }\n",
       "\n",
       "    .dataframe thead th {\n",
       "        text-align: right;\n",
       "    }\n",
       "</style>\n",
       "<table border=\"1\" class=\"dataframe\">\n",
       "  <thead>\n",
       "    <tr style=\"text-align: right;\">\n",
       "      <th></th>\n",
       "      <th>When is your date of birth?</th>\n",
       "      <th>Which sex were you assigned at birth?</th>\n",
       "      <th>What is your gender?</th>\n",
       "      <th>Age</th>\n",
       "    </tr>\n",
       "  </thead>\n",
       "  <tbody>\n",
       "    <tr>\n",
       "      <th>0</th>\n",
       "      <td>01/01/1999</td>\n",
       "      <td>Male</td>\n",
       "      <td>Male</td>\n",
       "      <td>24</td>\n",
       "    </tr>\n",
       "    <tr>\n",
       "      <th>1</th>\n",
       "      <td>02/03/2003</td>\n",
       "      <td>Female</td>\n",
       "      <td>Female</td>\n",
       "      <td>20</td>\n",
       "    </tr>\n",
       "  </tbody>\n",
       "</table>\n",
       "</div>"
      ],
      "text/plain": [
       "  When is your date of birth? Which sex were you assigned at birth?  \\\n",
       "0                  01/01/1999                                  Male   \n",
       "1                  02/03/2003                                Female   \n",
       "\n",
       "  What is your gender?  Age  \n",
       "0                 Male   24  \n",
       "1               Female   20  "
      ]
     },
     "execution_count": 18,
     "metadata": {},
     "output_type": "execute_result"
    }
   ],
   "source": [
    "dfasg['Age'] = dfasg.iloc[:, 0].apply(ymd)\n",
    "dfasg"
   ]
  },
  {
   "cell_type": "markdown",
   "id": "c9d54e70-0823-44aa-836d-8dcb63b16e7d",
   "metadata": {},
   "source": [
    "#### Mean, Standard Deviation"
   ]
  },
  {
   "cell_type": "code",
   "execution_count": 19,
   "id": "bff54cdf-13ab-4599-a442-294efeadf37c",
   "metadata": {},
   "outputs": [
    {
     "name": "stdout",
     "output_type": "stream",
     "text": [
      "Mean: 22.0 | SD: 2.0\n"
     ]
    }
   ],
   "source": [
    "age = np.array(dfasg['Age'])\n",
    "print(f'Mean: {mwa(age)} | SD: {sdwa(age)}')"
   ]
  },
  {
   "cell_type": "code",
   "execution_count": 20,
   "id": "458c502b-ff2a-4627-b971-55dfd3a04497",
   "metadata": {},
   "outputs": [
    {
     "data": {
      "text/plain": [
       "<BarContainer object of 2 artists>"
      ]
     },
     "execution_count": 20,
     "metadata": {},
     "output_type": "execute_result"
    },
    {
     "data": {
      "text/plain": [
       "Text(0, 0.5, 'Years')"
      ]
     },
     "execution_count": 20,
     "metadata": {},
     "output_type": "execute_result"
    },
    {
     "data": {
      "text/plain": [
       "Text(0.5, 1.0, 'Age')"
      ]
     },
     "execution_count": 20,
     "metadata": {},
     "output_type": "execute_result"
    },
    {
     "data": {
      "image/png": "[encoded data removed]",
      "text/plain": [
       "<Figure size 640x480 with 1 Axes>"
      ]
     },
     "metadata": {},
     "output_type": "display_data"
    }
   ],
   "source": [
    "plt.bar(['Mean', 'SD'] , [mwa(age), sdwa(age)])\n",
    "plt.ylabel('Years')\n",
    "plt.title('Age')"
   ]
  },
  {
   "cell_type": "markdown",
   "id": "446c56f1-835b-4cb9-b7d7-214d437ad239",
   "metadata": {},
   "source": [
    "---"
   ]
  },
  {
   "cell_type": "markdown",
   "id": "32c3a569-f3d3-4aae-bb0b-b9928bb53331",
   "metadata": {},
   "source": [
    "## Diagnoses, Medication, and Stimulants"
   ]
  },
  {
   "cell_type": "code",
   "execution_count": 21,
   "id": "b6d7321a-0c35-4e8a-9f74-767298894f63",
   "metadata": {},
   "outputs": [
    {
     "data": {
      "text/html": [
       "<div>\n",
       "<style scoped>\n",
       "    .dataframe tbody tr th:only-of-type {\n",
       "        vertical-align: middle;\n",
       "    }\n",
       "\n",
       "    .dataframe tbody tr th {\n",
       "        vertical-align: top;\n",
       "    }\n",
       "\n",
       "    .dataframe thead th {\n",
       "        text-align: right;\n",
       "    }\n",
       "</style>\n",
       "<table border=\"1\" class=\"dataframe\">\n",
       "  <thead>\n",
       "    <tr style=\"text-align: right;\">\n",
       "      <th></th>\n",
       "      <th>Do you have a diagnosis of psychiatric or neurological conditions?</th>\n",
       "      <th>If you responded 'yes' to the previous question, please indicate the diagnosis received.</th>\n",
       "      <th>Are you currently taking any psychiatric medication?</th>\n",
       "      <th>If you responded 'yes' to the previous question, please indicate the medication.</th>\n",
       "      <th>Have you consumed any food, drinks, or medications containing nicotine, caffeine, alcohol or other stimulants in the last 24 hours?</th>\n",
       "      <th>If you responded 'yes' to the previous question, please write below what you have consumed</th>\n",
       "    </tr>\n",
       "  </thead>\n",
       "  <tbody>\n",
       "    <tr>\n",
       "      <th>0</th>\n",
       "      <td>No</td>\n",
       "      <td>NaN</td>\n",
       "      <td>No</td>\n",
       "      <td>NaN</td>\n",
       "      <td>No</td>\n",
       "      <td>NaN</td>\n",
       "    </tr>\n",
       "    <tr>\n",
       "      <th>1</th>\n",
       "      <td>No</td>\n",
       "      <td>NaN</td>\n",
       "      <td>No</td>\n",
       "      <td>NaN</td>\n",
       "      <td>Yes</td>\n",
       "      <td>Cocktail</td>\n",
       "    </tr>\n",
       "  </tbody>\n",
       "</table>\n",
       "</div>"
      ],
      "text/plain": [
       "  Do you have a diagnosis of psychiatric or neurological conditions?  \\\n",
       "0                                                 No                   \n",
       "1                                                 No                   \n",
       "\n",
       "   If you responded 'yes' to the previous question, please indicate the diagnosis received.  \\\n",
       "0                                                NaN                                          \n",
       "1                                                NaN                                          \n",
       "\n",
       "  Are you currently taking any psychiatric medication?   \\\n",
       "0                                                 No      \n",
       "1                                                 No      \n",
       "\n",
       "   If you responded 'yes' to the previous question, please indicate the medication.   \\\n",
       "0                                                NaN                                   \n",
       "1                                                NaN                                   \n",
       "\n",
       "  Have you consumed any food, drinks, or medications containing nicotine, caffeine, alcohol or other stimulants in the last 24 hours?  \\\n",
       "0                                                 No                                                                                    \n",
       "1                                                Yes                                                                                    \n",
       "\n",
       "  If you responded 'yes' to the previous question, please write below what you have consumed  \n",
       "0                                                NaN                                          \n",
       "1                                           Cocktail                                          "
      ]
     },
     "execution_count": 21,
     "metadata": {},
     "output_type": "execute_result"
    }
   ],
   "source": [
    "dfdns = dforig.iloc[:, 5:11]\n",
    "dfdns"
   ]
  },
  {
   "cell_type": "markdown",
   "id": "ae5b938b-1114-4fb3-91ec-6846bfa8c07b",
   "metadata": {},
   "source": [
    "### Diagnoses"
   ]
  },
  {
   "cell_type": "markdown",
   "id": "c1a2d7a4-8cb4-4070-b4d8-f4cc7153834c",
   "metadata": {},
   "source": [
    "#### Count in total, Responses if Yes, and Index if Yes"
   ]
  },
  {
   "cell_type": "code",
   "execution_count": 22,
   "id": "6026e236-78d2-406e-a3fa-ca3172e88567",
   "metadata": {},
   "outputs": [
    {
     "data": {
      "text/plain": [
       "No    2\n",
       "Name: Do you have a diagnosis of psychiatric or neurological conditions?, dtype: int64"
      ]
     },
     "execution_count": 22,
     "metadata": {},
     "output_type": "execute_result"
    },
    {
     "data": {
      "text/plain": [
       "Series([], Name: If you responded 'yes' to the previous question, please indicate the diagnosis received., dtype: int64)"
      ]
     },
     "execution_count": 22,
     "metadata": {},
     "output_type": "execute_result"
    },
    {
     "data": {
      "text/plain": [
       "[]"
      ]
     },
     "execution_count": 22,
     "metadata": {},
     "output_type": "execute_result"
    }
   ],
   "source": [
    "dfdns.iloc[:, 0].value_counts()\n",
    "\n",
    "# Responses if yes\n",
    "dfdns.iloc[:, 1].value_counts()\n",
    "\n",
    "# Take note of index if yes \n",
    "dfdns.index[dfdns.iloc[:, 0] == 'Yes'].tolist()"
   ]
  },
  {
   "cell_type": "markdown",
   "id": "006f0c95-0482-41c1-bea0-ec0394d2a353",
   "metadata": {},
   "source": [
    "## Medication"
   ]
  },
  {
   "cell_type": "code",
   "execution_count": 23,
   "id": "10c7f934-3dda-4e62-98bc-c692fd998114",
   "metadata": {},
   "outputs": [
    {
     "data": {
      "text/plain": [
       "No    2\n",
       "Name: Are you currently taking any psychiatric medication? , dtype: int64"
      ]
     },
     "execution_count": 23,
     "metadata": {},
     "output_type": "execute_result"
    },
    {
     "data": {
      "text/plain": [
       "Series([], Name: If you responded 'yes' to the previous question, please indicate the medication. , dtype: int64)"
      ]
     },
     "execution_count": 23,
     "metadata": {},
     "output_type": "execute_result"
    },
    {
     "data": {
      "text/plain": [
       "[]"
      ]
     },
     "execution_count": 23,
     "metadata": {},
     "output_type": "execute_result"
    }
   ],
   "source": [
    "dfdns.iloc[:, 2].value_counts()\n",
    "\n",
    "# Responses if yes\n",
    "dfdns.iloc[:, 3].value_counts()\n",
    "\n",
    "# Take note of index if yes \n",
    "dfdns.index[dfdns.iloc[:, 2] == 'Yes'].tolist()"
   ]
  },
  {
   "cell_type": "markdown",
   "id": "038de812-0735-4dca-b176-7cab809b1149",
   "metadata": {},
   "source": [
    "### Stimulants"
   ]
  },
  {
   "cell_type": "markdown",
   "id": "ca7f1a68-b08b-45b1-a09c-65ccbcca59ea",
   "metadata": {},
   "source": [
    "#### Count in total, Responses if Yes, and Index if Yes"
   ]
  },
  {
   "cell_type": "code",
   "execution_count": 24,
   "id": "0ccf0647-5de2-4f9a-937e-74858a09078f",
   "metadata": {},
   "outputs": [
    {
     "data": {
      "text/plain": [
       "No     1\n",
       "Yes    1\n",
       "Name: Have you consumed any food, drinks, or medications containing nicotine, caffeine, alcohol or other stimulants in the last 24 hours?, dtype: int64"
      ]
     },
     "execution_count": 24,
     "metadata": {},
     "output_type": "execute_result"
    },
    {
     "data": {
      "text/plain": [
       "Cocktail    1\n",
       "Name: If you responded 'yes' to the previous question, please write below what you have consumed, dtype: int64"
      ]
     },
     "execution_count": 24,
     "metadata": {},
     "output_type": "execute_result"
    },
    {
     "data": {
      "text/plain": [
       "[1]"
      ]
     },
     "execution_count": 24,
     "metadata": {},
     "output_type": "execute_result"
    }
   ],
   "source": [
    "dfdns.iloc[:, 4].value_counts()\n",
    "\n",
    "# Should probably consider the categorisation of common responses i.e., Coffee, Tea)\n",
    "dfdns.iloc[:, 5].value_counts()\n",
    "\n",
    "# Take note of index if yes\n",
    "dfdns.index[dfdns.iloc[:, 4] == 'Yes'].tolist()"
   ]
  },
  {
   "cell_type": "markdown",
   "id": "1827c5f6-ec57-4098-8b26-a7e3df00d15d",
   "metadata": {},
   "source": [
    "---"
   ]
  },
  {
   "cell_type": "markdown",
   "id": "eb9cec73-a120-4b90-a7ae-d281adbdf314",
   "metadata": {
    "tags": []
   },
   "source": [
    "## One-Item liberalism vs Conservatism Scale"
   ]
  },
  {
   "cell_type": "code",
   "execution_count": 25,
   "id": "c6ea9d77-0de3-4430-9831-ed36c7a00c08",
   "metadata": {},
   "outputs": [
    {
     "data": {
      "text/plain": [
       "0   -4\n",
       "1    1\n",
       "Name: Instructions: Please indicate your political orientation on the scale below. [Political Orientation], dtype: int64"
      ]
     },
     "execution_count": 25,
     "metadata": {},
     "output_type": "execute_result"
    }
   ],
   "source": [
    "dfolc = dforig.iloc[:, 11]\n",
    "dfolc"
   ]
  },
  {
   "cell_type": "markdown",
   "id": "e59f26d4-dd73-422b-b126-30dcdb99ca69",
   "metadata": {},
   "source": [
    "### Descriptive Statistics"
   ]
  },
  {
   "cell_type": "code",
   "execution_count": 26,
   "id": "646c97cd-900c-4889-9ced-6cd2d8bfdbd9",
   "metadata": {},
   "outputs": [
    {
     "data": {
      "text/plain": [
       "-4    1\n",
       " 1    1\n",
       "Name: Instructions: Please indicate your political orientation on the scale below. [Political Orientation], dtype: int64"
      ]
     },
     "execution_count": 26,
     "metadata": {},
     "output_type": "execute_result"
    },
    {
     "name": "stdout",
     "output_type": "stream",
     "text": [
      "Mean: -1.5 | SD: 2.5\n"
     ]
    }
   ],
   "source": [
    "olc = np.array(dfolc)\n",
    "dfolc.value_counts()\n",
    "print(f'Mean: {mwa(olc)} | SD: {sdwa(olc)}')"
   ]
  },
  {
   "cell_type": "markdown",
   "id": "8b139250-b619-4a37-a283-e19d14c7d95b",
   "metadata": {},
   "source": [
    "---"
   ]
  },
  {
   "cell_type": "markdown",
   "id": "602d9987-11b2-4485-96c1-a5f1c6762fd4",
   "metadata": {},
   "source": [
    "## Updated Dogmatism Scale"
   ]
  },
  {
   "cell_type": "markdown",
   "id": "895aa852-d30c-4d2f-9686-fe479c24afd1",
   "metadata": {},
   "source": [
    "### Original Scores"
   ]
  },
  {
   "cell_type": "code",
   "execution_count": 27,
   "id": "6a9f109b-ebe9-47b8-824c-857caeaf4a9e",
   "metadata": {},
   "outputs": [
    {
     "data": {
      "text/html": [
       "<div>\n",
       "<style scoped>\n",
       "    .dataframe tbody tr th:only-of-type {\n",
       "        vertical-align: middle;\n",
       "    }\n",
       "\n",
       "    .dataframe tbody tr th {\n",
       "        vertical-align: top;\n",
       "    }\n",
       "\n",
       "    .dataframe thead th {\n",
       "        text-align: right;\n",
       "    }\n",
       "</style>\n",
       "<table border=\"1\" class=\"dataframe\">\n",
       "  <thead>\n",
       "    <tr style=\"text-align: right;\">\n",
       "      <th></th>\n",
       "      <th>People who disagree with me are usually wrong.</th>\n",
       "      <th>Having multiple perspectives on an issue is usually desirable.</th>\n",
       "      <th>There is a single correct way to do most things.</th>\n",
       "      <th>Diversity of opinion and background is valuable in any group or organization.</th>\n",
       "      <th>It is important to be open to different points of view.</th>\n",
       "      <th>I am a ‘‘my way or the highway’’ type of person.</th>\n",
       "      <th>There are often many different acceptable ways to solve a problem.</th>\n",
       "      <th>I consider myself to be very open-minded.</th>\n",
       "      <th>Different points of views should be encouraged.</th>\n",
       "      <th>People who are very different from us can be dangerous.</th>\n",
       "      <th>I am ‘‘set in my ways”.</th>\n",
       "    </tr>\n",
       "  </thead>\n",
       "  <tbody>\n",
       "    <tr>\n",
       "      <th>0</th>\n",
       "      <td>1</td>\n",
       "      <td>2</td>\n",
       "      <td>3</td>\n",
       "      <td>4</td>\n",
       "      <td>5</td>\n",
       "      <td>1</td>\n",
       "      <td>2</td>\n",
       "      <td>3</td>\n",
       "      <td>4</td>\n",
       "      <td>5</td>\n",
       "      <td>1</td>\n",
       "    </tr>\n",
       "    <tr>\n",
       "      <th>1</th>\n",
       "      <td>3</td>\n",
       "      <td>2</td>\n",
       "      <td>4</td>\n",
       "      <td>2</td>\n",
       "      <td>3</td>\n",
       "      <td>3</td>\n",
       "      <td>2</td>\n",
       "      <td>3</td>\n",
       "      <td>3</td>\n",
       "      <td>4</td>\n",
       "      <td>3</td>\n",
       "    </tr>\n",
       "  </tbody>\n",
       "</table>\n",
       "</div>"
      ],
      "text/plain": [
       "   People who disagree with me are usually wrong.  \\\n",
       "0                                               1   \n",
       "1                                               3   \n",
       "\n",
       "    Having multiple perspectives on an issue is usually desirable.  \\\n",
       "0                                                  2                 \n",
       "1                                                  2                 \n",
       "\n",
       "    There is a single correct way to do most things.  \\\n",
       "0                                                  3   \n",
       "1                                                  4   \n",
       "\n",
       "   Diversity of opinion and background is valuable in any group or organization.  \\\n",
       "0                                                  4                               \n",
       "1                                                  2                               \n",
       "\n",
       "    It is important to be open to different points of view.   \\\n",
       "0                                                  5           \n",
       "1                                                  3           \n",
       "\n",
       "   I am a ‘‘my way or the highway’’ type of person.  \\\n",
       "0                                                 1   \n",
       "1                                                 3   \n",
       "\n",
       "   There are often many different acceptable ways to solve a problem.  \\\n",
       "0                                                  2                    \n",
       "1                                                  2                    \n",
       "\n",
       "   I consider myself to be very open-minded.  \\\n",
       "0                                          3   \n",
       "1                                          3   \n",
       "\n",
       "   Different points of views should be encouraged.  \\\n",
       "0                                                4   \n",
       "1                                                3   \n",
       "\n",
       "   People who are very different from us can be dangerous.  \\\n",
       "0                                                  5         \n",
       "1                                                  4         \n",
       "\n",
       "    I am ‘‘set in my ways”.  \n",
       "0                         1  \n",
       "1                         3  "
      ]
     },
     "execution_count": 27,
     "metadata": {},
     "output_type": "execute_result"
    }
   ],
   "source": [
    "dfuds = dforig.iloc[:, 12:23]\n",
    "dfuds"
   ]
  },
  {
   "cell_type": "markdown",
   "id": "9212f76e-a63d-453d-b70d-6ad45dc9abd8",
   "metadata": {},
   "source": [
    "### Reverse Scoring"
   ]
  },
  {
   "cell_type": "code",
   "execution_count": 28,
   "id": "6276eda6-a661-43da-a8be-e3ebab67cf43",
   "metadata": {},
   "outputs": [
    {
     "data": {
      "text/html": [
       "<div>\n",
       "<style scoped>\n",
       "    .dataframe tbody tr th:only-of-type {\n",
       "        vertical-align: middle;\n",
       "    }\n",
       "\n",
       "    .dataframe tbody tr th {\n",
       "        vertical-align: top;\n",
       "    }\n",
       "\n",
       "    .dataframe thead th {\n",
       "        text-align: right;\n",
       "    }\n",
       "</style>\n",
       "<table border=\"1\" class=\"dataframe\">\n",
       "  <thead>\n",
       "    <tr style=\"text-align: right;\">\n",
       "      <th></th>\n",
       "      <th>People who disagree with me are usually wrong.</th>\n",
       "      <th>Having multiple perspectives on an issue is usually desirable.</th>\n",
       "      <th>There is a single correct way to do most things.</th>\n",
       "      <th>Diversity of opinion and background is valuable in any group or organization.</th>\n",
       "      <th>It is important to be open to different points of view.</th>\n",
       "      <th>I am a ‘‘my way or the highway’’ type of person.</th>\n",
       "      <th>There are often many different acceptable ways to solve a problem.</th>\n",
       "      <th>I consider myself to be very open-minded.</th>\n",
       "      <th>Different points of views should be encouraged.</th>\n",
       "      <th>People who are very different from us can be dangerous.</th>\n",
       "      <th>I am ‘‘set in my ways”.</th>\n",
       "    </tr>\n",
       "  </thead>\n",
       "  <tbody>\n",
       "    <tr>\n",
       "      <th>0</th>\n",
       "      <td>1</td>\n",
       "      <td>4</td>\n",
       "      <td>3</td>\n",
       "      <td>2</td>\n",
       "      <td>1</td>\n",
       "      <td>1</td>\n",
       "      <td>4</td>\n",
       "      <td>3</td>\n",
       "      <td>2</td>\n",
       "      <td>5</td>\n",
       "      <td>1</td>\n",
       "    </tr>\n",
       "    <tr>\n",
       "      <th>1</th>\n",
       "      <td>3</td>\n",
       "      <td>4</td>\n",
       "      <td>4</td>\n",
       "      <td>4</td>\n",
       "      <td>3</td>\n",
       "      <td>3</td>\n",
       "      <td>4</td>\n",
       "      <td>3</td>\n",
       "      <td>3</td>\n",
       "      <td>4</td>\n",
       "      <td>3</td>\n",
       "    </tr>\n",
       "  </tbody>\n",
       "</table>\n",
       "</div>"
      ],
      "text/plain": [
       "   People who disagree with me are usually wrong.  \\\n",
       "0                                               1   \n",
       "1                                               3   \n",
       "\n",
       "    Having multiple perspectives on an issue is usually desirable.  \\\n",
       "0                                                  4                 \n",
       "1                                                  4                 \n",
       "\n",
       "    There is a single correct way to do most things.  \\\n",
       "0                                                  3   \n",
       "1                                                  4   \n",
       "\n",
       "   Diversity of opinion and background is valuable in any group or organization.  \\\n",
       "0                                                  2                               \n",
       "1                                                  4                               \n",
       "\n",
       "    It is important to be open to different points of view.   \\\n",
       "0                                                  1           \n",
       "1                                                  3           \n",
       "\n",
       "   I am a ‘‘my way or the highway’’ type of person.  \\\n",
       "0                                                 1   \n",
       "1                                                 3   \n",
       "\n",
       "   There are often many different acceptable ways to solve a problem.  \\\n",
       "0                                                  4                    \n",
       "1                                                  4                    \n",
       "\n",
       "   I consider myself to be very open-minded.  \\\n",
       "0                                          3   \n",
       "1                                          3   \n",
       "\n",
       "   Different points of views should be encouraged.  \\\n",
       "0                                                2   \n",
       "1                                                3   \n",
       "\n",
       "   People who are very different from us can be dangerous.  \\\n",
       "0                                                  5         \n",
       "1                                                  4         \n",
       "\n",
       "    I am ‘‘set in my ways”.  \n",
       "0                         1  \n",
       "1                         3  "
      ]
     },
     "execution_count": 28,
     "metadata": {},
     "output_type": "execute_result"
    }
   ],
   "source": [
    "dfuds.iloc[:, [1, 3, 4, 6, 7, 8]] = 6 - dfuds.iloc[:, [1, 3, 4, 6, 7, 8]]\n",
    "dfuds"
   ]
  },
  {
   "cell_type": "markdown",
   "id": "70388155-11c0-46f6-a253-9c527bc4379c",
   "metadata": {},
   "source": [
    "### Descriptive Statistics"
   ]
  },
  {
   "cell_type": "code",
   "execution_count": 29,
   "id": "fa64dee1-4512-4cc5-a74f-86a81208bcba",
   "metadata": {},
   "outputs": [
    {
     "data": {
      "text/html": [
       "<div>\n",
       "<style scoped>\n",
       "    .dataframe tbody tr th:only-of-type {\n",
       "        vertical-align: middle;\n",
       "    }\n",
       "\n",
       "    .dataframe tbody tr th {\n",
       "        vertical-align: top;\n",
       "    }\n",
       "\n",
       "    .dataframe thead th {\n",
       "        text-align: right;\n",
       "    }\n",
       "</style>\n",
       "<table border=\"1\" class=\"dataframe\">\n",
       "  <thead>\n",
       "    <tr style=\"text-align: right;\">\n",
       "      <th></th>\n",
       "      <th>People who disagree with me are usually wrong.</th>\n",
       "      <th>Having multiple perspectives on an issue is usually desirable.</th>\n",
       "      <th>There is a single correct way to do most things.</th>\n",
       "      <th>Diversity of opinion and background is valuable in any group or organization.</th>\n",
       "      <th>It is important to be open to different points of view.</th>\n",
       "      <th>I am a ‘‘my way or the highway’’ type of person.</th>\n",
       "      <th>There are often many different acceptable ways to solve a problem.</th>\n",
       "      <th>I consider myself to be very open-minded.</th>\n",
       "      <th>Different points of views should be encouraged.</th>\n",
       "      <th>People who are very different from us can be dangerous.</th>\n",
       "      <th>I am ‘‘set in my ways”.</th>\n",
       "      <th>Total</th>\n",
       "      <th>Mean</th>\n",
       "    </tr>\n",
       "  </thead>\n",
       "  <tbody>\n",
       "    <tr>\n",
       "      <th>0</th>\n",
       "      <td>1</td>\n",
       "      <td>4</td>\n",
       "      <td>3</td>\n",
       "      <td>2</td>\n",
       "      <td>1</td>\n",
       "      <td>1</td>\n",
       "      <td>4</td>\n",
       "      <td>3</td>\n",
       "      <td>2</td>\n",
       "      <td>5</td>\n",
       "      <td>1</td>\n",
       "      <td>27</td>\n",
       "      <td>2.455</td>\n",
       "    </tr>\n",
       "    <tr>\n",
       "      <th>1</th>\n",
       "      <td>3</td>\n",
       "      <td>4</td>\n",
       "      <td>4</td>\n",
       "      <td>4</td>\n",
       "      <td>3</td>\n",
       "      <td>3</td>\n",
       "      <td>4</td>\n",
       "      <td>3</td>\n",
       "      <td>3</td>\n",
       "      <td>4</td>\n",
       "      <td>3</td>\n",
       "      <td>38</td>\n",
       "      <td>3.455</td>\n",
       "    </tr>\n",
       "  </tbody>\n",
       "</table>\n",
       "</div>"
      ],
      "text/plain": [
       "   People who disagree with me are usually wrong.  \\\n",
       "0                                               1   \n",
       "1                                               3   \n",
       "\n",
       "    Having multiple perspectives on an issue is usually desirable.  \\\n",
       "0                                                  4                 \n",
       "1                                                  4                 \n",
       "\n",
       "    There is a single correct way to do most things.  \\\n",
       "0                                                  3   \n",
       "1                                                  4   \n",
       "\n",
       "   Diversity of opinion and background is valuable in any group or organization.  \\\n",
       "0                                                  2                               \n",
       "1                                                  4                               \n",
       "\n",
       "    It is important to be open to different points of view.   \\\n",
       "0                                                  1           \n",
       "1                                                  3           \n",
       "\n",
       "   I am a ‘‘my way or the highway’’ type of person.  \\\n",
       "0                                                 1   \n",
       "1                                                 3   \n",
       "\n",
       "   There are often many different acceptable ways to solve a problem.  \\\n",
       "0                                                  4                    \n",
       "1                                                  4                    \n",
       "\n",
       "   I consider myself to be very open-minded.  \\\n",
       "0                                          3   \n",
       "1                                          3   \n",
       "\n",
       "   Different points of views should be encouraged.  \\\n",
       "0                                                2   \n",
       "1                                                3   \n",
       "\n",
       "   People who are very different from us can be dangerous.  \\\n",
       "0                                                  5         \n",
       "1                                                  4         \n",
       "\n",
       "    I am ‘‘set in my ways”.  Total   Mean  \n",
       "0                         1     27  2.455  \n",
       "1                         3     38  3.455  "
      ]
     },
     "execution_count": 29,
     "metadata": {},
     "output_type": "execute_result"
    }
   ],
   "source": [
    "udsr = np.array(dfuds.iloc[:, :11])\n",
    "dfuds['Total'] = sr(udsr)\n",
    "dfuds['Mean'] = mr(udsr)\n",
    "dfuds"
   ]
  },
  {
   "cell_type": "code",
   "execution_count": 30,
   "id": "f2005770-c591-4fc3-9082-cb59e939fc02",
   "metadata": {},
   "outputs": [
    {
     "data": {
      "text/plain": [
       "<BarContainer object of 11 artists>"
      ]
     },
     "execution_count": 30,
     "metadata": {},
     "output_type": "execute_result"
    },
    {
     "data": {
      "text/plain": [
       "Text(0.5, 1.0, 'Mean Composite Scores Across All Items')"
      ]
     },
     "execution_count": 30,
     "metadata": {},
     "output_type": "execute_result"
    },
    {
     "data": {
      "image/png": "[encoded data removed]",
      "text/plain": [
       "<Figure size 640x480 with 1 Axes>"
      ]
     },
     "metadata": {},
     "output_type": "display_data"
    }
   ],
   "source": [
    "sudsr = np.array(dfuds.iloc[:, :11])\n",
    "plt.bar(['1', '2', '3', '4', '5', '6', '7', '8', '9', '10', '11'],\n",
    "        mc(sudsr))\n",
    "plt.title('Mean Composite Scores Across All Items')"
   ]
  },
  {
   "cell_type": "code",
   "execution_count": 31,
   "id": "ecd47abb-b28e-4dd2-9bee-74d7987bfd24",
   "metadata": {},
   "outputs": [
    {
     "data": {
      "text/plain": [
       "<BarContainer object of 2 artists>"
      ]
     },
     "execution_count": 31,
     "metadata": {},
     "output_type": "execute_result"
    },
    {
     "data": {
      "text/plain": [
       "Text(0.5, 1.0, 'Total Per Participant')"
      ]
     },
     "execution_count": 31,
     "metadata": {},
     "output_type": "execute_result"
    },
    {
     "data": {
      "image/png": "[encoded data removed]",
      "text/plain": [
       "<Figure size 640x480 with 1 Axes>"
      ]
     },
     "metadata": {},
     "output_type": "display_data"
    }
   ],
   "source": [
    "plt.bar(dfuds.index.tolist(), dfuds.iloc[:,11])\n",
    "plt.title('Total Per Participant')"
   ]
  },
  {
   "cell_type": "markdown",
   "id": "4a82321a-aef4-45f0-b6bd-4cb2854c0251",
   "metadata": {},
   "source": [
    "---"
   ]
  },
  {
   "cell_type": "markdown",
   "id": "d23c9c3f-ff55-474d-a041-3f285e6d7755",
   "metadata": {
    "tags": []
   },
   "source": [
    "## Centrality of Religious Scale - 5"
   ]
  },
  {
   "cell_type": "markdown",
   "id": "a2b9830d-8230-4435-a995-8b40a277ba72",
   "metadata": {},
   "source": [
    "#### Coding freq based on [Huber and Huber (2012)](https://www.mdpi.com/2077-1444/3/3/710)"
   ]
  },
  {
   "cell_type": "markdown",
   "id": "f37cf21e-9ee9-436b-9add-3e9aec006b8f",
   "metadata": {},
   "source": [
    "### Original Scoring"
   ]
  },
  {
   "cell_type": "code",
   "execution_count": 32,
   "id": "510434e4-b8e1-4ba6-b80a-a67f4b974834",
   "metadata": {},
   "outputs": [
    {
     "data": {
      "text/html": [
       "<div>\n",
       "<style scoped>\n",
       "    .dataframe tbody tr th:only-of-type {\n",
       "        vertical-align: middle;\n",
       "    }\n",
       "\n",
       "    .dataframe tbody tr th {\n",
       "        vertical-align: top;\n",
       "    }\n",
       "\n",
       "    .dataframe thead th {\n",
       "        text-align: right;\n",
       "    }\n",
       "</style>\n",
       "<table border=\"1\" class=\"dataframe\">\n",
       "  <thead>\n",
       "    <tr style=\"text-align: right;\">\n",
       "      <th></th>\n",
       "      <th>How often do you think about religious issues? [How often do you think about religious issues?]</th>\n",
       "      <th>To what extent do you believe that God or something divine exists? [To what extent do you believe that God or something divine exists?]</th>\n",
       "      <th>How often do you take part in religious services? [How often do you take part in religious services?]</th>\n",
       "      <th>How often do you pray? [How often do you pray?]</th>\n",
       "      <th>How often do you experience situations in which you have the feeling that God or something divine intervenes in your life? [How often do you experience situations in which you have the feeling that God or something divine intervenes in your life?]</th>\n",
       "    </tr>\n",
       "  </thead>\n",
       "  <tbody>\n",
       "    <tr>\n",
       "      <th>0</th>\n",
       "      <td>2 (Rarely)</td>\n",
       "      <td>3 (Moderately)</td>\n",
       "      <td>4 (Often)</td>\n",
       "      <td>5 (Very Often)</td>\n",
       "      <td>1 (Never)</td>\n",
       "    </tr>\n",
       "    <tr>\n",
       "      <th>1</th>\n",
       "      <td>2 (Rarely)</td>\n",
       "      <td>3 (Moderately)</td>\n",
       "      <td>2 (Rarely)</td>\n",
       "      <td>4 (Often)</td>\n",
       "      <td>3 (Occasionally)</td>\n",
       "    </tr>\n",
       "  </tbody>\n",
       "</table>\n",
       "</div>"
      ],
      "text/plain": [
       "  How often do you think about religious issues? [How often do you think about religious issues?]  \\\n",
       "0                                         2 (Rarely)                                                \n",
       "1                                         2 (Rarely)                                                \n",
       "\n",
       "  To what extent do you believe that God or something divine exists? [To what extent do you believe that God or something divine exists?]  \\\n",
       "0                                     3 (Moderately)                                                                                        \n",
       "1                                     3 (Moderately)                                                                                        \n",
       "\n",
       "  How often do you take part in religious services? [How often do you take part in religious services?]  \\\n",
       "0                                          4 (Often)                                                      \n",
       "1                                         2 (Rarely)                                                      \n",
       "\n",
       "  How often do you pray? [How often do you pray?]  \\\n",
       "0                                  5 (Very Often)   \n",
       "1                                       4 (Often)   \n",
       "\n",
       "  How often do you experience situations in which you have the feeling that God or something divine intervenes in your life? [How often do you experience situations in which you have the feeling that God or something divine intervenes in your life?]  \n",
       "0                                          1 (Never)                                                                                                                                                                                                       \n",
       "1                                   3 (Occasionally)                                                                                                                                                                                                       "
      ]
     },
     "execution_count": 32,
     "metadata": {},
     "output_type": "execute_result"
    }
   ],
   "source": [
    "dfcrs = dforig.iloc[:, 23:28]\n",
    "dfcrs"
   ]
  },
  {
   "cell_type": "markdown",
   "id": "0567aa31-55a8-4960-8042-565c911ca242",
   "metadata": {},
   "source": [
    "### Mapped and Named"
   ]
  },
  {
   "cell_type": "code",
   "execution_count": 33,
   "id": "42bf3f51-0e48-46ec-80dc-360961bf3016",
   "metadata": {},
   "outputs": [
    {
     "data": {
      "text/html": [
       "<div>\n",
       "<style scoped>\n",
       "    .dataframe tbody tr th:only-of-type {\n",
       "        vertical-align: middle;\n",
       "    }\n",
       "\n",
       "    .dataframe tbody tr th {\n",
       "        vertical-align: top;\n",
       "    }\n",
       "\n",
       "    .dataframe thead th {\n",
       "        text-align: right;\n",
       "    }\n",
       "</style>\n",
       "<table border=\"1\" class=\"dataframe\">\n",
       "  <thead>\n",
       "    <tr style=\"text-align: right;\">\n",
       "      <th></th>\n",
       "      <th>Intellect</th>\n",
       "      <th>Ideology</th>\n",
       "      <th>Public Practice</th>\n",
       "      <th>Private Practice</th>\n",
       "      <th>Experience</th>\n",
       "    </tr>\n",
       "  </thead>\n",
       "  <tbody>\n",
       "    <tr>\n",
       "      <th>0</th>\n",
       "      <td>2</td>\n",
       "      <td>3</td>\n",
       "      <td>4</td>\n",
       "      <td>5</td>\n",
       "      <td>1</td>\n",
       "    </tr>\n",
       "    <tr>\n",
       "      <th>1</th>\n",
       "      <td>2</td>\n",
       "      <td>3</td>\n",
       "      <td>2</td>\n",
       "      <td>4</td>\n",
       "      <td>3</td>\n",
       "    </tr>\n",
       "  </tbody>\n",
       "</table>\n",
       "</div>"
      ],
      "text/plain": [
       "   Intellect  Ideology  Public Practice  Private Practice  Experience\n",
       "0          2         3                4                 5           1\n",
       "1          2         3                2                 4           3"
      ]
     },
     "execution_count": 33,
     "metadata": {},
     "output_type": "execute_result"
    }
   ],
   "source": [
    "dfcrs.rename(columns = {\n",
    "                        dfcrs.columns[0]: 'Intellect', \n",
    "                        dfcrs.columns[1]: 'Ideology', \n",
    "                        dfcrs.columns[2]: 'Public Practice', \n",
    "                        dfcrs.columns[3]: 'Private Practice', \n",
    "                        dfcrs.columns[4]: 'Experience'},\n",
    "             inplace = True)\n",
    "\n",
    "scoring = {**dict.fromkeys(['1 (Never)', '1 (Not at all)'], 1), \n",
    "           **dict.fromkeys(['2 (Rarely)', '2 (Not very much)'], 2), \n",
    "           **dict.fromkeys(['3 (Occasionally)', '3 (Moderately)'], 3),\n",
    "           **dict.fromkeys(['4 (Often)', '4 (Quite a bit)'], 4),\n",
    "           **dict.fromkeys(['5 (Very Often)', '5 (Very much so)'], 5)\n",
    "          }\n",
    "\n",
    "dfcrs.replace(scoring, inplace = True)\n",
    "dfcrs"
   ]
  },
  {
   "cell_type": "markdown",
   "id": "428567bf-a585-4f8a-a03a-b531bbb982c2",
   "metadata": {},
   "source": [
    "### Descriptive Stats "
   ]
  },
  {
   "cell_type": "code",
   "execution_count": 34,
   "id": "68239edf-f039-450f-a070-89cc9c33986c",
   "metadata": {},
   "outputs": [],
   "source": [
    "crsd = np.array(dfcrs)\n",
    "dfcrs['Religious Score(M)'] = mr(crsd)\n",
    "crsd = np.array(dfcrs)\n",
    "\n",
    "stacked = np.stack((sc(crsd), mc(crsd)))\n",
    "sum_mean = pd.DataFrame(stacked, index = ['Sum', 'Mean'], columns = dfcrs.columns)"
   ]
  },
  {
   "cell_type": "code",
   "execution_count": 35,
   "id": "d8831c4c-79f6-4cfb-9a05-4c43194ffd0c",
   "metadata": {},
   "outputs": [
    {
     "data": {
      "text/html": [
       "<div>\n",
       "<style scoped>\n",
       "    .dataframe tbody tr th:only-of-type {\n",
       "        vertical-align: middle;\n",
       "    }\n",
       "\n",
       "    .dataframe tbody tr th {\n",
       "        vertical-align: top;\n",
       "    }\n",
       "\n",
       "    .dataframe thead th {\n",
       "        text-align: right;\n",
       "    }\n",
       "</style>\n",
       "<table border=\"1\" class=\"dataframe\">\n",
       "  <thead>\n",
       "    <tr style=\"text-align: right;\">\n",
       "      <th></th>\n",
       "      <th>Intellect</th>\n",
       "      <th>Ideology</th>\n",
       "      <th>Public Practice</th>\n",
       "      <th>Private Practice</th>\n",
       "      <th>Experience</th>\n",
       "      <th>Religious Score(M)</th>\n",
       "      <th>Religiosity</th>\n",
       "    </tr>\n",
       "  </thead>\n",
       "  <tbody>\n",
       "    <tr>\n",
       "      <th>0</th>\n",
       "      <td>2</td>\n",
       "      <td>3</td>\n",
       "      <td>4</td>\n",
       "      <td>5</td>\n",
       "      <td>1</td>\n",
       "      <td>3.0</td>\n",
       "      <td>Religious</td>\n",
       "    </tr>\n",
       "    <tr>\n",
       "      <th>1</th>\n",
       "      <td>2</td>\n",
       "      <td>3</td>\n",
       "      <td>2</td>\n",
       "      <td>4</td>\n",
       "      <td>3</td>\n",
       "      <td>2.8</td>\n",
       "      <td>Religious</td>\n",
       "    </tr>\n",
       "  </tbody>\n",
       "</table>\n",
       "</div>"
      ],
      "text/plain": [
       "   Intellect  Ideology  Public Practice  Private Practice  Experience  \\\n",
       "0          2         3                4                 5           1   \n",
       "1          2         3                2                 4           3   \n",
       "\n",
       "   Religious Score(M) Religiosity  \n",
       "0                 3.0   Religious  \n",
       "1                 2.8   Religious  "
      ]
     },
     "execution_count": 35,
     "metadata": {},
     "output_type": "execute_result"
    }
   ],
   "source": [
    "def rel(df):\n",
    "    if df < 2.1:\n",
    "        return \"Not-religious\"\n",
    "    elif df > 2.0 and df < 4.0:\n",
    "        return \"Religious\"\n",
    "    elif df > 3.9:\n",
    "        return \"Highly Religious\"\n",
    "\n",
    "dfcrs['Religiosity'] = dfcrs['Religious Score(M)'].apply(rel)\n",
    "dfcrs"
   ]
  },
  {
   "cell_type": "code",
   "execution_count": 36,
   "id": "4c17e900-e32c-4be1-a088-c4348480b712",
   "metadata": {},
   "outputs": [
    {
     "data": {
      "text/html": [
       "<div>\n",
       "<style scoped>\n",
       "    .dataframe tbody tr th:only-of-type {\n",
       "        vertical-align: middle;\n",
       "    }\n",
       "\n",
       "    .dataframe tbody tr th {\n",
       "        vertical-align: top;\n",
       "    }\n",
       "\n",
       "    .dataframe thead th {\n",
       "        text-align: right;\n",
       "    }\n",
       "</style>\n",
       "<table border=\"1\" class=\"dataframe\">\n",
       "  <thead>\n",
       "    <tr style=\"text-align: right;\">\n",
       "      <th></th>\n",
       "      <th>Intellect</th>\n",
       "      <th>Ideology</th>\n",
       "      <th>Public Practice</th>\n",
       "      <th>Private Practice</th>\n",
       "      <th>Experience</th>\n",
       "      <th>Religious Score(M)</th>\n",
       "    </tr>\n",
       "  </thead>\n",
       "  <tbody>\n",
       "    <tr>\n",
       "      <th>Sum</th>\n",
       "      <td>4.0</td>\n",
       "      <td>6.0</td>\n",
       "      <td>6.0</td>\n",
       "      <td>9.0</td>\n",
       "      <td>4.0</td>\n",
       "      <td>5.8</td>\n",
       "    </tr>\n",
       "    <tr>\n",
       "      <th>Mean</th>\n",
       "      <td>2.0</td>\n",
       "      <td>3.0</td>\n",
       "      <td>3.0</td>\n",
       "      <td>4.5</td>\n",
       "      <td>2.0</td>\n",
       "      <td>2.9</td>\n",
       "    </tr>\n",
       "  </tbody>\n",
       "</table>\n",
       "</div>"
      ],
      "text/plain": [
       "      Intellect  Ideology  Public Practice  Private Practice  Experience  \\\n",
       "Sum         4.0       6.0              6.0               9.0         4.0   \n",
       "Mean        2.0       3.0              3.0               4.5         2.0   \n",
       "\n",
       "      Religious Score(M)  \n",
       "Sum                  5.8  \n",
       "Mean                 2.9  "
      ]
     },
     "execution_count": 36,
     "metadata": {},
     "output_type": "execute_result"
    },
    {
     "name": "stdout",
     "output_type": "stream",
     "text": [
      "Standard Deviation of Religious Score: 0.1\n"
     ]
    }
   ],
   "source": [
    "sum_mean\n",
    "x = np.array(dfcrs['Religious Score(M)'])\n",
    "print(f'Standard Deviation of Religious Score: {sdwa(np.array(x))}')"
   ]
  },
  {
   "cell_type": "code",
   "execution_count": 37,
   "id": "eb2f6338-efd0-4557-98fc-3f6a05469516",
   "metadata": {},
   "outputs": [
    {
     "data": {
      "text/plain": [
       "<AxesSubplot:title={'center':'Mean Scores'}, ylabel='Score'>"
      ]
     },
     "execution_count": 37,
     "metadata": {},
     "output_type": "execute_result"
    },
    {
     "data": {
      "text/plain": [
       "(array([0, 1, 2, 3, 4, 5]),\n",
       " [Text(0, 0, 'Intellect'),\n",
       "  Text(1, 0, 'Ideology'),\n",
       "  Text(2, 0, 'Public Practice'),\n",
       "  Text(3, 0, 'Private Practice'),\n",
       "  Text(4, 0, 'Experience'),\n",
       "  Text(5, 0, 'Religious Score(M)')])"
      ]
     },
     "execution_count": 37,
     "metadata": {},
     "output_type": "execute_result"
    },
    {
     "data": {
      "image/png": "[encoded data removed]",
      "text/plain": [
       "<Figure size 1000x600 with 1 Axes>"
      ]
     },
     "metadata": {},
     "output_type": "display_data"
    }
   ],
   "source": [
    "sum_mean.iloc[1, :].plot(kind = 'bar', title='Mean Scores', ylabel='Score', figsize=(10, 6))\n",
    "plt.xticks(rotation=0)"
   ]
  },
  {
   "cell_type": "code",
   "execution_count": 38,
   "id": "a2a0d54a-3b98-4536-9fac-aff3886d8f9b",
   "metadata": {},
   "outputs": [
    {
     "data": {
      "text/plain": [
       "<AxesSubplot:title={'center':'Religiosity Frequency'}, ylabel='Frequency'>"
      ]
     },
     "execution_count": 38,
     "metadata": {},
     "output_type": "execute_result"
    },
    {
     "data": {
      "text/plain": [
       "(array([0]), [Text(0, 0, 'Religious')])"
      ]
     },
     "execution_count": 38,
     "metadata": {},
     "output_type": "execute_result"
    },
    {
     "data": {
      "text/plain": [
       "Religious    2\n",
       "Name: Religiosity, dtype: int64"
      ]
     },
     "execution_count": 38,
     "metadata": {},
     "output_type": "execute_result"
    },
    {
     "data": {
      "image/png": "[encoded data removed]",
      "text/plain": [
       "<Figure size 1000x600 with 1 Axes>"
      ]
     },
     "metadata": {},
     "output_type": "display_data"
    }
   ],
   "source": [
    "dfcrs['Religiosity'].value_counts().plot(kind = 'bar', title='Religiosity Frequency', ylabel='Frequency', figsize=(10, 6))\n",
    "plt.xticks(rotation=0)\n",
    "\n",
    "dfcrs['Religiosity'].value_counts()"
   ]
  },
  {
   "cell_type": "code",
   "execution_count": 39,
   "id": "5f92f81f-1a3f-4dd6-aba9-2600cf476323",
   "metadata": {},
   "outputs": [
    {
     "data": {
      "text/plain": [
       "<BarContainer object of 2 artists>"
      ]
     },
     "execution_count": 39,
     "metadata": {},
     "output_type": "execute_result"
    },
    {
     "data": {
      "text/plain": [
       "Text(0.5, 1.0, 'Mean Per Participant')"
      ]
     },
     "execution_count": 39,
     "metadata": {},
     "output_type": "execute_result"
    },
    {
     "data": {
      "image/png": "[encoded data removed]",
      "text/plain": [
       "<Figure size 640x480 with 1 Axes>"
      ]
     },
     "metadata": {},
     "output_type": "display_data"
    }
   ],
   "source": [
    "plt.bar(dfcrs.index.tolist(), dfcrs['Religious Score(M)'])\n",
    "plt.title('Mean Per Participant')"
   ]
  },
  {
   "cell_type": "markdown",
   "id": "33d4ef9b-3774-415d-98f8-ac451f942f40",
   "metadata": {},
   "source": [
    "---"
   ]
  },
  {
   "cell_type": "markdown",
   "id": "f0213872-7d32-4580-ad02-8ee4362307f5",
   "metadata": {
    "tags": []
   },
   "source": [
    "## Intolerance of Uncertainty Scale - Short Version"
   ]
  },
  {
   "cell_type": "markdown",
   "id": "72b3b7c9-9dd6-4dd7-9914-3d4c6e92d278",
   "metadata": {},
   "source": [
    "### Original Scores"
   ]
  },
  {
   "cell_type": "code",
   "execution_count": 40,
   "id": "168467a2-d2fa-49d5-9976-09d1a9698283",
   "metadata": {},
   "outputs": [
    {
     "data": {
      "text/html": [
       "<div>\n",
       "<style scoped>\n",
       "    .dataframe tbody tr th:only-of-type {\n",
       "        vertical-align: middle;\n",
       "    }\n",
       "\n",
       "    .dataframe tbody tr th {\n",
       "        vertical-align: top;\n",
       "    }\n",
       "\n",
       "    .dataframe thead th {\n",
       "        text-align: right;\n",
       "    }\n",
       "</style>\n",
       "<table border=\"1\" class=\"dataframe\">\n",
       "  <thead>\n",
       "    <tr style=\"text-align: right;\">\n",
       "      <th></th>\n",
       "      <th>Please choose the number that best corresponds to how much you agree with each point. [Unforeseen events upset me greatly.]</th>\n",
       "      <th>Please choose the number that best corresponds to how much you agree with each point. [It frustrates me not having all the information I need.]</th>\n",
       "      <th>Please choose the number that best corresponds to how much you agree with each point. [One should always look ahead so as to avoid surprises.]</th>\n",
       "      <th>Please choose the number that best corresponds to how much you agree with each point. [A small, unforeseen event can spoil everything, even with the best of planning.]</th>\n",
       "      <th>Please choose the number that best corresponds to how much you agree with each point. [I always want to know what the future has in store for me.]</th>\n",
       "      <th>Please choose the number that best corresponds to how much you agree with each point. [I can’t stand being taken by surprise.]</th>\n",
       "      <th>Please choose the number that best corresponds to how much you agree with each point. [I should be able to organize everything in advance]</th>\n",
       "      <th>Please choose the number that best corresponds to how much you agree with each point. [Uncertainty keeps me from living a full life.]</th>\n",
       "      <th>Please choose the number that best corresponds to how much you agree with each point. [When it’s time to act, uncertainty paralyzes me.]</th>\n",
       "      <th>Please choose the number that best corresponds to how much you agree with each point. [When I am uncertain I can’t function very well.]</th>\n",
       "      <th>Please choose the number that best corresponds to how much you agree with each point. [The smallest doubt can stop me from acting.]</th>\n",
       "      <th>Please choose the number that best corresponds to how much you agree with each point. [I must get away from all uncertain situations.]</th>\n",
       "    </tr>\n",
       "  </thead>\n",
       "  <tbody>\n",
       "    <tr>\n",
       "      <th>0</th>\n",
       "      <td>2</td>\n",
       "      <td>3 (Somewhat characteristic of me)</td>\n",
       "      <td>4</td>\n",
       "      <td>5 (Entirely characteristic of me)</td>\n",
       "      <td>1 (Not at all characteristic of me)</td>\n",
       "      <td>2</td>\n",
       "      <td>3 (Somewhat characteristic of me)</td>\n",
       "      <td>4</td>\n",
       "      <td>5 (Entirely characteristic of me)</td>\n",
       "      <td>1 (Not at all characteristic of me)</td>\n",
       "      <td>2</td>\n",
       "      <td>3 (Somewhat characteristic of me)</td>\n",
       "    </tr>\n",
       "    <tr>\n",
       "      <th>1</th>\n",
       "      <td>2</td>\n",
       "      <td>3 (Somewhat characteristic of me)</td>\n",
       "      <td>3 (Somewhat characteristic of me)</td>\n",
       "      <td>4</td>\n",
       "      <td>2</td>\n",
       "      <td>2</td>\n",
       "      <td>3 (Somewhat characteristic of me)</td>\n",
       "      <td>3 (Somewhat characteristic of me)</td>\n",
       "      <td>4</td>\n",
       "      <td>3 (Somewhat characteristic of me)</td>\n",
       "      <td>3 (Somewhat characteristic of me)</td>\n",
       "      <td>4</td>\n",
       "    </tr>\n",
       "  </tbody>\n",
       "</table>\n",
       "</div>"
      ],
      "text/plain": [
       "   Please choose the number that best corresponds to how much you agree with each point. [Unforeseen events upset me greatly.]  \\\n",
       "0                                                  2                                                                             \n",
       "1                                                  2                                                                             \n",
       "\n",
       "  Please choose the number that best corresponds to how much you agree with each point. [It frustrates me not having all the information I need.]  \\\n",
       "0                  3 (Somewhat characteristic of me)                                                                                                \n",
       "1                  3 (Somewhat characteristic of me)                                                                                                \n",
       "\n",
       "  Please choose the number that best corresponds to how much you agree with each point. [One should always look ahead so as to avoid surprises.]  \\\n",
       "0                                                  4                                                                                               \n",
       "1                  3 (Somewhat characteristic of me)                                                                                               \n",
       "\n",
       "  Please choose the number that best corresponds to how much you agree with each point. [A small, unforeseen event can spoil everything, even with the best of planning.]  \\\n",
       "0                  5 (Entirely characteristic of me)                                                                                                                        \n",
       "1                                                  4                                                                                                                        \n",
       "\n",
       "  Please choose the number that best corresponds to how much you agree with each point. [I always want to know what the future has in store for me.]  \\\n",
       "0                1 (Not at all characteristic of me)                                                                                                   \n",
       "1                                                  2                                                                                                   \n",
       "\n",
       "   Please choose the number that best corresponds to how much you agree with each point. [I can’t stand being taken by surprise.]  \\\n",
       "0                                                  2                                                                                \n",
       "1                                                  2                                                                                \n",
       "\n",
       "  Please choose the number that best corresponds to how much you agree with each point. [I should be able to organize everything in advance]  \\\n",
       "0                  3 (Somewhat characteristic of me)                                                                                           \n",
       "1                  3 (Somewhat characteristic of me)                                                                                           \n",
       "\n",
       "  Please choose the number that best corresponds to how much you agree with each point. [Uncertainty keeps me from living a full life.]  \\\n",
       "0                                                  4                                                                                      \n",
       "1                  3 (Somewhat characteristic of me)                                                                                      \n",
       "\n",
       "  Please choose the number that best corresponds to how much you agree with each point. [When it’s time to act, uncertainty paralyzes me.]  \\\n",
       "0                  5 (Entirely characteristic of me)                                                                                         \n",
       "1                                                  4                                                                                         \n",
       "\n",
       "  Please choose the number that best corresponds to how much you agree with each point. [When I am uncertain I can’t function very well.]  \\\n",
       "0                1 (Not at all characteristic of me)                                                                                        \n",
       "1                  3 (Somewhat characteristic of me)                                                                                        \n",
       "\n",
       "  Please choose the number that best corresponds to how much you agree with each point. [The smallest doubt can stop me from acting.]  \\\n",
       "0                                                  2                                                                                    \n",
       "1                  3 (Somewhat characteristic of me)                                                                                    \n",
       "\n",
       "  Please choose the number that best corresponds to how much you agree with each point. [I must get away from all uncertain situations.]  \n",
       "0                  3 (Somewhat characteristic of me)                                                                                      \n",
       "1                                                  4                                                                                      "
      ]
     },
     "execution_count": 40,
     "metadata": {},
     "output_type": "execute_result"
    }
   ],
   "source": [
    "dfius = dforig.iloc[:, 28:40]\n",
    "dfius"
   ]
  },
  {
   "cell_type": "markdown",
   "id": "d9f8a760-0a60-4538-af45-a17d1b25b132",
   "metadata": {},
   "source": [
    "### Mapped and Inted"
   ]
  },
  {
   "cell_type": "code",
   "execution_count": 41,
   "id": "24a7ff27-9f38-4089-b148-39c38403a546",
   "metadata": {},
   "outputs": [
    {
     "data": {
      "text/html": [
       "<div>\n",
       "<style scoped>\n",
       "    .dataframe tbody tr th:only-of-type {\n",
       "        vertical-align: middle;\n",
       "    }\n",
       "\n",
       "    .dataframe tbody tr th {\n",
       "        vertical-align: top;\n",
       "    }\n",
       "\n",
       "    .dataframe thead th {\n",
       "        text-align: right;\n",
       "    }\n",
       "</style>\n",
       "<table border=\"1\" class=\"dataframe\">\n",
       "  <thead>\n",
       "    <tr style=\"text-align: right;\">\n",
       "      <th></th>\n",
       "      <th>Please choose the number that best corresponds to how much you agree with each point. [Unforeseen events upset me greatly.]</th>\n",
       "      <th>Please choose the number that best corresponds to how much you agree with each point. [It frustrates me not having all the information I need.]</th>\n",
       "      <th>Please choose the number that best corresponds to how much you agree with each point. [One should always look ahead so as to avoid surprises.]</th>\n",
       "      <th>Please choose the number that best corresponds to how much you agree with each point. [A small, unforeseen event can spoil everything, even with the best of planning.]</th>\n",
       "      <th>Please choose the number that best corresponds to how much you agree with each point. [I always want to know what the future has in store for me.]</th>\n",
       "      <th>Please choose the number that best corresponds to how much you agree with each point. [I can’t stand being taken by surprise.]</th>\n",
       "      <th>Please choose the number that best corresponds to how much you agree with each point. [I should be able to organize everything in advance]</th>\n",
       "      <th>Please choose the number that best corresponds to how much you agree with each point. [Uncertainty keeps me from living a full life.]</th>\n",
       "      <th>Please choose the number that best corresponds to how much you agree with each point. [When it’s time to act, uncertainty paralyzes me.]</th>\n",
       "      <th>Please choose the number that best corresponds to how much you agree with each point. [When I am uncertain I can’t function very well.]</th>\n",
       "      <th>Please choose the number that best corresponds to how much you agree with each point. [The smallest doubt can stop me from acting.]</th>\n",
       "      <th>Please choose the number that best corresponds to how much you agree with each point. [I must get away from all uncertain situations.]</th>\n",
       "    </tr>\n",
       "  </thead>\n",
       "  <tbody>\n",
       "    <tr>\n",
       "      <th>0</th>\n",
       "      <td>2</td>\n",
       "      <td>3</td>\n",
       "      <td>4</td>\n",
       "      <td>5</td>\n",
       "      <td>1</td>\n",
       "      <td>2</td>\n",
       "      <td>3</td>\n",
       "      <td>4</td>\n",
       "      <td>5</td>\n",
       "      <td>1</td>\n",
       "      <td>2</td>\n",
       "      <td>3</td>\n",
       "    </tr>\n",
       "    <tr>\n",
       "      <th>1</th>\n",
       "      <td>2</td>\n",
       "      <td>3</td>\n",
       "      <td>3</td>\n",
       "      <td>4</td>\n",
       "      <td>2</td>\n",
       "      <td>2</td>\n",
       "      <td>3</td>\n",
       "      <td>3</td>\n",
       "      <td>4</td>\n",
       "      <td>3</td>\n",
       "      <td>3</td>\n",
       "      <td>4</td>\n",
       "    </tr>\n",
       "  </tbody>\n",
       "</table>\n",
       "</div>"
      ],
      "text/plain": [
       "   Please choose the number that best corresponds to how much you agree with each point. [Unforeseen events upset me greatly.]  \\\n",
       "0                                                  2                                                                             \n",
       "1                                                  2                                                                             \n",
       "\n",
       "   Please choose the number that best corresponds to how much you agree with each point. [It frustrates me not having all the information I need.]  \\\n",
       "0                                                  3                                                                                                 \n",
       "1                                                  3                                                                                                 \n",
       "\n",
       "   Please choose the number that best corresponds to how much you agree with each point. [One should always look ahead so as to avoid surprises.]  \\\n",
       "0                                                  4                                                                                                \n",
       "1                                                  3                                                                                                \n",
       "\n",
       "   Please choose the number that best corresponds to how much you agree with each point. [A small, unforeseen event can spoil everything, even with the best of planning.]  \\\n",
       "0                                                  5                                                                                                                         \n",
       "1                                                  4                                                                                                                         \n",
       "\n",
       "   Please choose the number that best corresponds to how much you agree with each point. [I always want to know what the future has in store for me.]  \\\n",
       "0                                                  1                                                                                                    \n",
       "1                                                  2                                                                                                    \n",
       "\n",
       "   Please choose the number that best corresponds to how much you agree with each point. [I can’t stand being taken by surprise.]  \\\n",
       "0                                                  2                                                                                \n",
       "1                                                  2                                                                                \n",
       "\n",
       "   Please choose the number that best corresponds to how much you agree with each point. [I should be able to organize everything in advance]  \\\n",
       "0                                                  3                                                                                            \n",
       "1                                                  3                                                                                            \n",
       "\n",
       "   Please choose the number that best corresponds to how much you agree with each point. [Uncertainty keeps me from living a full life.]  \\\n",
       "0                                                  4                                                                                       \n",
       "1                                                  3                                                                                       \n",
       "\n",
       "   Please choose the number that best corresponds to how much you agree with each point. [When it’s time to act, uncertainty paralyzes me.]  \\\n",
       "0                                                  5                                                                                          \n",
       "1                                                  4                                                                                          \n",
       "\n",
       "   Please choose the number that best corresponds to how much you agree with each point. [When I am uncertain I can’t function very well.]  \\\n",
       "0                                                  1                                                                                         \n",
       "1                                                  3                                                                                         \n",
       "\n",
       "   Please choose the number that best corresponds to how much you agree with each point. [The smallest doubt can stop me from acting.]  \\\n",
       "0                                                  2                                                                                     \n",
       "1                                                  3                                                                                     \n",
       "\n",
       "   Please choose the number that best corresponds to how much you agree with each point. [I must get away from all uncertain situations.]  \n",
       "0                                                  3                                                                                       \n",
       "1                                                  4                                                                                       "
      ]
     },
     "execution_count": 41,
     "metadata": {},
     "output_type": "execute_result"
    }
   ],
   "source": [
    "dius = {\n",
    "        '3 (Somewhat characteristic of me)': 3,\n",
    "        '5 (Entirely characteristic of me)': 5,\n",
    "        '1 (Not at all characteristic of me)': 1\n",
    "       }\n",
    "\n",
    "dfius.replace(dius, inplace=True)\n",
    "dfius = dfius.astype('int64')\n",
    "dfius"
   ]
  },
  {
   "cell_type": "markdown",
   "id": "04d7e763-26d6-4aed-8102-ea3bcda37e5c",
   "metadata": {},
   "source": [
    "### Descriptive Stats"
   ]
  },
  {
   "cell_type": "code",
   "execution_count": 42,
   "id": "b746a87f-ac60-43e1-8c93-e910e2adefa0",
   "metadata": {},
   "outputs": [
    {
     "data": {
      "text/html": [
       "<div>\n",
       "<style scoped>\n",
       "    .dataframe tbody tr th:only-of-type {\n",
       "        vertical-align: middle;\n",
       "    }\n",
       "\n",
       "    .dataframe tbody tr th {\n",
       "        vertical-align: top;\n",
       "    }\n",
       "\n",
       "    .dataframe thead th {\n",
       "        text-align: right;\n",
       "    }\n",
       "</style>\n",
       "<table border=\"1\" class=\"dataframe\">\n",
       "  <thead>\n",
       "    <tr style=\"text-align: right;\">\n",
       "      <th></th>\n",
       "      <th>Please choose the number that best corresponds to how much you agree with each point. [Unforeseen events upset me greatly.]</th>\n",
       "      <th>Please choose the number that best corresponds to how much you agree with each point. [It frustrates me not having all the information I need.]</th>\n",
       "      <th>Please choose the number that best corresponds to how much you agree with each point. [One should always look ahead so as to avoid surprises.]</th>\n",
       "      <th>Please choose the number that best corresponds to how much you agree with each point. [A small, unforeseen event can spoil everything, even with the best of planning.]</th>\n",
       "      <th>Please choose the number that best corresponds to how much you agree with each point. [I always want to know what the future has in store for me.]</th>\n",
       "      <th>Please choose the number that best corresponds to how much you agree with each point. [I can’t stand being taken by surprise.]</th>\n",
       "      <th>Please choose the number that best corresponds to how much you agree with each point. [I should be able to organize everything in advance]</th>\n",
       "      <th>Please choose the number that best corresponds to how much you agree with each point. [Uncertainty keeps me from living a full life.]</th>\n",
       "      <th>Please choose the number that best corresponds to how much you agree with each point. [When it’s time to act, uncertainty paralyzes me.]</th>\n",
       "      <th>Please choose the number that best corresponds to how much you agree with each point. [When I am uncertain I can’t function very well.]</th>\n",
       "      <th>Please choose the number that best corresponds to how much you agree with each point. [The smallest doubt can stop me from acting.]</th>\n",
       "      <th>Please choose the number that best corresponds to how much you agree with each point. [I must get away from all uncertain situations.]</th>\n",
       "      <th>Sum Prospec Anx</th>\n",
       "      <th>Sum Inhib Anx</th>\n",
       "      <th>Total IUS</th>\n",
       "    </tr>\n",
       "  </thead>\n",
       "  <tbody>\n",
       "    <tr>\n",
       "      <th>0</th>\n",
       "      <td>2</td>\n",
       "      <td>3</td>\n",
       "      <td>4</td>\n",
       "      <td>5</td>\n",
       "      <td>1</td>\n",
       "      <td>2</td>\n",
       "      <td>3</td>\n",
       "      <td>4</td>\n",
       "      <td>5</td>\n",
       "      <td>1</td>\n",
       "      <td>2</td>\n",
       "      <td>3</td>\n",
       "      <td>20</td>\n",
       "      <td>15</td>\n",
       "      <td>35</td>\n",
       "    </tr>\n",
       "    <tr>\n",
       "      <th>1</th>\n",
       "      <td>2</td>\n",
       "      <td>3</td>\n",
       "      <td>3</td>\n",
       "      <td>4</td>\n",
       "      <td>2</td>\n",
       "      <td>2</td>\n",
       "      <td>3</td>\n",
       "      <td>3</td>\n",
       "      <td>4</td>\n",
       "      <td>3</td>\n",
       "      <td>3</td>\n",
       "      <td>4</td>\n",
       "      <td>19</td>\n",
       "      <td>17</td>\n",
       "      <td>36</td>\n",
       "    </tr>\n",
       "  </tbody>\n",
       "</table>\n",
       "</div>"
      ],
      "text/plain": [
       "   Please choose the number that best corresponds to how much you agree with each point. [Unforeseen events upset me greatly.]  \\\n",
       "0                                                  2                                                                             \n",
       "1                                                  2                                                                             \n",
       "\n",
       "   Please choose the number that best corresponds to how much you agree with each point. [It frustrates me not having all the information I need.]  \\\n",
       "0                                                  3                                                                                                 \n",
       "1                                                  3                                                                                                 \n",
       "\n",
       "   Please choose the number that best corresponds to how much you agree with each point. [One should always look ahead so as to avoid surprises.]  \\\n",
       "0                                                  4                                                                                                \n",
       "1                                                  3                                                                                                \n",
       "\n",
       "   Please choose the number that best corresponds to how much you agree with each point. [A small, unforeseen event can spoil everything, even with the best of planning.]  \\\n",
       "0                                                  5                                                                                                                         \n",
       "1                                                  4                                                                                                                         \n",
       "\n",
       "   Please choose the number that best corresponds to how much you agree with each point. [I always want to know what the future has in store for me.]  \\\n",
       "0                                                  1                                                                                                    \n",
       "1                                                  2                                                                                                    \n",
       "\n",
       "   Please choose the number that best corresponds to how much you agree with each point. [I can’t stand being taken by surprise.]  \\\n",
       "0                                                  2                                                                                \n",
       "1                                                  2                                                                                \n",
       "\n",
       "   Please choose the number that best corresponds to how much you agree with each point. [I should be able to organize everything in advance]  \\\n",
       "0                                                  3                                                                                            \n",
       "1                                                  3                                                                                            \n",
       "\n",
       "   Please choose the number that best corresponds to how much you agree with each point. [Uncertainty keeps me from living a full life.]  \\\n",
       "0                                                  4                                                                                       \n",
       "1                                                  3                                                                                       \n",
       "\n",
       "   Please choose the number that best corresponds to how much you agree with each point. [When it’s time to act, uncertainty paralyzes me.]  \\\n",
       "0                                                  5                                                                                          \n",
       "1                                                  4                                                                                          \n",
       "\n",
       "   Please choose the number that best corresponds to how much you agree with each point. [When I am uncertain I can’t function very well.]  \\\n",
       "0                                                  1                                                                                         \n",
       "1                                                  3                                                                                         \n",
       "\n",
       "   Please choose the number that best corresponds to how much you agree with each point. [The smallest doubt can stop me from acting.]  \\\n",
       "0                                                  2                                                                                     \n",
       "1                                                  3                                                                                     \n",
       "\n",
       "   Please choose the number that best corresponds to how much you agree with each point. [I must get away from all uncertain situations.]  \\\n",
       "0                                                  3                                                                                        \n",
       "1                                                  4                                                                                        \n",
       "\n",
       "   Sum Prospec Anx  Sum Inhib Anx  Total IUS  \n",
       "0               20             15         35  \n",
       "1               19             17         36  "
      ]
     },
     "execution_count": 42,
     "metadata": {},
     "output_type": "execute_result"
    }
   ],
   "source": [
    "ius_arr = np.array(dfius.iloc[:, :12])\n",
    "prox_anx_arr = np.array(dfius.iloc[:, :7])\n",
    "inhib_anx_arr = np.array(dfius.iloc[:, 7:12])\n",
    "\n",
    "stk = np.stack((sr(prox_anx_arr), sr(inhib_anx_arr), sr(ius_arr)), axis=1)\n",
    "\n",
    "stacked = pd.DataFrame(stk, columns=['Sum Prospec Anx', 'Sum Inhib Anx', 'Total IUS'])\n",
    "dfius = pd.concat([dfius, stacked], axis=1)\n",
    "\n",
    "dfius"
   ]
  },
  {
   "cell_type": "code",
   "execution_count": 43,
   "id": "5dc18ee5-3b13-4751-8275-af73094e0d0a",
   "metadata": {},
   "outputs": [
    {
     "name": "stdout",
     "output_type": "stream",
     "text": [
      "IUS Composite Sum: 71 | Prospective Anxiety Sum: 39 | Inhibitory Anxiety Sum: 32\n",
      "IUS Composite Mean: 35.5 | Prospective Anxiety Mean: 19.5 | Inhibitory Anxiety Mean: 16.0\n",
      "IUS SD Across Participants: 0.5 | Prospective Anxiety SD: 0.5 | Inhibitory Anxiety SD: 1.0\n"
     ]
    }
   ],
   "source": [
    "tiusarr = np.array(dfius.iloc[:, 12:15])\n",
    "\n",
    "print(f'IUS Composite Sum: {swa(tiusarr[:, 2])} | Prospective Anxiety Sum: {swa(tiusarr[:, 0])} | Inhibitory Anxiety Sum: {swa(tiusarr[:, 1])}')\n",
    "print(f'IUS Composite Mean: {mwa(tiusarr[:, 2])} | Prospective Anxiety Mean: {mwa(tiusarr[:, 0])} | Inhibitory Anxiety Mean: {mwa(tiusarr[:, 1])}')\n",
    "print(f'IUS SD Across Participants: {sdwa(tiusarr[:, 2])} | Prospective Anxiety SD: {sdwa(tiusarr[:, 0])} | Inhibitory Anxiety SD: {sdwa(tiusarr[:, 1])}')"
   ]
  },
  {
   "cell_type": "code",
   "execution_count": 44,
   "id": "70ce7e26-6a16-4fdc-bd22-960b56a64f0c",
   "metadata": {},
   "outputs": [
    {
     "data": {
      "text/plain": [
       "<BarContainer object of 3 artists>"
      ]
     },
     "execution_count": 44,
     "metadata": {},
     "output_type": "execute_result"
    },
    {
     "data": {
      "text/plain": [
       "Text(0.5, 1.0, 'Mean Composite Scores')"
      ]
     },
     "execution_count": 44,
     "metadata": {},
     "output_type": "execute_result"
    },
    {
     "data": {
      "image/png": "[encoded data removed]",
      "text/plain": [
       "<Figure size 640x480 with 1 Axes>"
      ]
     },
     "metadata": {},
     "output_type": "display_data"
    }
   ],
   "source": [
    "plt.bar(['Total IUS', 'Prospective Anxiety', 'Inhibitory Anxiety'], [mwa(tiusarr[:, 2]), mwa(tiusarr[:, 0]), mwa(tiusarr[:, 1])])\n",
    "plt.title('Mean Composite Scores')"
   ]
  },
  {
   "cell_type": "code",
   "execution_count": 45,
   "id": "b8a21324-6a45-4c07-8233-5c9f2c1d96c4",
   "metadata": {},
   "outputs": [
    {
     "data": {
      "text/plain": [
       "<BarContainer object of 2 artists>"
      ]
     },
     "execution_count": 45,
     "metadata": {},
     "output_type": "execute_result"
    },
    {
     "data": {
      "text/plain": [
       "Text(0.5, 1.0, 'Sum Prospec Anx Per Participant')"
      ]
     },
     "execution_count": 45,
     "metadata": {},
     "output_type": "execute_result"
    },
    {
     "data": {
      "image/png": "[encoded data removed]",
      "text/plain": [
       "<Figure size 640x480 with 1 Axes>"
      ]
     },
     "metadata": {},
     "output_type": "display_data"
    }
   ],
   "source": [
    "plt.bar(dfius.index.tolist(), dfius['Sum Prospec Anx'])\n",
    "plt.title('Sum Prospec Anx Per Participant')"
   ]
  },
  {
   "cell_type": "code",
   "execution_count": 46,
   "id": "75b9de35-0967-4639-8229-2537696d7ac1",
   "metadata": {},
   "outputs": [
    {
     "data": {
      "text/plain": [
       "<BarContainer object of 2 artists>"
      ]
     },
     "execution_count": 46,
     "metadata": {},
     "output_type": "execute_result"
    },
    {
     "data": {
      "text/plain": [
       "Text(0.5, 1.0, 'Sum Inhib Anx Per Participant')"
      ]
     },
     "execution_count": 46,
     "metadata": {},
     "output_type": "execute_result"
    },
    {
     "data": {
      "image/png": "[encoded data removed]",
      "text/plain": [
       "<Figure size 640x480 with 1 Axes>"
      ]
     },
     "metadata": {},
     "output_type": "display_data"
    }
   ],
   "source": [
    "plt.bar(dfius.index.tolist(), dfius['Sum Inhib Anx'])\n",
    "plt.title('Sum Inhib Anx Per Participant')"
   ]
  },
  {
   "cell_type": "code",
   "execution_count": 47,
   "id": "48f57def-e7ee-4638-bb68-f11b56d21e63",
   "metadata": {},
   "outputs": [
    {
     "data": {
      "text/plain": [
       "<BarContainer object of 2 artists>"
      ]
     },
     "execution_count": 47,
     "metadata": {},
     "output_type": "execute_result"
    },
    {
     "data": {
      "text/plain": [
       "Text(0.5, 1.0, 'Total IUS Per Participant')"
      ]
     },
     "execution_count": 47,
     "metadata": {},
     "output_type": "execute_result"
    },
    {
     "data": {
      "image/png": "[encoded data removed]",
      "text/plain": [
       "<Figure size 640x480 with 1 Axes>"
      ]
     },
     "metadata": {},
     "output_type": "display_data"
    }
   ],
   "source": [
    "plt.bar(dfius.index.tolist(), dfius['Total IUS'])\n",
    "plt.title('Total IUS Per Participant')"
   ]
  },
  {
   "cell_type": "markdown",
   "id": "ce9d449b-97e5-40b7-ab31-cb1bff8ca28e",
   "metadata": {},
   "source": [
    "---"
   ]
  },
  {
   "cell_type": "markdown",
   "id": "d1f3353c-160a-4cc8-8e63-9d1f2dbb4a06",
   "metadata": {
    "tags": []
   },
   "source": [
    "## Social and Economic Conservatism Scale"
   ]
  },
  {
   "cell_type": "markdown",
   "id": "78018bf0-5ec5-46a5-9a42-f26066d8beb0",
   "metadata": {},
   "source": [
    "### Original Scale"
   ]
  },
  {
   "cell_type": "code",
   "execution_count": 48,
   "id": "e46feeb3-b2a5-41b1-9375-97e6071fbc0e",
   "metadata": {},
   "outputs": [
    {
     "data": {
      "text/html": [
       "<div>\n",
       "<style scoped>\n",
       "    .dataframe tbody tr th:only-of-type {\n",
       "        vertical-align: middle;\n",
       "    }\n",
       "\n",
       "    .dataframe tbody tr th {\n",
       "        vertical-align: top;\n",
       "    }\n",
       "\n",
       "    .dataframe thead th {\n",
       "        text-align: right;\n",
       "    }\n",
       "</style>\n",
       "<table border=\"1\" class=\"dataframe\">\n",
       "  <thead>\n",
       "    <tr style=\"text-align: right;\">\n",
       "      <th></th>\n",
       "      <th>Please indicate the extent to which you feel positive or negative towards each issue. Scores of 0 indicate greater negativity, and scores of 100 indicate greater positivity. Scores of 50 indicate that you feel neutral about the issue. [Abortion.]</th>\n",
       "      <th>Please indicate the extent to which you feel positive or negative towards each issue. Scores of 0 indicate greater negativity, and scores of 100 indicate greater positivity. Scores of 50 indicate that you feel neutral about the issue. [Limited government.]</th>\n",
       "      <th>Please indicate the extent to which you feel positive or negative towards each issue. Scores of 0 indicate greater negativity, and scores of 100 indicate greater positivity. Scores of 50 indicate that you feel neutral about the issue. [Military and national security.]</th>\n",
       "      <th>Please indicate the extent to which you feel positive or negative towards each issue. Scores of 0 indicate greater negativity, and scores of 100 indicate greater positivity. Scores of 50 indicate that you feel neutral about the issue. [Religion.]</th>\n",
       "      <th>Please indicate the extent to which you feel positive or negative towards each issue. Scores of 0 indicate greater negativity, and scores of 100 indicate greater positivity. Scores of 50 indicate that you feel neutral about the issue. [Welfare benefits.]</th>\n",
       "      <th>Please indicate the extent to which you feel positive or negative towards each issue. Scores of 0 indicate greater negativity, and scores of 100 indicate greater positivity. Scores of 50 indicate that you feel neutral about the issue. [Gun ownership.]</th>\n",
       "      <th>Please indicate the extent to which you feel positive or negative towards each issue. Scores of 0 indicate greater negativity, and scores of 100 indicate greater positivity. Scores of 50 indicate that you feel neutral about the issue. [Traditional marriage.]</th>\n",
       "      <th>Please indicate the extent to which you feel positive or negative towards each issue. Scores of 0 indicate greater negativity, and scores of 100 indicate greater positivity. Scores of 50 indicate that you feel neutral about the issue. [Traditional values.]</th>\n",
       "      <th>Please indicate the extent to which you feel positive or negative towards each issue. Scores of 0 indicate greater negativity, and scores of 100 indicate greater positivity. Scores of 50 indicate that you feel neutral about the issue. [Fiscal responsibility.]</th>\n",
       "      <th>Please indicate the extent to which you feel positive or negative towards each issue. Scores of 0 indicate greater negativity, and scores of 100 indicate greater positivity. Scores of 50 indicate that you feel neutral about the issue. [Business.]</th>\n",
       "      <th>Please indicate the extent to which you feel positive or negative towards each issue. Scores of 0 indicate greater negativity, and scores of 100 indicate greater positivity. Scores of 50 indicate that you feel neutral about the issue. [The family unit.]</th>\n",
       "      <th>Please indicate the extent to which you feel positive or negative towards each issue. Scores of 0 indicate greater negativity, and scores of 100 indicate greater positivity. Scores of 50 indicate that you feel neutral about the issue. [Patriotism.]</th>\n",
       "    </tr>\n",
       "  </thead>\n",
       "  <tbody>\n",
       "    <tr>\n",
       "      <th>0</th>\n",
       "      <td>0 (Negative)</td>\n",
       "      <td>10</td>\n",
       "      <td>20</td>\n",
       "      <td>30</td>\n",
       "      <td>40</td>\n",
       "      <td>50 (Neutral)</td>\n",
       "      <td>60</td>\n",
       "      <td>70</td>\n",
       "      <td>0 (Negative)</td>\n",
       "      <td>10</td>\n",
       "      <td>20</td>\n",
       "      <td>30</td>\n",
       "    </tr>\n",
       "    <tr>\n",
       "      <th>1</th>\n",
       "      <td>40</td>\n",
       "      <td>30</td>\n",
       "      <td>10</td>\n",
       "      <td>30</td>\n",
       "      <td>20</td>\n",
       "      <td>30</td>\n",
       "      <td>20</td>\n",
       "      <td>40</td>\n",
       "      <td>40</td>\n",
       "      <td>60</td>\n",
       "      <td>0 (Negative)</td>\n",
       "      <td>50 (Neutral)</td>\n",
       "    </tr>\n",
       "  </tbody>\n",
       "</table>\n",
       "</div>"
      ],
      "text/plain": [
       "  Please indicate the extent to which you feel positive or negative towards each issue. Scores of 0 indicate greater negativity, and scores of 100 indicate greater positivity. Scores of 50 indicate that you feel neutral about the issue. [Abortion.]  \\\n",
       "0                                       0 (Negative)                                                                                                                                                                                                       \n",
       "1                                                 40                                                                                                                                                                                                       \n",
       "\n",
       "   Please indicate the extent to which you feel positive or negative towards each issue. Scores of 0 indicate greater negativity, and scores of 100 indicate greater positivity. Scores of 50 indicate that you feel neutral about the issue. [Limited government.]  \\\n",
       "0                                                 10                                                                                                                                                                                                                  \n",
       "1                                                 30                                                                                                                                                                                                                  \n",
       "\n",
       "   Please indicate the extent to which you feel positive or negative towards each issue. Scores of 0 indicate greater negativity, and scores of 100 indicate greater positivity. Scores of 50 indicate that you feel neutral about the issue. [Military and national security.]  \\\n",
       "0                                                 20                                                                                                                                                                                                                              \n",
       "1                                                 10                                                                                                                                                                                                                              \n",
       "\n",
       "   Please indicate the extent to which you feel positive or negative towards each issue. Scores of 0 indicate greater negativity, and scores of 100 indicate greater positivity. Scores of 50 indicate that you feel neutral about the issue. [Religion.]  \\\n",
       "0                                                 30                                                                                                                                                                                                        \n",
       "1                                                 30                                                                                                                                                                                                        \n",
       "\n",
       "   Please indicate the extent to which you feel positive or negative towards each issue. Scores of 0 indicate greater negativity, and scores of 100 indicate greater positivity. Scores of 50 indicate that you feel neutral about the issue. [Welfare benefits.]  \\\n",
       "0                                                 40                                                                                                                                                                                                                \n",
       "1                                                 20                                                                                                                                                                                                                \n",
       "\n",
       "  Please indicate the extent to which you feel positive or negative towards each issue. Scores of 0 indicate greater negativity, and scores of 100 indicate greater positivity. Scores of 50 indicate that you feel neutral about the issue. [Gun ownership.]  \\\n",
       "0                                       50 (Neutral)                                                                                                                                                                                                            \n",
       "1                                                 30                                                                                                                                                                                                            \n",
       "\n",
       "   Please indicate the extent to which you feel positive or negative towards each issue. Scores of 0 indicate greater negativity, and scores of 100 indicate greater positivity. Scores of 50 indicate that you feel neutral about the issue. [Traditional marriage.]  \\\n",
       "0                                                 60                                                                                                                                                                                                                    \n",
       "1                                                 20                                                                                                                                                                                                                    \n",
       "\n",
       "   Please indicate the extent to which you feel positive or negative towards each issue. Scores of 0 indicate greater negativity, and scores of 100 indicate greater positivity. Scores of 50 indicate that you feel neutral about the issue. [Traditional values.]  \\\n",
       "0                                                 70                                                                                                                                                                                                                  \n",
       "1                                                 40                                                                                                                                                                                                                  \n",
       "\n",
       "  Please indicate the extent to which you feel positive or negative towards each issue. Scores of 0 indicate greater negativity, and scores of 100 indicate greater positivity. Scores of 50 indicate that you feel neutral about the issue. [Fiscal responsibility.]  \\\n",
       "0                                       0 (Negative)                                                                                                                                                                                                                    \n",
       "1                                                 40                                                                                                                                                                                                                    \n",
       "\n",
       "   Please indicate the extent to which you feel positive or negative towards each issue. Scores of 0 indicate greater negativity, and scores of 100 indicate greater positivity. Scores of 50 indicate that you feel neutral about the issue. [Business.]  \\\n",
       "0                                                 10                                                                                                                                                                                                        \n",
       "1                                                 60                                                                                                                                                                                                        \n",
       "\n",
       "  Please indicate the extent to which you feel positive or negative towards each issue. Scores of 0 indicate greater negativity, and scores of 100 indicate greater positivity. Scores of 50 indicate that you feel neutral about the issue. [The family unit.]  \\\n",
       "0                                                 20                                                                                                                                                                                                              \n",
       "1                                       0 (Negative)                                                                                                                                                                                                              \n",
       "\n",
       "  Please indicate the extent to which you feel positive or negative towards each issue. Scores of 0 indicate greater negativity, and scores of 100 indicate greater positivity. Scores of 50 indicate that you feel neutral about the issue. [Patriotism.]  \n",
       "0                                                 30                                                                                                                                                                                                        \n",
       "1                                       50 (Neutral)                                                                                                                                                                                                        "
      ]
     },
     "execution_count": 48,
     "metadata": {},
     "output_type": "execute_result"
    }
   ],
   "source": [
    "dfsec = dforig.iloc[:, 40:52]\n",
    "dfsec"
   ]
  },
  {
   "cell_type": "markdown",
   "id": "aa156b84-23bc-4bf1-89ef-79cb5e2d522d",
   "metadata": {},
   "source": [
    "### Mapped, Inted and Reversed"
   ]
  },
  {
   "cell_type": "code",
   "execution_count": 49,
   "id": "df0bb1e9-8636-4493-9554-ec05a9602136",
   "metadata": {},
   "outputs": [
    {
     "data": {
      "text/html": [
       "<div>\n",
       "<style scoped>\n",
       "    .dataframe tbody tr th:only-of-type {\n",
       "        vertical-align: middle;\n",
       "    }\n",
       "\n",
       "    .dataframe tbody tr th {\n",
       "        vertical-align: top;\n",
       "    }\n",
       "\n",
       "    .dataframe thead th {\n",
       "        text-align: right;\n",
       "    }\n",
       "</style>\n",
       "<table border=\"1\" class=\"dataframe\">\n",
       "  <thead>\n",
       "    <tr style=\"text-align: right;\">\n",
       "      <th></th>\n",
       "      <th>Please indicate the extent to which you feel positive or negative towards each issue. Scores of 0 indicate greater negativity, and scores of 100 indicate greater positivity. Scores of 50 indicate that you feel neutral about the issue. [Abortion.]</th>\n",
       "      <th>Please indicate the extent to which you feel positive or negative towards each issue. Scores of 0 indicate greater negativity, and scores of 100 indicate greater positivity. Scores of 50 indicate that you feel neutral about the issue. [Limited government.]</th>\n",
       "      <th>Please indicate the extent to which you feel positive or negative towards each issue. Scores of 0 indicate greater negativity, and scores of 100 indicate greater positivity. Scores of 50 indicate that you feel neutral about the issue. [Military and national security.]</th>\n",
       "      <th>Please indicate the extent to which you feel positive or negative towards each issue. Scores of 0 indicate greater negativity, and scores of 100 indicate greater positivity. Scores of 50 indicate that you feel neutral about the issue. [Religion.]</th>\n",
       "      <th>Please indicate the extent to which you feel positive or negative towards each issue. Scores of 0 indicate greater negativity, and scores of 100 indicate greater positivity. Scores of 50 indicate that you feel neutral about the issue. [Welfare benefits.]</th>\n",
       "      <th>Please indicate the extent to which you feel positive or negative towards each issue. Scores of 0 indicate greater negativity, and scores of 100 indicate greater positivity. Scores of 50 indicate that you feel neutral about the issue. [Gun ownership.]</th>\n",
       "      <th>Please indicate the extent to which you feel positive or negative towards each issue. Scores of 0 indicate greater negativity, and scores of 100 indicate greater positivity. Scores of 50 indicate that you feel neutral about the issue. [Traditional marriage.]</th>\n",
       "      <th>Please indicate the extent to which you feel positive or negative towards each issue. Scores of 0 indicate greater negativity, and scores of 100 indicate greater positivity. Scores of 50 indicate that you feel neutral about the issue. [Traditional values.]</th>\n",
       "      <th>Please indicate the extent to which you feel positive or negative towards each issue. Scores of 0 indicate greater negativity, and scores of 100 indicate greater positivity. Scores of 50 indicate that you feel neutral about the issue. [Fiscal responsibility.]</th>\n",
       "      <th>Please indicate the extent to which you feel positive or negative towards each issue. Scores of 0 indicate greater negativity, and scores of 100 indicate greater positivity. Scores of 50 indicate that you feel neutral about the issue. [Business.]</th>\n",
       "      <th>Please indicate the extent to which you feel positive or negative towards each issue. Scores of 0 indicate greater negativity, and scores of 100 indicate greater positivity. Scores of 50 indicate that you feel neutral about the issue. [The family unit.]</th>\n",
       "      <th>Please indicate the extent to which you feel positive or negative towards each issue. Scores of 0 indicate greater negativity, and scores of 100 indicate greater positivity. Scores of 50 indicate that you feel neutral about the issue. [Patriotism.]</th>\n",
       "    </tr>\n",
       "  </thead>\n",
       "  <tbody>\n",
       "    <tr>\n",
       "      <th>0</th>\n",
       "      <td>100</td>\n",
       "      <td>10</td>\n",
       "      <td>20</td>\n",
       "      <td>30</td>\n",
       "      <td>60</td>\n",
       "      <td>50</td>\n",
       "      <td>60</td>\n",
       "      <td>70</td>\n",
       "      <td>0</td>\n",
       "      <td>10</td>\n",
       "      <td>20</td>\n",
       "      <td>30</td>\n",
       "    </tr>\n",
       "    <tr>\n",
       "      <th>1</th>\n",
       "      <td>60</td>\n",
       "      <td>30</td>\n",
       "      <td>10</td>\n",
       "      <td>30</td>\n",
       "      <td>80</td>\n",
       "      <td>30</td>\n",
       "      <td>20</td>\n",
       "      <td>40</td>\n",
       "      <td>40</td>\n",
       "      <td>60</td>\n",
       "      <td>0</td>\n",
       "      <td>50</td>\n",
       "    </tr>\n",
       "  </tbody>\n",
       "</table>\n",
       "</div>"
      ],
      "text/plain": [
       "   Please indicate the extent to which you feel positive or negative towards each issue. Scores of 0 indicate greater negativity, and scores of 100 indicate greater positivity. Scores of 50 indicate that you feel neutral about the issue. [Abortion.]  \\\n",
       "0                                                100                                                                                                                                                                                                        \n",
       "1                                                 60                                                                                                                                                                                                        \n",
       "\n",
       "   Please indicate the extent to which you feel positive or negative towards each issue. Scores of 0 indicate greater negativity, and scores of 100 indicate greater positivity. Scores of 50 indicate that you feel neutral about the issue. [Limited government.]  \\\n",
       "0                                                 10                                                                                                                                                                                                                  \n",
       "1                                                 30                                                                                                                                                                                                                  \n",
       "\n",
       "   Please indicate the extent to which you feel positive or negative towards each issue. Scores of 0 indicate greater negativity, and scores of 100 indicate greater positivity. Scores of 50 indicate that you feel neutral about the issue. [Military and national security.]  \\\n",
       "0                                                 20                                                                                                                                                                                                                              \n",
       "1                                                 10                                                                                                                                                                                                                              \n",
       "\n",
       "   Please indicate the extent to which you feel positive or negative towards each issue. Scores of 0 indicate greater negativity, and scores of 100 indicate greater positivity. Scores of 50 indicate that you feel neutral about the issue. [Religion.]  \\\n",
       "0                                                 30                                                                                                                                                                                                        \n",
       "1                                                 30                                                                                                                                                                                                        \n",
       "\n",
       "   Please indicate the extent to which you feel positive or negative towards each issue. Scores of 0 indicate greater negativity, and scores of 100 indicate greater positivity. Scores of 50 indicate that you feel neutral about the issue. [Welfare benefits.]  \\\n",
       "0                                                 60                                                                                                                                                                                                                \n",
       "1                                                 80                                                                                                                                                                                                                \n",
       "\n",
       "   Please indicate the extent to which you feel positive or negative towards each issue. Scores of 0 indicate greater negativity, and scores of 100 indicate greater positivity. Scores of 50 indicate that you feel neutral about the issue. [Gun ownership.]  \\\n",
       "0                                                 50                                                                                                                                                                                                             \n",
       "1                                                 30                                                                                                                                                                                                             \n",
       "\n",
       "   Please indicate the extent to which you feel positive or negative towards each issue. Scores of 0 indicate greater negativity, and scores of 100 indicate greater positivity. Scores of 50 indicate that you feel neutral about the issue. [Traditional marriage.]  \\\n",
       "0                                                 60                                                                                                                                                                                                                    \n",
       "1                                                 20                                                                                                                                                                                                                    \n",
       "\n",
       "   Please indicate the extent to which you feel positive or negative towards each issue. Scores of 0 indicate greater negativity, and scores of 100 indicate greater positivity. Scores of 50 indicate that you feel neutral about the issue. [Traditional values.]  \\\n",
       "0                                                 70                                                                                                                                                                                                                  \n",
       "1                                                 40                                                                                                                                                                                                                  \n",
       "\n",
       "   Please indicate the extent to which you feel positive or negative towards each issue. Scores of 0 indicate greater negativity, and scores of 100 indicate greater positivity. Scores of 50 indicate that you feel neutral about the issue. [Fiscal responsibility.]  \\\n",
       "0                                                  0                                                                                                                                                                                                                     \n",
       "1                                                 40                                                                                                                                                                                                                     \n",
       "\n",
       "   Please indicate the extent to which you feel positive or negative towards each issue. Scores of 0 indicate greater negativity, and scores of 100 indicate greater positivity. Scores of 50 indicate that you feel neutral about the issue. [Business.]  \\\n",
       "0                                                 10                                                                                                                                                                                                        \n",
       "1                                                 60                                                                                                                                                                                                        \n",
       "\n",
       "   Please indicate the extent to which you feel positive or negative towards each issue. Scores of 0 indicate greater negativity, and scores of 100 indicate greater positivity. Scores of 50 indicate that you feel neutral about the issue. [The family unit.]  \\\n",
       "0                                                 20                                                                                                                                                                                                               \n",
       "1                                                  0                                                                                                                                                                                                               \n",
       "\n",
       "   Please indicate the extent to which you feel positive or negative towards each issue. Scores of 0 indicate greater negativity, and scores of 100 indicate greater positivity. Scores of 50 indicate that you feel neutral about the issue. [Patriotism.]  \n",
       "0                                                 30                                                                                                                                                                                                         \n",
       "1                                                 50                                                                                                                                                                                                         "
      ]
     },
     "execution_count": 49,
     "metadata": {},
     "output_type": "execute_result"
    }
   ],
   "source": [
    "map = {'100 (Positive)': 100,\n",
    "       '50 (Neutral)': 50,\n",
    "       '0 (Negative)': 0\n",
    "      }\n",
    "\n",
    "dfsec.replace(map, inplace=True)\n",
    "dfsec = dfsec.astype('int64')\n",
    "\n",
    "dfsec.iloc[:, [0, 4]] = 100 - dfsec.iloc[:, [0, 4]]\n",
    "\n",
    "dfsec"
   ]
  },
  {
   "cell_type": "markdown",
   "id": "9a0b3249-15e6-44df-98f4-8293eb3825e6",
   "metadata": {},
   "source": [
    "### Descriptive Statistics"
   ]
  },
  {
   "cell_type": "code",
   "execution_count": 50,
   "id": "ec7025d1-4c95-415c-aeaf-1cd6e4d60f1a",
   "metadata": {},
   "outputs": [
    {
     "data": {
      "text/html": [
       "<div>\n",
       "<style scoped>\n",
       "    .dataframe tbody tr th:only-of-type {\n",
       "        vertical-align: middle;\n",
       "    }\n",
       "\n",
       "    .dataframe tbody tr th {\n",
       "        vertical-align: top;\n",
       "    }\n",
       "\n",
       "    .dataframe thead th {\n",
       "        text-align: right;\n",
       "    }\n",
       "</style>\n",
       "<table border=\"1\" class=\"dataframe\">\n",
       "  <thead>\n",
       "    <tr style=\"text-align: right;\">\n",
       "      <th></th>\n",
       "      <th>Sum Social Con</th>\n",
       "      <th>Sum Eco Con</th>\n",
       "      <th>Sum SECS</th>\n",
       "      <th>Mean Social Con</th>\n",
       "      <th>Mean Eco Con</th>\n",
       "      <th>Mean SECS</th>\n",
       "    </tr>\n",
       "  </thead>\n",
       "  <tbody>\n",
       "    <tr>\n",
       "      <th>0</th>\n",
       "      <td>330</td>\n",
       "      <td>130</td>\n",
       "      <td>460</td>\n",
       "      <td>47.143</td>\n",
       "      <td>26.0</td>\n",
       "      <td>38.333</td>\n",
       "    </tr>\n",
       "    <tr>\n",
       "      <th>1</th>\n",
       "      <td>210</td>\n",
       "      <td>240</td>\n",
       "      <td>450</td>\n",
       "      <td>30.000</td>\n",
       "      <td>48.0</td>\n",
       "      <td>37.500</td>\n",
       "    </tr>\n",
       "  </tbody>\n",
       "</table>\n",
       "</div>"
      ],
      "text/plain": [
       "   Sum Social Con  Sum Eco Con  Sum SECS  Mean Social Con  Mean Eco Con  \\\n",
       "0             330          130       460           47.143          26.0   \n",
       "1             210          240       450           30.000          48.0   \n",
       "\n",
       "   Mean SECS  \n",
       "0     38.333  \n",
       "1     37.500  "
      ]
     },
     "execution_count": 50,
     "metadata": {},
     "output_type": "execute_result"
    }
   ],
   "source": [
    "secs_arr = np.array(dfsec.iloc[:, :12])\n",
    "ssecs = secs_arr[:, [0, 10, 3, 6, 7, 11, 2]]\n",
    "esecs = secs_arr[:, [1, 4, 5, 8, 9]]\n",
    "\n",
    "sum_stack = np.stack((sr(ssecs), sr(esecs), sr(secs_arr)), axis=1)\n",
    "mean_stack = np.stack((mr(ssecs), mr(esecs), mr(secs_arr)), axis=1)\n",
    "\n",
    "scsecs = pd.concat([pd.DataFrame(sum_stack, columns=['Sum Social Con', 'Sum Eco Con', 'Sum SECS']), \n",
    "                    pd.DataFrame(mean_stack, columns=['Mean Social Con', 'Mean Eco Con', 'Mean SECS'])],\n",
    "                    axis=1)\n",
    "\n",
    "scsecs"
   ]
  },
  {
   "cell_type": "code",
   "execution_count": 51,
   "id": "3d1ba1dd-f7e1-4ff8-a79a-6d68404205b2",
   "metadata": {},
   "outputs": [
    {
     "name": "stdout",
     "output_type": "stream",
     "text": [
      "Standard Deviation In Order of Table: \n",
      "60.0 | 55.0 | 5.0\n",
      "8.572 | 11.0 | 0.416\n"
     ]
    }
   ],
   "source": [
    "n = '\\n'\n",
    "print(f'Standard Deviation In Order of Table: {n}{sdwa(sum_stack[:, 0])} | {sdwa(sum_stack[:, 1])} | {sdwa(sum_stack[:, 2])}{n}{sdwa(mean_stack[:, 0])} | {sdwa(mean_stack[:, 1])} | {sdwa(mean_stack[:, 2])}')"
   ]
  },
  {
   "cell_type": "code",
   "execution_count": 52,
   "id": "155f928a-b681-4f04-99d2-3a8a0de6e930",
   "metadata": {},
   "outputs": [
    {
     "data": {
      "text/plain": [
       "<BarContainer object of 3 artists>"
      ]
     },
     "execution_count": 52,
     "metadata": {},
     "output_type": "execute_result"
    },
    {
     "data": {
      "text/plain": [
       "Text(0.5, 1.0, 'Mean Composite Scores')"
      ]
     },
     "execution_count": 52,
     "metadata": {},
     "output_type": "execute_result"
    },
    {
     "data": {
      "image/png": "[encoded data removed]",
      "text/plain": [
       "<Figure size 640x480 with 1 Axes>"
      ]
     },
     "metadata": {},
     "output_type": "display_data"
    }
   ],
   "source": [
    "plt.bar(['SECS', 'Social SECS', 'Econ SECS'], [mwa(sum_stack[:, 2]), mwa(sum_stack[:, 1]), mwa(sum_stack[:, 0])])\n",
    "plt.title('Mean Composite Scores')"
   ]
  },
  {
   "cell_type": "code",
   "execution_count": 53,
   "id": "a4722d13-fb13-464a-b155-9a87ddd08950",
   "metadata": {},
   "outputs": [
    {
     "data": {
      "text/plain": [
       "<BarContainer object of 2 artists>"
      ]
     },
     "execution_count": 53,
     "metadata": {},
     "output_type": "execute_result"
    },
    {
     "data": {
      "text/plain": [
       "Text(0.5, 1.0, 'Mean Social Con Per Participant')"
      ]
     },
     "execution_count": 53,
     "metadata": {},
     "output_type": "execute_result"
    },
    {
     "data": {
      "image/png": "[encoded data removed]",
      "text/plain": [
       "<Figure size 640x480 with 1 Axes>"
      ]
     },
     "metadata": {},
     "output_type": "display_data"
    }
   ],
   "source": [
    "plt.bar(scsecs.index.tolist(), scsecs['Mean Social Con'])\n",
    "plt.title('Mean Social Con Per Participant')"
   ]
  },
  {
   "cell_type": "code",
   "execution_count": 54,
   "id": "d1a2940b-0574-4ba2-a66e-cb9740508a6d",
   "metadata": {},
   "outputs": [
    {
     "data": {
      "text/plain": [
       "<BarContainer object of 2 artists>"
      ]
     },
     "execution_count": 54,
     "metadata": {},
     "output_type": "execute_result"
    },
    {
     "data": {
      "text/plain": [
       "Text(0.5, 1.0, 'Mean Eco Con Per Participant')"
      ]
     },
     "execution_count": 54,
     "metadata": {},
     "output_type": "execute_result"
    },
    {
     "data": {
      "image/png": "[encoded data removed]",
      "text/plain": [
       "<Figure size 640x480 with 1 Axes>"
      ]
     },
     "metadata": {},
     "output_type": "display_data"
    }
   ],
   "source": [
    "plt.bar(scsecs.index.tolist(), scsecs['Mean Eco Con'])\n",
    "plt.title('Mean Eco Con Per Participant')"
   ]
  },
  {
   "cell_type": "code",
   "execution_count": 55,
   "id": "b5480ca2-65b0-4a44-a3d0-d4018e8b1d77",
   "metadata": {},
   "outputs": [
    {
     "data": {
      "text/plain": [
       "<BarContainer object of 2 artists>"
      ]
     },
     "execution_count": 55,
     "metadata": {},
     "output_type": "execute_result"
    },
    {
     "data": {
      "text/plain": [
       "Text(0.5, 1.0, 'Mean SECS Per Participant')"
      ]
     },
     "execution_count": 55,
     "metadata": {},
     "output_type": "execute_result"
    },
    {
     "data": {
      "image/png": "[encoded data removed]",
      "text/plain": [
       "<Figure size 640x480 with 1 Axes>"
      ]
     },
     "metadata": {},
     "output_type": "display_data"
    }
   ],
   "source": [
    "plt.bar(scsecs.index.tolist(), scsecs['Mean SECS'])\n",
    "plt.title('Mean SECS Per Participant')"
   ]
  },
  {
   "cell_type": "markdown",
   "id": "65aedd84-b134-42f8-9cd8-085ed933f476",
   "metadata": {},
   "source": [
    "---"
   ]
  },
  {
   "cell_type": "markdown",
   "id": "6d0c32ba-5908-4a7c-bfe7-4b8935974772",
   "metadata": {
    "tags": []
   },
   "source": [
    "## Right Wing Authoritarianism 3-Dimensional Scale"
   ]
  },
  {
   "cell_type": "markdown",
   "id": "fd597cd0-3281-4d08-a066-68dac9103dfc",
   "metadata": {},
   "source": [
    "### Original Scale"
   ]
  },
  {
   "cell_type": "code",
   "execution_count": 56,
   "id": "7e9ea5a0-3707-4c1d-9f96-014331eeab15",
   "metadata": {},
   "outputs": [
    {
     "data": {
      "text/html": [
       "<div>\n",
       "<style scoped>\n",
       "    .dataframe tbody tr th:only-of-type {\n",
       "        vertical-align: middle;\n",
       "    }\n",
       "\n",
       "    .dataframe tbody tr th {\n",
       "        vertical-align: top;\n",
       "    }\n",
       "\n",
       "    .dataframe thead th {\n",
       "        text-align: right;\n",
       "    }\n",
       "</style>\n",
       "<table border=\"1\" class=\"dataframe\">\n",
       "  <thead>\n",
       "    <tr style=\"text-align: right;\">\n",
       "      <th></th>\n",
       "      <th>People should develop their own personal standards about good and evil and pay less attention to the Bible and other old, traditional forms of religious guidance.</th>\n",
       "      <th>What our country really needs instead of more “civil rights” is a good stiff dose of law and order.</th>\n",
       "      <th>The days when women are submissive should belong strictly in the past. A “woman’s place” in society should be wherever she wants to be.</th>\n",
       "      <th>The withdrawal from tradition will turn out to be a fatal fault one day.</th>\n",
       "      <th>There is no such crime to justify capital punishment.</th>\n",
       "      <th>Obedience and respect for authority are the most important values children should learn.</th>\n",
       "      <th>Homosexual long-term relationships should be treated as equivalent to marriage.</th>\n",
       "      <th>What our country really needs is a strong, determined Chancellor which will crush the evil and set us on our right way again.</th>\n",
       "      <th>It is good that nowadays young people have greater freedom “to make their own rules” and to protest against things they don’t like.</th>\n",
       "      <th>Being virtuous and law-abiding is in the long run better for us than permanently challenging the foundation of our society.</th>\n",
       "      <th>It is important to protect the rights of radicals and deviants in all ways.</th>\n",
       "      <th>The real keys to the “good life” are obedience, discipline, and virtue.</th>\n",
       "    </tr>\n",
       "  </thead>\n",
       "  <tbody>\n",
       "    <tr>\n",
       "      <th>0</th>\n",
       "      <td>1</td>\n",
       "      <td>2</td>\n",
       "      <td>3</td>\n",
       "      <td>4</td>\n",
       "      <td>5</td>\n",
       "      <td>6</td>\n",
       "      <td>7</td>\n",
       "      <td>1</td>\n",
       "      <td>2</td>\n",
       "      <td>3</td>\n",
       "      <td>4</td>\n",
       "      <td>5</td>\n",
       "    </tr>\n",
       "    <tr>\n",
       "      <th>1</th>\n",
       "      <td>3</td>\n",
       "      <td>4</td>\n",
       "      <td>5</td>\n",
       "      <td>5</td>\n",
       "      <td>3</td>\n",
       "      <td>5</td>\n",
       "      <td>5</td>\n",
       "      <td>5</td>\n",
       "      <td>2</td>\n",
       "      <td>4</td>\n",
       "      <td>5</td>\n",
       "      <td>4</td>\n",
       "    </tr>\n",
       "  </tbody>\n",
       "</table>\n",
       "</div>"
      ],
      "text/plain": [
       "   People should develop their own personal standards about good and evil and pay less attention to the Bible and other old, traditional forms of religious guidance.  \\\n",
       "0                                                  1                                                                                                                    \n",
       "1                                                  3                                                                                                                    \n",
       "\n",
       "   What our country really needs instead of more “civil rights” is a good stiff dose of law and order.  \\\n",
       "0                                                  2                                                     \n",
       "1                                                  4                                                     \n",
       "\n",
       "   The days when women are submissive should belong strictly in the past. A “woman’s place” in society should be wherever she wants to be.  \\\n",
       "0                                                  3                                                                                         \n",
       "1                                                  5                                                                                         \n",
       "\n",
       "   The withdrawal from tradition will turn out to be a fatal fault one day.  \\\n",
       "0                                                  4                          \n",
       "1                                                  5                          \n",
       "\n",
       "   There is no such crime to justify capital punishment.  \\\n",
       "0                                                  5       \n",
       "1                                                  3       \n",
       "\n",
       "   Obedience and respect for authority are the most important values children should learn.  \\\n",
       "0                                                  6                                          \n",
       "1                                                  5                                          \n",
       "\n",
       "   Homosexual long-term relationships should be treated as equivalent to marriage.  \\\n",
       "0                                                  7                                 \n",
       "1                                                  5                                 \n",
       "\n",
       "   What our country really needs is a strong, determined Chancellor which will crush the evil and set us on our right way again.  \\\n",
       "0                                                  1                                                                               \n",
       "1                                                  5                                                                               \n",
       "\n",
       "   It is good that nowadays young people have greater freedom “to make their own rules” and to protest against things they don’t like.  \\\n",
       "0                                                  2                                                                                     \n",
       "1                                                  2                                                                                     \n",
       "\n",
       "   Being virtuous and law-abiding is in the long run better for us than permanently challenging the foundation of our society.  \\\n",
       "0                                                  3                                                                             \n",
       "1                                                  4                                                                             \n",
       "\n",
       "   It is important to protect the rights of radicals and deviants in all ways.  \\\n",
       "0                                                  4                             \n",
       "1                                                  5                             \n",
       "\n",
       "   The real keys to the “good life” are obedience, discipline, and virtue.  \n",
       "0                                                  5                        \n",
       "1                                                  4                        "
      ]
     },
     "execution_count": 56,
     "metadata": {},
     "output_type": "execute_result"
    }
   ],
   "source": [
    "dfrwa = dforig.iloc[:, 52:64]\n",
    "dfrwa"
   ]
  },
  {
   "cell_type": "markdown",
   "id": "da7de6c5-ec64-4a76-b52b-103ae2194108",
   "metadata": {},
   "source": [
    "### Reversed"
   ]
  },
  {
   "cell_type": "code",
   "execution_count": 57,
   "id": "618ffb84-c4e1-4579-b85b-df6870581919",
   "metadata": {},
   "outputs": [
    {
     "data": {
      "text/html": [
       "<div>\n",
       "<style scoped>\n",
       "    .dataframe tbody tr th:only-of-type {\n",
       "        vertical-align: middle;\n",
       "    }\n",
       "\n",
       "    .dataframe tbody tr th {\n",
       "        vertical-align: top;\n",
       "    }\n",
       "\n",
       "    .dataframe thead th {\n",
       "        text-align: right;\n",
       "    }\n",
       "</style>\n",
       "<table border=\"1\" class=\"dataframe\">\n",
       "  <thead>\n",
       "    <tr style=\"text-align: right;\">\n",
       "      <th></th>\n",
       "      <th>People should develop their own personal standards about good and evil and pay less attention to the Bible and other old, traditional forms of religious guidance.</th>\n",
       "      <th>What our country really needs instead of more “civil rights” is a good stiff dose of law and order.</th>\n",
       "      <th>The days when women are submissive should belong strictly in the past. A “woman’s place” in society should be wherever she wants to be.</th>\n",
       "      <th>The withdrawal from tradition will turn out to be a fatal fault one day.</th>\n",
       "      <th>There is no such crime to justify capital punishment.</th>\n",
       "      <th>Obedience and respect for authority are the most important values children should learn.</th>\n",
       "      <th>Homosexual long-term relationships should be treated as equivalent to marriage.</th>\n",
       "      <th>What our country really needs is a strong, determined Chancellor which will crush the evil and set us on our right way again.</th>\n",
       "      <th>It is good that nowadays young people have greater freedom “to make their own rules” and to protest against things they don’t like.</th>\n",
       "      <th>Being virtuous and law-abiding is in the long run better for us than permanently challenging the foundation of our society.</th>\n",
       "      <th>It is important to protect the rights of radicals and deviants in all ways.</th>\n",
       "      <th>The real keys to the “good life” are obedience, discipline, and virtue.</th>\n",
       "    </tr>\n",
       "  </thead>\n",
       "  <tbody>\n",
       "    <tr>\n",
       "      <th>0</th>\n",
       "      <td>7</td>\n",
       "      <td>2</td>\n",
       "      <td>5</td>\n",
       "      <td>4</td>\n",
       "      <td>3</td>\n",
       "      <td>6</td>\n",
       "      <td>1</td>\n",
       "      <td>1</td>\n",
       "      <td>6</td>\n",
       "      <td>3</td>\n",
       "      <td>4</td>\n",
       "      <td>5</td>\n",
       "    </tr>\n",
       "    <tr>\n",
       "      <th>1</th>\n",
       "      <td>5</td>\n",
       "      <td>4</td>\n",
       "      <td>3</td>\n",
       "      <td>5</td>\n",
       "      <td>5</td>\n",
       "      <td>5</td>\n",
       "      <td>3</td>\n",
       "      <td>5</td>\n",
       "      <td>6</td>\n",
       "      <td>4</td>\n",
       "      <td>3</td>\n",
       "      <td>4</td>\n",
       "    </tr>\n",
       "  </tbody>\n",
       "</table>\n",
       "</div>"
      ],
      "text/plain": [
       "   People should develop their own personal standards about good and evil and pay less attention to the Bible and other old, traditional forms of religious guidance.  \\\n",
       "0                                                  7                                                                                                                    \n",
       "1                                                  5                                                                                                                    \n",
       "\n",
       "   What our country really needs instead of more “civil rights” is a good stiff dose of law and order.  \\\n",
       "0                                                  2                                                     \n",
       "1                                                  4                                                     \n",
       "\n",
       "   The days when women are submissive should belong strictly in the past. A “woman’s place” in society should be wherever she wants to be.  \\\n",
       "0                                                  5                                                                                         \n",
       "1                                                  3                                                                                         \n",
       "\n",
       "   The withdrawal from tradition will turn out to be a fatal fault one day.  \\\n",
       "0                                                  4                          \n",
       "1                                                  5                          \n",
       "\n",
       "   There is no such crime to justify capital punishment.  \\\n",
       "0                                                  3       \n",
       "1                                                  5       \n",
       "\n",
       "   Obedience and respect for authority are the most important values children should learn.  \\\n",
       "0                                                  6                                          \n",
       "1                                                  5                                          \n",
       "\n",
       "   Homosexual long-term relationships should be treated as equivalent to marriage.  \\\n",
       "0                                                  1                                 \n",
       "1                                                  3                                 \n",
       "\n",
       "   What our country really needs is a strong, determined Chancellor which will crush the evil and set us on our right way again.  \\\n",
       "0                                                  1                                                                               \n",
       "1                                                  5                                                                               \n",
       "\n",
       "   It is good that nowadays young people have greater freedom “to make their own rules” and to protest against things they don’t like.  \\\n",
       "0                                                  6                                                                                     \n",
       "1                                                  6                                                                                     \n",
       "\n",
       "   Being virtuous and law-abiding is in the long run better for us than permanently challenging the foundation of our society.  \\\n",
       "0                                                  3                                                                             \n",
       "1                                                  4                                                                             \n",
       "\n",
       "   It is important to protect the rights of radicals and deviants in all ways.  \\\n",
       "0                                                  4                             \n",
       "1                                                  3                             \n",
       "\n",
       "   The real keys to the “good life” are obedience, discipline, and virtue.  \n",
       "0                                                  5                        \n",
       "1                                                  4                        "
      ]
     },
     "execution_count": 57,
     "metadata": {},
     "output_type": "execute_result"
    }
   ],
   "source": [
    "dfrwa.iloc[:, [4, 10, 2, 8, 0, 6]] = 8 - dfrwa.iloc[:, [4, 10, 2, 8, 0, 6]]\n",
    "dfrwa"
   ]
  },
  {
   "cell_type": "markdown",
   "id": "21b529ec-190f-46ed-a6f5-befb3f2a3543",
   "metadata": {},
   "source": [
    "### Descriptive Statistics"
   ]
  },
  {
   "cell_type": "code",
   "execution_count": 58,
   "id": "7977a17b-89ef-48e2-9e8c-693f12fac9e8",
   "metadata": {},
   "outputs": [
    {
     "data": {
      "text/html": [
       "<div>\n",
       "<style scoped>\n",
       "    .dataframe tbody tr th:only-of-type {\n",
       "        vertical-align: middle;\n",
       "    }\n",
       "\n",
       "    .dataframe tbody tr th {\n",
       "        vertical-align: top;\n",
       "    }\n",
       "\n",
       "    .dataframe thead th {\n",
       "        text-align: right;\n",
       "    }\n",
       "</style>\n",
       "<table border=\"1\" class=\"dataframe\">\n",
       "  <thead>\n",
       "    <tr style=\"text-align: right;\">\n",
       "      <th></th>\n",
       "      <th>Aggression Sum</th>\n",
       "      <th>Submission Sum</th>\n",
       "      <th>Conventionalism Sum</th>\n",
       "      <th>RWA Sum</th>\n",
       "      <th>Aggression Mean</th>\n",
       "      <th>Submission Mean</th>\n",
       "      <th>Conventionalism Mean</th>\n",
       "      <th>RWA Mean</th>\n",
       "    </tr>\n",
       "  </thead>\n",
       "  <tbody>\n",
       "    <tr>\n",
       "      <th>0</th>\n",
       "      <td>10</td>\n",
       "      <td>22</td>\n",
       "      <td>15</td>\n",
       "      <td>47</td>\n",
       "      <td>2.50</td>\n",
       "      <td>5.5</td>\n",
       "      <td>3.75</td>\n",
       "      <td>3.917</td>\n",
       "    </tr>\n",
       "    <tr>\n",
       "      <th>1</th>\n",
       "      <td>17</td>\n",
       "      <td>18</td>\n",
       "      <td>17</td>\n",
       "      <td>52</td>\n",
       "      <td>4.25</td>\n",
       "      <td>4.5</td>\n",
       "      <td>4.25</td>\n",
       "      <td>4.333</td>\n",
       "    </tr>\n",
       "  </tbody>\n",
       "</table>\n",
       "</div>"
      ],
      "text/plain": [
       "   Aggression Sum  Submission Sum  Conventionalism Sum  RWA Sum  \\\n",
       "0              10              22                   15       47   \n",
       "1              17              18                   17       52   \n",
       "\n",
       "   Aggression Mean  Submission Mean  Conventionalism Mean  RWA Mean  \n",
       "0             2.50              5.5                  3.75     3.917  \n",
       "1             4.25              4.5                  4.25     4.333  "
      ]
     },
     "execution_count": 58,
     "metadata": {},
     "output_type": "execute_result"
    }
   ],
   "source": [
    "rwa_array = np.array(dfrwa)\n",
    "agg = rwa_array[:, [1, 7, 4, 10]]\n",
    "sub = rwa_array[:, [5, 11, 2, 8]]\n",
    "conv = rwa_array[:, [3, 9, 0, 6]]\n",
    "\n",
    "sum_stack = np.stack([sr(agg), sr(sub), sr(conv), sr(rwa_array)], axis=1)\n",
    "mean_stack = np.stack([mr(agg), mr(sub), mr(conv), mr(rwa_array)], axis=1)\n",
    "\n",
    "res = pd.concat([pd.DataFrame(sum_stack, columns=['Aggression Sum', 'Submission Sum', 'Conventionalism Sum', 'RWA Sum']),\n",
    "                 pd.DataFrame(mean_stack, columns=['Aggression Mean', 'Submission Mean', 'Conventionalism Mean', 'RWA Mean'])],\n",
    "                 axis=1)\n",
    "res"
   ]
  },
  {
   "cell_type": "code",
   "execution_count": 59,
   "id": "b7a0cf55-33a4-45f8-948e-8a23a7c8f2ed",
   "metadata": {},
   "outputs": [
    {
     "data": {
      "text/plain": [
       "<BarContainer object of 4 artists>"
      ]
     },
     "execution_count": 59,
     "metadata": {},
     "output_type": "execute_result"
    },
    {
     "data": {
      "text/plain": [
       "Text(0.5, 1.0, 'Mean Across All Participants')"
      ]
     },
     "execution_count": 59,
     "metadata": {},
     "output_type": "execute_result"
    },
    {
     "data": {
      "image/png": "[encoded data removed]",
      "text/plain": [
       "<Figure size 640x480 with 1 Axes>"
      ]
     },
     "metadata": {},
     "output_type": "display_data"
    }
   ],
   "source": [
    "plt.bar(['Aggression', 'Submission', 'Conventionalism', 'Total'], [mwa(sum_stack[:, 0]), mwa(sum_stack[:, 1]), mwa(sum_stack[:, 2]), mwa(sum_stack[:, 3])])\n",
    "plt.title('Mean Across All Participants')"
   ]
  },
  {
   "cell_type": "markdown",
   "id": "e5a4be32-21a4-4079-89ca-04b5fb9ca11a",
   "metadata": {},
   "source": [
    "---"
   ]
  },
  {
   "cell_type": "markdown",
   "id": "f0fc4d66-848f-4ccf-b750-a3b62bfc93cb",
   "metadata": {},
   "source": [
    "## Social Dominance Orientation Scale"
   ]
  },
  {
   "cell_type": "markdown",
   "id": "5bb7bb08-a60f-4b3c-9cf9-5ecda91f8a2d",
   "metadata": {},
   "source": [
    "### Original Scale"
   ]
  },
  {
   "cell_type": "code",
   "execution_count": 60,
   "id": "14b05def-d05a-441d-a7d8-6c56e4e36113",
   "metadata": {},
   "outputs": [
    {
     "data": {
      "text/html": [
       "<div>\n",
       "<style scoped>\n",
       "    .dataframe tbody tr th:only-of-type {\n",
       "        vertical-align: middle;\n",
       "    }\n",
       "\n",
       "    .dataframe tbody tr th {\n",
       "        vertical-align: top;\n",
       "    }\n",
       "\n",
       "    .dataframe thead th {\n",
       "        text-align: right;\n",
       "    }\n",
       "</style>\n",
       "<table border=\"1\" class=\"dataframe\">\n",
       "  <thead>\n",
       "    <tr style=\"text-align: right;\">\n",
       "      <th></th>\n",
       "      <th>Show how much you favour or oppose each idea below by selecting a number from 1 to 7 on the scale below. You can work quickly; your first feeling is generally best. [An ideal society requires some groups to be on top and others to be on the bottom.]</th>\n",
       "      <th>Show how much you favour or oppose each idea below by selecting a number from 1 to 7 on the scale below. You can work quickly; your first feeling is generally best. [Some groups of people are simply inferior to other groups.]</th>\n",
       "      <th>Show how much you favour or oppose each idea below by selecting a number from 1 to 7 on the scale below. You can work quickly; your first feeling is generally best. [No one group should dominate in society.]</th>\n",
       "      <th>Show how much you favour or oppose each idea below by selecting a number from 1 to 7 on the scale below. You can work quickly; your first feeling is generally best. [Groups at the bottom are just as deserving as groups at the top.]</th>\n",
       "      <th>Show how much you favour or oppose each idea below by selecting a number from 1 to 7 on the scale below. You can work quickly; your first feeling is generally best. [Group equality should not be our primary goal.]</th>\n",
       "      <th>Show how much you favour or oppose each idea below by selecting a number from 1 to 7 on the scale below. You can work quickly; your first feeling is generally best. [It is unjust to try to make groups equal.]</th>\n",
       "      <th>Show how much you favour or oppose each idea below by selecting a number from 1 to 7 on the scale below. You can work quickly; your first feeling is generally best. [We should do what we can to equalize conditions for different groups.]</th>\n",
       "      <th>Show how much you favour or oppose each idea below by selecting a number from 1 to 7 on the scale below. You can work quickly; your first feeling is generally best. [We should work to give all groups an equal chance to succeed.]</th>\n",
       "    </tr>\n",
       "  </thead>\n",
       "  <tbody>\n",
       "    <tr>\n",
       "      <th>0</th>\n",
       "      <td>1 (Strongly Oppose)</td>\n",
       "      <td>2 (Somewhat Oppose)</td>\n",
       "      <td>3 (Slightly Oppose)</td>\n",
       "      <td>4 (Neutral)</td>\n",
       "      <td>5 (Slightly Favour)</td>\n",
       "      <td>6 (Somewhat Favour)</td>\n",
       "      <td>7 (Strongly Favour)</td>\n",
       "      <td>1 (Strongly Oppose)</td>\n",
       "    </tr>\n",
       "    <tr>\n",
       "      <th>1</th>\n",
       "      <td>2 (Somewhat Oppose)</td>\n",
       "      <td>6 (Somewhat Favour)</td>\n",
       "      <td>3 (Slightly Oppose)</td>\n",
       "      <td>5 (Slightly Favour)</td>\n",
       "      <td>7 (Strongly Favour)</td>\n",
       "      <td>7 (Strongly Favour)</td>\n",
       "      <td>5 (Slightly Favour)</td>\n",
       "      <td>3 (Slightly Oppose)</td>\n",
       "    </tr>\n",
       "  </tbody>\n",
       "</table>\n",
       "</div>"
      ],
      "text/plain": [
       "  Show how much you favour or oppose each idea below by selecting a number from 1 to 7 on the scale below. You can work quickly; your first feeling is generally best. [An ideal society requires some groups to be on top and others to be on the bottom.]  \\\n",
       "0                                1 (Strongly Oppose)                                                                                                                                                                                                          \n",
       "1                                2 (Somewhat Oppose)                                                                                                                                                                                                          \n",
       "\n",
       "  Show how much you favour or oppose each idea below by selecting a number from 1 to 7 on the scale below. You can work quickly; your first feeling is generally best. [Some groups of people are simply inferior to other groups.]  \\\n",
       "0                                2 (Somewhat Oppose)                                                                                                                                                                                  \n",
       "1                                6 (Somewhat Favour)                                                                                                                                                                                  \n",
       "\n",
       "  Show how much you favour or oppose each idea below by selecting a number from 1 to 7 on the scale below. You can work quickly; your first feeling is generally best. [No one group should dominate in society.]  \\\n",
       "0                                3 (Slightly Oppose)                                                                                                                                                                \n",
       "1                                3 (Slightly Oppose)                                                                                                                                                                \n",
       "\n",
       "  Show how much you favour or oppose each idea below by selecting a number from 1 to 7 on the scale below. You can work quickly; your first feeling is generally best. [Groups at the bottom are just as deserving as groups at the top.]  \\\n",
       "0                                        4 (Neutral)                                                                                                                                                                                        \n",
       "1                                5 (Slightly Favour)                                                                                                                                                                                        \n",
       "\n",
       "  Show how much you favour or oppose each idea below by selecting a number from 1 to 7 on the scale below. You can work quickly; your first feeling is generally best. [Group equality should not be our primary goal.]  \\\n",
       "0                                5 (Slightly Favour)                                                                                                                                                                      \n",
       "1                                7 (Strongly Favour)                                                                                                                                                                      \n",
       "\n",
       "  Show how much you favour or oppose each idea below by selecting a number from 1 to 7 on the scale below. You can work quickly; your first feeling is generally best. [It is unjust to try to make groups equal.]  \\\n",
       "0                                6 (Somewhat Favour)                                                                                                                                                                 \n",
       "1                                7 (Strongly Favour)                                                                                                                                                                 \n",
       "\n",
       "  Show how much you favour or oppose each idea below by selecting a number from 1 to 7 on the scale below. You can work quickly; your first feeling is generally best. [We should do what we can to equalize conditions for different groups.]  \\\n",
       "0                                7 (Strongly Favour)                                                                                                                                                                                             \n",
       "1                                5 (Slightly Favour)                                                                                                                                                                                             \n",
       "\n",
       "  Show how much you favour or oppose each idea below by selecting a number from 1 to 7 on the scale below. You can work quickly; your first feeling is generally best. [We should work to give all groups an equal chance to succeed.]  \n",
       "0                                1 (Strongly Oppose)                                                                                                                                                                                    \n",
       "1                                3 (Slightly Oppose)                                                                                                                                                                                    "
      ]
     },
     "execution_count": 60,
     "metadata": {},
     "output_type": "execute_result"
    }
   ],
   "source": [
    "dfsdo = dforig.iloc[:, 64:72]\n",
    "dfsdo"
   ]
  },
  {
   "cell_type": "markdown",
   "id": "f70a6a64-a4d0-40a9-aa5b-b53109c0ef43",
   "metadata": {},
   "source": [
    "### Mapped and Reversed"
   ]
  },
  {
   "cell_type": "code",
   "execution_count": 61,
   "id": "2caa4ece-4f75-47da-afba-35c63c83f184",
   "metadata": {},
   "outputs": [
    {
     "data": {
      "text/html": [
       "<div>\n",
       "<style scoped>\n",
       "    .dataframe tbody tr th:only-of-type {\n",
       "        vertical-align: middle;\n",
       "    }\n",
       "\n",
       "    .dataframe tbody tr th {\n",
       "        vertical-align: top;\n",
       "    }\n",
       "\n",
       "    .dataframe thead th {\n",
       "        text-align: right;\n",
       "    }\n",
       "</style>\n",
       "<table border=\"1\" class=\"dataframe\">\n",
       "  <thead>\n",
       "    <tr style=\"text-align: right;\">\n",
       "      <th></th>\n",
       "      <th>Show how much you favour or oppose each idea below by selecting a number from 1 to 7 on the scale below. You can work quickly; your first feeling is generally best. [An ideal society requires some groups to be on top and others to be on the bottom.]</th>\n",
       "      <th>Show how much you favour or oppose each idea below by selecting a number from 1 to 7 on the scale below. You can work quickly; your first feeling is generally best. [Some groups of people are simply inferior to other groups.]</th>\n",
       "      <th>Show how much you favour or oppose each idea below by selecting a number from 1 to 7 on the scale below. You can work quickly; your first feeling is generally best. [No one group should dominate in society.]</th>\n",
       "      <th>Show how much you favour or oppose each idea below by selecting a number from 1 to 7 on the scale below. You can work quickly; your first feeling is generally best. [Groups at the bottom are just as deserving as groups at the top.]</th>\n",
       "      <th>Show how much you favour or oppose each idea below by selecting a number from 1 to 7 on the scale below. You can work quickly; your first feeling is generally best. [Group equality should not be our primary goal.]</th>\n",
       "      <th>Show how much you favour or oppose each idea below by selecting a number from 1 to 7 on the scale below. You can work quickly; your first feeling is generally best. [It is unjust to try to make groups equal.]</th>\n",
       "      <th>Show how much you favour or oppose each idea below by selecting a number from 1 to 7 on the scale below. You can work quickly; your first feeling is generally best. [We should do what we can to equalize conditions for different groups.]</th>\n",
       "      <th>Show how much you favour or oppose each idea below by selecting a number from 1 to 7 on the scale below. You can work quickly; your first feeling is generally best. [We should work to give all groups an equal chance to succeed.]</th>\n",
       "    </tr>\n",
       "  </thead>\n",
       "  <tbody>\n",
       "    <tr>\n",
       "      <th>0</th>\n",
       "      <td>1</td>\n",
       "      <td>2</td>\n",
       "      <td>5</td>\n",
       "      <td>4</td>\n",
       "      <td>5</td>\n",
       "      <td>6</td>\n",
       "      <td>1</td>\n",
       "      <td>7</td>\n",
       "    </tr>\n",
       "    <tr>\n",
       "      <th>1</th>\n",
       "      <td>2</td>\n",
       "      <td>6</td>\n",
       "      <td>5</td>\n",
       "      <td>3</td>\n",
       "      <td>7</td>\n",
       "      <td>7</td>\n",
       "      <td>3</td>\n",
       "      <td>5</td>\n",
       "    </tr>\n",
       "  </tbody>\n",
       "</table>\n",
       "</div>"
      ],
      "text/plain": [
       "   Show how much you favour or oppose each idea below by selecting a number from 1 to 7 on the scale below. You can work quickly; your first feeling is generally best. [An ideal society requires some groups to be on top and others to be on the bottom.]  \\\n",
       "0                                                  1                                                                                                                                                                                                           \n",
       "1                                                  2                                                                                                                                                                                                           \n",
       "\n",
       "   Show how much you favour or oppose each idea below by selecting a number from 1 to 7 on the scale below. You can work quickly; your first feeling is generally best. [Some groups of people are simply inferior to other groups.]  \\\n",
       "0                                                  2                                                                                                                                                                                   \n",
       "1                                                  6                                                                                                                                                                                   \n",
       "\n",
       "   Show how much you favour or oppose each idea below by selecting a number from 1 to 7 on the scale below. You can work quickly; your first feeling is generally best. [No one group should dominate in society.]  \\\n",
       "0                                                  5                                                                                                                                                                 \n",
       "1                                                  5                                                                                                                                                                 \n",
       "\n",
       "   Show how much you favour or oppose each idea below by selecting a number from 1 to 7 on the scale below. You can work quickly; your first feeling is generally best. [Groups at the bottom are just as deserving as groups at the top.]  \\\n",
       "0                                                  4                                                                                                                                                                                         \n",
       "1                                                  3                                                                                                                                                                                         \n",
       "\n",
       "   Show how much you favour or oppose each idea below by selecting a number from 1 to 7 on the scale below. You can work quickly; your first feeling is generally best. [Group equality should not be our primary goal.]  \\\n",
       "0                                                  5                                                                                                                                                                       \n",
       "1                                                  7                                                                                                                                                                       \n",
       "\n",
       "   Show how much you favour or oppose each idea below by selecting a number from 1 to 7 on the scale below. You can work quickly; your first feeling is generally best. [It is unjust to try to make groups equal.]  \\\n",
       "0                                                  6                                                                                                                                                                  \n",
       "1                                                  7                                                                                                                                                                  \n",
       "\n",
       "   Show how much you favour or oppose each idea below by selecting a number from 1 to 7 on the scale below. You can work quickly; your first feeling is generally best. [We should do what we can to equalize conditions for different groups.]  \\\n",
       "0                                                  1                                                                                                                                                                                              \n",
       "1                                                  3                                                                                                                                                                                              \n",
       "\n",
       "   Show how much you favour or oppose each idea below by selecting a number from 1 to 7 on the scale below. You can work quickly; your first feeling is generally best. [We should work to give all groups an equal chance to succeed.]  \n",
       "0                                                  7                                                                                                                                                                                     \n",
       "1                                                  5                                                                                                                                                                                     "
      ]
     },
     "execution_count": 61,
     "metadata": {},
     "output_type": "execute_result"
    }
   ],
   "source": [
    "map = {'1 (Strongly Oppose)': 1,\n",
    "       '2 (Somewhat Oppose)': 2,\n",
    "       '3 (Slightly Oppose)': 3,\n",
    "       '4 (Neutral)': 4,\n",
    "       '5 (Slightly Favour)': 5,\n",
    "       '6 (Somewhat Favour)': 6,\n",
    "       '7 (Strongly Favour)': 7\n",
    "      }\n",
    "\n",
    "dfsdo.replace(map, inplace=True)\n",
    "\n",
    "dfsdo.iloc[:, [2, 3, 6, 7]] = 8 - dfsdo.iloc[:, [2, 3, 6, 7]]\n",
    "\n",
    "dfsdo"
   ]
  },
  {
   "cell_type": "markdown",
   "id": "4bfdc9aa-0863-46fd-8e6d-a5444705559f",
   "metadata": {},
   "source": [
    "### Descriptive Statistics"
   ]
  },
  {
   "cell_type": "code",
   "execution_count": 62,
   "id": "0ad81764-d263-4318-a51c-4f3040a2bbf4",
   "metadata": {},
   "outputs": [
    {
     "data": {
      "text/html": [
       "<div>\n",
       "<style scoped>\n",
       "    .dataframe tbody tr th:only-of-type {\n",
       "        vertical-align: middle;\n",
       "    }\n",
       "\n",
       "    .dataframe tbody tr th {\n",
       "        vertical-align: top;\n",
       "    }\n",
       "\n",
       "    .dataframe thead th {\n",
       "        text-align: right;\n",
       "    }\n",
       "</style>\n",
       "<table border=\"1\" class=\"dataframe\">\n",
       "  <thead>\n",
       "    <tr style=\"text-align: right;\">\n",
       "      <th></th>\n",
       "      <th>Sum SDO-D</th>\n",
       "      <th>Sum SDO-E</th>\n",
       "      <th>Sum SDO</th>\n",
       "      <th>Mean SDO-D</th>\n",
       "      <th>Mean SDO-E</th>\n",
       "      <th>Mean SDO</th>\n",
       "    </tr>\n",
       "  </thead>\n",
       "  <tbody>\n",
       "    <tr>\n",
       "      <th>0</th>\n",
       "      <td>12</td>\n",
       "      <td>19</td>\n",
       "      <td>31</td>\n",
       "      <td>3.0</td>\n",
       "      <td>4.75</td>\n",
       "      <td>3.875</td>\n",
       "    </tr>\n",
       "    <tr>\n",
       "      <th>1</th>\n",
       "      <td>16</td>\n",
       "      <td>22</td>\n",
       "      <td>38</td>\n",
       "      <td>4.0</td>\n",
       "      <td>5.50</td>\n",
       "      <td>4.750</td>\n",
       "    </tr>\n",
       "  </tbody>\n",
       "</table>\n",
       "</div>"
      ],
      "text/plain": [
       "   Sum SDO-D  Sum SDO-E  Sum SDO  Mean SDO-D  Mean SDO-E  Mean SDO\n",
       "0         12         19       31         3.0        4.75     3.875\n",
       "1         16         22       38         4.0        5.50     4.750"
      ]
     },
     "execution_count": 62,
     "metadata": {},
     "output_type": "execute_result"
    }
   ],
   "source": [
    "sdo_array = np.array(dfsdo)\n",
    "sdod = sdo_array[:, :4]\n",
    "sdoe = sdo_array[:, 4:]\n",
    "\n",
    "mean_stk = np.stack([mr(sdod), mr(sdoe), mr(sdo_array)], axis=1)\n",
    "sum_stk = np.stack([sr(sdod), sr(sdoe), sr(sdo_array)], axis=1)\n",
    "\n",
    "mean_sdo = pd.concat([(pd.DataFrame(sum_stk, columns=['Sum SDO-D', 'Sum SDO-E', 'Sum SDO'])), \n",
    "                      (pd.DataFrame(mean_stk, columns=['Mean SDO-D', 'Mean SDO-E', 'Mean SDO']))],\n",
    "                     axis=1)\n",
    "mean_sdo"
   ]
  },
  {
   "cell_type": "code",
   "execution_count": 63,
   "id": "d208afa6-8f1e-4066-bab5-beb615d9dacc",
   "metadata": {},
   "outputs": [
    {
     "data": {
      "text/plain": [
       "<BarContainer object of 3 artists>"
      ]
     },
     "execution_count": 63,
     "metadata": {},
     "output_type": "execute_result"
    },
    {
     "data": {
      "text/plain": [
       "Text(0.5, 1.0, 'Mean Composite Scores')"
      ]
     },
     "execution_count": 63,
     "metadata": {},
     "output_type": "execute_result"
    },
    {
     "data": {
      "image/png": "[encoded data removed]",
      "text/plain": [
       "<Figure size 640x480 with 1 Axes>"
      ]
     },
     "metadata": {},
     "output_type": "display_data"
    }
   ],
   "source": [
    "plt.bar(['SDO-D', 'SDO-E', 'SDO'], [mwa(sum_stk[:, 0]), mwa(sum_stk[:, 1]), mwa(sum_stk[:, 2])])\n",
    "plt.title('Mean Composite Scores')"
   ]
  },
  {
   "cell_type": "markdown",
   "id": "72ced8fc-1ec8-47a5-98c5-ea8cdaa55b95",
   "metadata": {},
   "source": [
    "---"
   ]
  },
  {
   "cell_type": "markdown",
   "id": "8fc796e3-55d7-4acf-bc3e-e598c8d434f5",
   "metadata": {},
   "source": [
    "## Behavioural Inhibition System/Behavioural Activation System Scale"
   ]
  },
  {
   "cell_type": "markdown",
   "id": "ae57b720-a4b7-4a31-a4d4-6ada65b416e9",
   "metadata": {},
   "source": [
    "### Original Scale"
   ]
  },
  {
   "cell_type": "code",
   "execution_count": 64,
   "id": "b2739a6d-c42a-4879-af75-75078788fa29",
   "metadata": {},
   "outputs": [
    {
     "data": {
      "text/html": [
       "<div>\n",
       "<style scoped>\n",
       "    .dataframe tbody tr th:only-of-type {\n",
       "        vertical-align: middle;\n",
       "    }\n",
       "\n",
       "    .dataframe tbody tr th {\n",
       "        vertical-align: top;\n",
       "    }\n",
       "\n",
       "    .dataframe thead th {\n",
       "        text-align: right;\n",
       "    }\n",
       "</style>\n",
       "<table border=\"1\" class=\"dataframe\">\n",
       "  <thead>\n",
       "    <tr style=\"text-align: right;\">\n",
       "      <th></th>\n",
       "      <th>Even if something bad is about to happen to me, I rarely experience fear or nervousness.</th>\n",
       "      <th>I go out of my way to get things I want.</th>\n",
       "      <th>When I'm doing well at something, I love to keep at it.</th>\n",
       "      <th>I'm always willing to try something new if I think it will be fun.</th>\n",
       "      <th>When I get something I want, I feel excited and energized.</th>\n",
       "      <th>Criticism or scolding hurts me quite a bit.</th>\n",
       "      <th>When I want something, I usually go all-out to get it.</th>\n",
       "      <th>I will often do things for no other reason than that they might be fun.</th>\n",
       "      <th>If I see a chance to get something I want, I move on it right away.</th>\n",
       "      <th>I feel pretty worried or upset when I think or know somebody is angry at me.</th>\n",
       "      <th>When I see an opportunity for something I like, I get excited right away.</th>\n",
       "      <th>I often act on the spur of the moment.</th>\n",
       "      <th>If I think something unpleasant is going to happen, I usually get pretty \"worked up.\"</th>\n",
       "      <th>When good things happen to me, it affects me strongly.</th>\n",
       "      <th>I feel worried when I think I have done poorly at something.</th>\n",
       "      <th>I crave excitement and new sensations.</th>\n",
       "      <th>When I go after something, I use a \"no holds barred\" approach.</th>\n",
       "      <th>I have very few fears compared to my friends.</th>\n",
       "      <th>It would excite me to win a contest.</th>\n",
       "      <th>I worry about making mistakes.</th>\n",
       "    </tr>\n",
       "  </thead>\n",
       "  <tbody>\n",
       "    <tr>\n",
       "      <th>0</th>\n",
       "      <td>1</td>\n",
       "      <td>2</td>\n",
       "      <td>3</td>\n",
       "      <td>4</td>\n",
       "      <td>1</td>\n",
       "      <td>2</td>\n",
       "      <td>3</td>\n",
       "      <td>4</td>\n",
       "      <td>1</td>\n",
       "      <td>2</td>\n",
       "      <td>3</td>\n",
       "      <td>4</td>\n",
       "      <td>1</td>\n",
       "      <td>2</td>\n",
       "      <td>3</td>\n",
       "      <td>4</td>\n",
       "      <td>1</td>\n",
       "      <td>2</td>\n",
       "      <td>3</td>\n",
       "      <td>4</td>\n",
       "    </tr>\n",
       "    <tr>\n",
       "      <th>1</th>\n",
       "      <td>1</td>\n",
       "      <td>2</td>\n",
       "      <td>1</td>\n",
       "      <td>2</td>\n",
       "      <td>1</td>\n",
       "      <td>4</td>\n",
       "      <td>3</td>\n",
       "      <td>2</td>\n",
       "      <td>2</td>\n",
       "      <td>3</td>\n",
       "      <td>3</td>\n",
       "      <td>3</td>\n",
       "      <td>3</td>\n",
       "      <td>3</td>\n",
       "      <td>3</td>\n",
       "      <td>2</td>\n",
       "      <td>2</td>\n",
       "      <td>2</td>\n",
       "      <td>3</td>\n",
       "      <td>3</td>\n",
       "    </tr>\n",
       "  </tbody>\n",
       "</table>\n",
       "</div>"
      ],
      "text/plain": [
       "   Even if something bad is about to happen to me, I rarely experience fear or nervousness.   \\\n",
       "0                                                  1                                           \n",
       "1                                                  1                                           \n",
       "\n",
       "   I go out of my way to get things I want.  \\\n",
       "0                                         2   \n",
       "1                                         2   \n",
       "\n",
       "   When I'm doing well at something, I love to keep at it.  \\\n",
       "0                                                  3         \n",
       "1                                                  1         \n",
       "\n",
       "   I'm always willing to try something new if I think it will be fun.  \\\n",
       "0                                                  4                    \n",
       "1                                                  2                    \n",
       "\n",
       "   When I get something I want, I feel excited and energized.  \\\n",
       "0                                                  1            \n",
       "1                                                  1            \n",
       "\n",
       "   Criticism or scolding hurts me quite a bit.  \\\n",
       "0                                            2   \n",
       "1                                            4   \n",
       "\n",
       "   When I want something, I usually go all-out to get it.  \\\n",
       "0                                                  3        \n",
       "1                                                  3        \n",
       "\n",
       "   I will often do things for no other reason than that they might be fun.  \\\n",
       "0                                                  4                         \n",
       "1                                                  2                         \n",
       "\n",
       "   If I see a chance to get something I want, I move on it right away.  \\\n",
       "0                                                  1                     \n",
       "1                                                  2                     \n",
       "\n",
       "   I feel pretty worried or upset when I think or know somebody is angry at me.  \\\n",
       "0                                                  2                              \n",
       "1                                                  3                              \n",
       "\n",
       "   When I see an opportunity for something I like, I get excited right away.  \\\n",
       "0                                                  3                           \n",
       "1                                                  3                           \n",
       "\n",
       "   I often act on the spur of the moment.  \\\n",
       "0                                       4   \n",
       "1                                       3   \n",
       "\n",
       "   If I think something unpleasant is going to happen, I usually get pretty \"worked up.\"   \\\n",
       "0                                                  1                                        \n",
       "1                                                  3                                        \n",
       "\n",
       "   When good things happen to me, it affects me strongly.  \\\n",
       "0                                                  2        \n",
       "1                                                  3        \n",
       "\n",
       "   I feel worried when I think I have done poorly at something.  \\\n",
       "0                                                  3              \n",
       "1                                                  3              \n",
       "\n",
       "   I crave excitement and new sensations.  \\\n",
       "0                                       4   \n",
       "1                                       2   \n",
       "\n",
       "   When I go after something, I use a \"no holds barred\" approach.  \\\n",
       "0                                                  1                \n",
       "1                                                  2                \n",
       "\n",
       "   I have very few fears compared to my friends.  \\\n",
       "0                                              2   \n",
       "1                                              2   \n",
       "\n",
       "   It would excite me to win a contest.  I worry about making mistakes.  \n",
       "0                                     3                               4  \n",
       "1                                     3                               3  "
      ]
     },
     "execution_count": 64,
     "metadata": {},
     "output_type": "execute_result"
    }
   ],
   "source": [
    "dfbisbas = dforig.iloc[:, 72:92]\n",
    "dfbisbas"
   ]
  },
  {
   "cell_type": "markdown",
   "id": "2cbc546a-b27e-4553-83b2-4c33ad5030c7",
   "metadata": {},
   "source": [
    "### Inted and Reversed"
   ]
  },
  {
   "cell_type": "code",
   "execution_count": 65,
   "id": "866e408e-a481-44e5-bec5-89fe9530503d",
   "metadata": {},
   "outputs": [
    {
     "data": {
      "text/html": [
       "<div>\n",
       "<style scoped>\n",
       "    .dataframe tbody tr th:only-of-type {\n",
       "        vertical-align: middle;\n",
       "    }\n",
       "\n",
       "    .dataframe tbody tr th {\n",
       "        vertical-align: top;\n",
       "    }\n",
       "\n",
       "    .dataframe thead th {\n",
       "        text-align: right;\n",
       "    }\n",
       "</style>\n",
       "<table border=\"1\" class=\"dataframe\">\n",
       "  <thead>\n",
       "    <tr style=\"text-align: right;\">\n",
       "      <th></th>\n",
       "      <th>Even if something bad is about to happen to me, I rarely experience fear or nervousness.</th>\n",
       "      <th>I go out of my way to get things I want.</th>\n",
       "      <th>When I'm doing well at something, I love to keep at it.</th>\n",
       "      <th>I'm always willing to try something new if I think it will be fun.</th>\n",
       "      <th>When I get something I want, I feel excited and energized.</th>\n",
       "      <th>Criticism or scolding hurts me quite a bit.</th>\n",
       "      <th>When I want something, I usually go all-out to get it.</th>\n",
       "      <th>I will often do things for no other reason than that they might be fun.</th>\n",
       "      <th>If I see a chance to get something I want, I move on it right away.</th>\n",
       "      <th>I feel pretty worried or upset when I think or know somebody is angry at me.</th>\n",
       "      <th>When I see an opportunity for something I like, I get excited right away.</th>\n",
       "      <th>I often act on the spur of the moment.</th>\n",
       "      <th>If I think something unpleasant is going to happen, I usually get pretty \"worked up.\"</th>\n",
       "      <th>When good things happen to me, it affects me strongly.</th>\n",
       "      <th>I feel worried when I think I have done poorly at something.</th>\n",
       "      <th>I crave excitement and new sensations.</th>\n",
       "      <th>When I go after something, I use a \"no holds barred\" approach.</th>\n",
       "      <th>I have very few fears compared to my friends.</th>\n",
       "      <th>It would excite me to win a contest.</th>\n",
       "      <th>I worry about making mistakes.</th>\n",
       "    </tr>\n",
       "  </thead>\n",
       "  <tbody>\n",
       "    <tr>\n",
       "      <th>0</th>\n",
       "      <td>1</td>\n",
       "      <td>3</td>\n",
       "      <td>2</td>\n",
       "      <td>1</td>\n",
       "      <td>4</td>\n",
       "      <td>3</td>\n",
       "      <td>2</td>\n",
       "      <td>1</td>\n",
       "      <td>4</td>\n",
       "      <td>3</td>\n",
       "      <td>2</td>\n",
       "      <td>1</td>\n",
       "      <td>4</td>\n",
       "      <td>3</td>\n",
       "      <td>2</td>\n",
       "      <td>1</td>\n",
       "      <td>4</td>\n",
       "      <td>2</td>\n",
       "      <td>2</td>\n",
       "      <td>1</td>\n",
       "    </tr>\n",
       "    <tr>\n",
       "      <th>1</th>\n",
       "      <td>1</td>\n",
       "      <td>3</td>\n",
       "      <td>4</td>\n",
       "      <td>3</td>\n",
       "      <td>4</td>\n",
       "      <td>1</td>\n",
       "      <td>2</td>\n",
       "      <td>3</td>\n",
       "      <td>3</td>\n",
       "      <td>2</td>\n",
       "      <td>2</td>\n",
       "      <td>2</td>\n",
       "      <td>2</td>\n",
       "      <td>2</td>\n",
       "      <td>2</td>\n",
       "      <td>3</td>\n",
       "      <td>3</td>\n",
       "      <td>2</td>\n",
       "      <td>2</td>\n",
       "      <td>2</td>\n",
       "    </tr>\n",
       "  </tbody>\n",
       "</table>\n",
       "</div>"
      ],
      "text/plain": [
       "   Even if something bad is about to happen to me, I rarely experience fear or nervousness.   \\\n",
       "0                                                  1                                           \n",
       "1                                                  1                                           \n",
       "\n",
       "   I go out of my way to get things I want.  \\\n",
       "0                                         3   \n",
       "1                                         3   \n",
       "\n",
       "   When I'm doing well at something, I love to keep at it.  \\\n",
       "0                                                  2         \n",
       "1                                                  4         \n",
       "\n",
       "   I'm always willing to try something new if I think it will be fun.  \\\n",
       "0                                                  1                    \n",
       "1                                                  3                    \n",
       "\n",
       "   When I get something I want, I feel excited and energized.  \\\n",
       "0                                                  4            \n",
       "1                                                  4            \n",
       "\n",
       "   Criticism or scolding hurts me quite a bit.  \\\n",
       "0                                            3   \n",
       "1                                            1   \n",
       "\n",
       "   When I want something, I usually go all-out to get it.  \\\n",
       "0                                                  2        \n",
       "1                                                  2        \n",
       "\n",
       "   I will often do things for no other reason than that they might be fun.  \\\n",
       "0                                                  1                         \n",
       "1                                                  3                         \n",
       "\n",
       "   If I see a chance to get something I want, I move on it right away.  \\\n",
       "0                                                  4                     \n",
       "1                                                  3                     \n",
       "\n",
       "   I feel pretty worried or upset when I think or know somebody is angry at me.  \\\n",
       "0                                                  3                              \n",
       "1                                                  2                              \n",
       "\n",
       "   When I see an opportunity for something I like, I get excited right away.  \\\n",
       "0                                                  2                           \n",
       "1                                                  2                           \n",
       "\n",
       "   I often act on the spur of the moment.  \\\n",
       "0                                       1   \n",
       "1                                       2   \n",
       "\n",
       "   If I think something unpleasant is going to happen, I usually get pretty \"worked up.\"   \\\n",
       "0                                                  4                                        \n",
       "1                                                  2                                        \n",
       "\n",
       "   When good things happen to me, it affects me strongly.  \\\n",
       "0                                                  3        \n",
       "1                                                  2        \n",
       "\n",
       "   I feel worried when I think I have done poorly at something.  \\\n",
       "0                                                  2              \n",
       "1                                                  2              \n",
       "\n",
       "   I crave excitement and new sensations.  \\\n",
       "0                                       1   \n",
       "1                                       3   \n",
       "\n",
       "   When I go after something, I use a \"no holds barred\" approach.  \\\n",
       "0                                                  4                \n",
       "1                                                  3                \n",
       "\n",
       "   I have very few fears compared to my friends.  \\\n",
       "0                                              2   \n",
       "1                                              2   \n",
       "\n",
       "   It would excite me to win a contest.  I worry about making mistakes.  \n",
       "0                                     2                               1  \n",
       "1                                     2                               2  "
      ]
     },
     "execution_count": 65,
     "metadata": {},
     "output_type": "execute_result"
    }
   ],
   "source": [
    "keep = [col for col in range(len(dfbisbas.columns)) if col not in [0, 17]]\n",
    "dfbisbas.iloc[:, keep] = 5 - dfbisbas.iloc[:, keep]\n",
    "\n",
    "dfbisbas"
   ]
  },
  {
   "cell_type": "markdown",
   "id": "53c2cb48-73d8-45db-aebd-72df8f4ab532",
   "metadata": {},
   "source": [
    "### Descriptive Statistics"
   ]
  },
  {
   "cell_type": "code",
   "execution_count": 66,
   "id": "aba985c2-5c82-4fc8-aea3-1e8094c209ec",
   "metadata": {},
   "outputs": [
    {
     "data": {
      "text/html": [
       "<div>\n",
       "<style scoped>\n",
       "    .dataframe tbody tr th:only-of-type {\n",
       "        vertical-align: middle;\n",
       "    }\n",
       "\n",
       "    .dataframe tbody tr th {\n",
       "        vertical-align: top;\n",
       "    }\n",
       "\n",
       "    .dataframe thead th {\n",
       "        text-align: right;\n",
       "    }\n",
       "</style>\n",
       "<table border=\"1\" class=\"dataframe\">\n",
       "  <thead>\n",
       "    <tr style=\"text-align: right;\">\n",
       "      <th></th>\n",
       "      <th>BAS Drive</th>\n",
       "      <th>BAS Fun Seeking</th>\n",
       "      <th>BAS Reward Response</th>\n",
       "      <th>BIS</th>\n",
       "      <th>BAS Index</th>\n",
       "    </tr>\n",
       "  </thead>\n",
       "  <tbody>\n",
       "    <tr>\n",
       "      <th>0</th>\n",
       "      <td>13</td>\n",
       "      <td>4</td>\n",
       "      <td>13</td>\n",
       "      <td>16</td>\n",
       "      <td>30</td>\n",
       "    </tr>\n",
       "    <tr>\n",
       "      <th>1</th>\n",
       "      <td>11</td>\n",
       "      <td>11</td>\n",
       "      <td>14</td>\n",
       "      <td>12</td>\n",
       "      <td>36</td>\n",
       "    </tr>\n",
       "  </tbody>\n",
       "</table>\n",
       "</div>"
      ],
      "text/plain": [
       "   BAS Drive  BAS Fun Seeking  BAS Reward Response  BIS  BAS Index\n",
       "0         13                4                   13   16         30\n",
       "1         11               11                   14   12         36"
      ]
     },
     "execution_count": 66,
     "metadata": {},
     "output_type": "execute_result"
    }
   ],
   "source": [
    "sdo_array = np.array(dfbisbas)\n",
    "\n",
    "basd = sr(sdo_array[:, [1, 6, 8, 16]])\n",
    "basf = sr(sdo_array[:, [3, 7, 11, 15]])\n",
    "basr = sr(sdo_array[:, [2, 4, 10, 13, 18]])\n",
    "bis = sr(sdo_array[:, [0, 5, 9, 12, 14, 17, 19]])\n",
    "\n",
    "basind = [col for col in range(len(dfbisbas.columns)) if col not in [0, 5, 9, 12, 14, 17, 19]]\n",
    "basind = sr(sdo_array[:, basind])\n",
    "\n",
    "subsdo = np.stack((basd, basf, basr, bis, basind), axis=1)\n",
    "\n",
    "pd_subsdo = pd.DataFrame(subsdo, columns=['BAS Drive', 'BAS Fun Seeking', 'BAS Reward Response', 'BIS', 'BAS Index'])\n",
    "\n",
    "pd_subsdo"
   ]
  },
  {
   "cell_type": "code",
   "execution_count": 67,
   "id": "f2e76276-5a8c-49eb-bf0b-4b81b0565304",
   "metadata": {},
   "outputs": [
    {
     "data": {
      "text/plain": [
       "<BarContainer object of 5 artists>"
      ]
     },
     "execution_count": 67,
     "metadata": {},
     "output_type": "execute_result"
    },
    {
     "data": {
      "text/plain": [
       "Text(0.5, 1.0, 'Composite Scores')"
      ]
     },
     "execution_count": 67,
     "metadata": {},
     "output_type": "execute_result"
    },
    {
     "data": {
      "image/png": "[encoded data removed]",
      "text/plain": [
       "<Figure size 1200x700 with 1 Axes>"
      ]
     },
     "metadata": {},
     "output_type": "display_data"
    }
   ],
   "source": [
    "plt.rcParams[\"figure.figsize\"] = (12,7)\n",
    "plt.bar(['BAS Drive', 'BAS Fun Seeking', 'BAS Reward Response', 'BIS', 'BAS Index'], [swa(basd), swa(basf), swa(basr), swa(bis), swa(basind)])\n",
    "plt.title('Composite Scores')"
   ]
  },
  {
   "cell_type": "markdown",
   "id": "7ddadeba-597f-4ded-bf2e-74fa87ce3291",
   "metadata": {},
   "source": [
    "---"
   ]
  },
  {
   "cell_type": "markdown",
   "id": "e68e0247-ada0-4c0a-89a9-9c9882a8930b",
   "metadata": {},
   "source": [
    "# SP/SR"
   ]
  },
  {
   "cell_type": "code",
   "execution_count": 68,
   "id": "cb4f1540-fdad-48f6-bfca-bc1bcd32666d",
   "metadata": {},
   "outputs": [
    {
     "data": {
      "text/html": [
       "<div>\n",
       "<style scoped>\n",
       "    .dataframe tbody tr th:only-of-type {\n",
       "        vertical-align: middle;\n",
       "    }\n",
       "\n",
       "    .dataframe tbody tr th {\n",
       "        vertical-align: top;\n",
       "    }\n",
       "\n",
       "    .dataframe thead th {\n",
       "        text-align: right;\n",
       "    }\n",
       "</style>\n",
       "<table border=\"1\" class=\"dataframe\">\n",
       "  <thead>\n",
       "    <tr style=\"text-align: right;\">\n",
       "      <th></th>\n",
       "      <th>Please indicate if you agree or disagree with the statements below. [Do you often refrain from doing something because you are afraid of it being illegal?]</th>\n",
       "      <th>Please indicate if you agree or disagree with the statements below. [Does the good prospect of obtaining money motivate you strongly to do some things?]</th>\n",
       "      <th>Please indicate if you agree or disagree with the statements below. [Do you prefer not to ask for something if you are not sure you will obtain it?]</th>\n",
       "      <th>Please indicate if you agree or disagree with the statements below. [Are you frequently encouraged to act by the possibility of being valued in your work, in your studies, with your friends or with your family?]</th>\n",
       "      <th>Please indicate if you agree or disagree with the statements below. [Are you often afraid of new or unexpected situations?]</th>\n",
       "      <th>Please indicate if you agree or disagree with the statements below. [Do you often meet people that you find physically attractive?]</th>\n",
       "      <th>Please indicate if you agree or disagree with the statements below. [Is it difficult for you to telephone someone you do not know?]</th>\n",
       "      <th>Please indicate if you agree or disagree with the statements below. [Do you like taking some drugs because of the pleasure you get from them?]</th>\n",
       "      <th>Please indicate if you agree or disagree with the statements below. [Do you often renounce your rights when you know you can avoid a quarrel with a person or an organization?]</th>\n",
       "      <th>Please indicate if you agree or disagree with the statements below. [Do you often do things to be praised?]</th>\n",
       "      <th>...</th>\n",
       "      <th>Please indicate if you agree or disagree with the statements below. [Comparing yourself to people you know, are you afraid of many things?]</th>\n",
       "      <th>Please indicate if you agree or disagree with the statements below. [Does your attention easily stray from your work in the presence of an attractive stranger?]</th>\n",
       "      <th>Please indicate if you agree or disagree with the statements below. [Do you often find yourself worrying about things to the extent that performance in intellectual abilities is impaired?]</th>\n",
       "      <th>Please indicate if you agree or disagree with the statements below. [Are you interested in money to the point of being able to do risky jobs?]</th>\n",
       "      <th>Please indicate if you agree or disagree with the statements below. [Do you often refrain from doing something you like in order not to be rejected or disapproved by others?]</th>\n",
       "      <th>Please indicate if you agree or disagree with the statements below. [Do you like to put competitive ingredients in all of your activities?]</th>\n",
       "      <th>Please indicate if you agree or disagree with the statements below. [Generally, do you pay more attention to threats than to pleasant events?]</th>\n",
       "      <th>Please indicate if you agree or disagree with the statements below. [Would you like to be a socially powerful person?]</th>\n",
       "      <th>Please indicate if you agree or disagree with the statements below. [Do you often refrain from doing something because of your fear of being embarrassed?]</th>\n",
       "      <th>Please indicate if you agree or disagree with the statements below. [Do you like displaying your physical abilities even though this may involve danger?]</th>\n",
       "    </tr>\n",
       "  </thead>\n",
       "  <tbody>\n",
       "    <tr>\n",
       "      <th>0</th>\n",
       "      <td>No</td>\n",
       "      <td>Yes</td>\n",
       "      <td>No</td>\n",
       "      <td>Yes</td>\n",
       "      <td>No</td>\n",
       "      <td>Yes</td>\n",
       "      <td>No</td>\n",
       "      <td>Yes</td>\n",
       "      <td>No</td>\n",
       "      <td>Yes</td>\n",
       "      <td>...</td>\n",
       "      <td>No</td>\n",
       "      <td>Yes</td>\n",
       "      <td>No</td>\n",
       "      <td>Yes</td>\n",
       "      <td>No</td>\n",
       "      <td>Yes</td>\n",
       "      <td>No</td>\n",
       "      <td>Yes</td>\n",
       "      <td>No</td>\n",
       "      <td>Yes</td>\n",
       "    </tr>\n",
       "    <tr>\n",
       "      <th>1</th>\n",
       "      <td>Yes</td>\n",
       "      <td>Yes</td>\n",
       "      <td>No</td>\n",
       "      <td>Yes</td>\n",
       "      <td>No</td>\n",
       "      <td>No</td>\n",
       "      <td>No</td>\n",
       "      <td>Yes</td>\n",
       "      <td>Yes</td>\n",
       "      <td>Yes</td>\n",
       "      <td>...</td>\n",
       "      <td>No</td>\n",
       "      <td>Yes</td>\n",
       "      <td>No</td>\n",
       "      <td>No</td>\n",
       "      <td>Yes</td>\n",
       "      <td>Yes</td>\n",
       "      <td>No</td>\n",
       "      <td>No</td>\n",
       "      <td>No</td>\n",
       "      <td>No</td>\n",
       "    </tr>\n",
       "  </tbody>\n",
       "</table>\n",
       "<p>2 rows × 48 columns</p>\n",
       "</div>"
      ],
      "text/plain": [
       "  Please indicate if you agree or disagree with the statements below. [Do you often refrain from doing something because you are afraid of it being illegal?]  \\\n",
       "0                                                 No                                                                                                            \n",
       "1                                                Yes                                                                                                            \n",
       "\n",
       "  Please indicate if you agree or disagree with the statements below. [Does the good prospect of obtaining money motivate you strongly to do some things?]  \\\n",
       "0                                                Yes                                                                                                         \n",
       "1                                                Yes                                                                                                         \n",
       "\n",
       "  Please indicate if you agree or disagree with the statements below. [Do you prefer not to ask for something if you are not sure you will obtain it?]  \\\n",
       "0                                                 No                                                                                                     \n",
       "1                                                 No                                                                                                     \n",
       "\n",
       "  Please indicate if you agree or disagree with the statements below. [Are you frequently encouraged to act by the possibility of being valued in your work, in your studies, with your friends or with your family?]  \\\n",
       "0                                                Yes                                                                                                                                                                    \n",
       "1                                                Yes                                                                                                                                                                    \n",
       "\n",
       "  Please indicate if you agree or disagree with the statements below. [Are you often afraid of new or unexpected situations?]  \\\n",
       "0                                                 No                                                                            \n",
       "1                                                 No                                                                            \n",
       "\n",
       "  Please indicate if you agree or disagree with the statements below. [Do you often meet people that you find physically attractive?]  \\\n",
       "0                                                Yes                                                                                    \n",
       "1                                                 No                                                                                    \n",
       "\n",
       "  Please indicate if you agree or disagree with the statements below. [Is it difficult for you to telephone someone you do not know?]  \\\n",
       "0                                                 No                                                                                    \n",
       "1                                                 No                                                                                    \n",
       "\n",
       "  Please indicate if you agree or disagree with the statements below. [Do you like taking some drugs because of the pleasure you get from them?]  \\\n",
       "0                                                Yes                                                                                               \n",
       "1                                                Yes                                                                                               \n",
       "\n",
       "  Please indicate if you agree or disagree with the statements below. [Do you often renounce your rights when you know you can avoid a quarrel with a person or an organization?]  \\\n",
       "0                                                 No                                                                                                                                \n",
       "1                                                Yes                                                                                                                                \n",
       "\n",
       "  Please indicate if you agree or disagree with the statements below. [Do you often do things to be praised?]  \\\n",
       "0                                                Yes                                                            \n",
       "1                                                Yes                                                            \n",
       "\n",
       "   ...  \\\n",
       "0  ...   \n",
       "1  ...   \n",
       "\n",
       "  Please indicate if you agree or disagree with the statements below. [Comparing yourself to people you know, are you afraid of many things?]  \\\n",
       "0                                                 No                                                                                            \n",
       "1                                                 No                                                                                            \n",
       "\n",
       "  Please indicate if you agree or disagree with the statements below. [Does your attention easily stray from your work in the presence of an attractive stranger?]  \\\n",
       "0                                                Yes                                                                                                                 \n",
       "1                                                Yes                                                                                                                 \n",
       "\n",
       "  Please indicate if you agree or disagree with the statements below. [Do you often find yourself worrying about things to the extent that performance in intellectual abilities is impaired?]  \\\n",
       "0                                                 No                                                                                                                                             \n",
       "1                                                 No                                                                                                                                             \n",
       "\n",
       "  Please indicate if you agree or disagree with the statements below. [Are you interested in money to the point of being able to do risky jobs?]  \\\n",
       "0                                                Yes                                                                                               \n",
       "1                                                 No                                                                                               \n",
       "\n",
       "  Please indicate if you agree or disagree with the statements below. [Do you often refrain from doing something you like in order not to be rejected or disapproved by others?]  \\\n",
       "0                                                 No                                                                                                                               \n",
       "1                                                Yes                                                                                                                               \n",
       "\n",
       "  Please indicate if you agree or disagree with the statements below. [Do you like to put competitive ingredients in all of your activities?]  \\\n",
       "0                                                Yes                                                                                            \n",
       "1                                                Yes                                                                                            \n",
       "\n",
       "  Please indicate if you agree or disagree with the statements below. [Generally, do you pay more attention to threats than to pleasant events?]  \\\n",
       "0                                                 No                                                                                               \n",
       "1                                                 No                                                                                               \n",
       "\n",
       "  Please indicate if you agree or disagree with the statements below. [Would you like to be a socially powerful person?]  \\\n",
       "0                                                Yes                                                                       \n",
       "1                                                 No                                                                       \n",
       "\n",
       "  Please indicate if you agree or disagree with the statements below. [Do you often refrain from doing something because of your fear of being embarrassed?]  \\\n",
       "0                                                 No                                                                                                           \n",
       "1                                                 No                                                                                                           \n",
       "\n",
       "  Please indicate if you agree or disagree with the statements below. [Do you like displaying your physical abilities even though this may involve danger?]  \n",
       "0                                                Yes                                                                                                         \n",
       "1                                                 No                                                                                                         \n",
       "\n",
       "[2 rows x 48 columns]"
      ]
     },
     "execution_count": 68,
     "metadata": {},
     "output_type": "execute_result"
    }
   ],
   "source": [
    "dfspsr = dforig.iloc[:, 92:140]\n",
    "dfspsr"
   ]
  },
  {
   "cell_type": "code",
   "execution_count": 69,
   "id": "5a0084bc-2262-469f-b76f-27490781f897",
   "metadata": {},
   "outputs": [
    {
     "data": {
      "text/html": [
       "<div>\n",
       "<style scoped>\n",
       "    .dataframe tbody tr th:only-of-type {\n",
       "        vertical-align: middle;\n",
       "    }\n",
       "\n",
       "    .dataframe tbody tr th {\n",
       "        vertical-align: top;\n",
       "    }\n",
       "\n",
       "    .dataframe thead th {\n",
       "        text-align: right;\n",
       "    }\n",
       "</style>\n",
       "<table border=\"1\" class=\"dataframe\">\n",
       "  <thead>\n",
       "    <tr style=\"text-align: right;\">\n",
       "      <th></th>\n",
       "      <th>0</th>\n",
       "      <th>1</th>\n",
       "      <th>Total</th>\n",
       "    </tr>\n",
       "  </thead>\n",
       "  <tbody>\n",
       "    <tr>\n",
       "      <th>Punishment</th>\n",
       "      <td>0</td>\n",
       "      <td>9</td>\n",
       "      <td>9</td>\n",
       "    </tr>\n",
       "    <tr>\n",
       "      <th>Reward</th>\n",
       "      <td>24</td>\n",
       "      <td>15</td>\n",
       "      <td>39</td>\n",
       "    </tr>\n",
       "  </tbody>\n",
       "</table>\n",
       "</div>"
      ],
      "text/plain": [
       "             0   1  Total\n",
       "Punishment   0   9      9\n",
       "Reward      24  15     39"
      ]
     },
     "execution_count": 69,
     "metadata": {},
     "output_type": "execute_result"
    }
   ],
   "source": [
    "pun = np.array([1 , 3 , 5 , 7 , 9 , 11 , 13 , 15 , 17 , 19 , 21 , 23 , 25 , 27 , 29 , 31 , 33 , 35 , 37 , 39 , 41 , 43 , 45 , 47]) - 1\n",
    "rew = np.array([2 , 4 , 6 , 8 , 10 , 12 , 14 , 16 , 18 , 20 , 22 , 24 , 26 , 28 , 30 , 32 , 34 , 36 , 38 , 40 , 42 , 44 , 46 , 48]) - 1\n",
    "\n",
    "punishment = sr(np.array(dfspsr.iloc[:, pun] == 'Yes'))\n",
    "reward = sr(np.array(dfspsr.iloc[:, rew] == 'Yes'))\n",
    "\n",
    "spsr = np.stack((punishment, reward), axis=0)\n",
    "\n",
    "pr = pd.DataFrame(spsr, index = ['Punishment', 'Reward'])\n",
    "tpr = pd.DataFrame(sr(spsr), index = ['Punishment', 'Reward'], columns = ['Total'])\n",
    "\n",
    "prtpr = pr.merge(tpr, left_index = True, right_index=True)\n",
    "\n",
    "prtpr"
   ]
  },
  {
   "cell_type": "markdown",
   "id": "e835acb0-92e6-4ef9-9cfd-60afed4bf312",
   "metadata": {},
   "source": [
    "## Descriptive Statistics"
   ]
  },
  {
   "cell_type": "code",
   "execution_count": 70,
   "id": "8c9d9e7d-778e-4bce-8e61-a0c3e4c95933",
   "metadata": {},
   "outputs": [
    {
     "data": {
      "text/plain": [
       "<BarContainer object of 2 artists>"
      ]
     },
     "execution_count": 70,
     "metadata": {},
     "output_type": "execute_result"
    },
    {
     "data": {
      "text/plain": [
       "Text(0.5, 1.0, 'Total Punishment and Reward Sensitvity')"
      ]
     },
     "execution_count": 70,
     "metadata": {},
     "output_type": "execute_result"
    },
    {
     "data": {
      "image/png": "[encoded data removed]",
      "text/plain": [
       "<Figure size 1200x700 with 1 Axes>"
      ]
     },
     "metadata": {},
     "output_type": "display_data"
    }
   ],
   "source": [
    "plt.bar(['Punishment', 'Reward'], prtpr[\"Total\"])\n",
    "plt.title(\"Total Punishment and Reward Sensitvity\")"
   ]
  },
  {
   "cell_type": "code",
   "execution_count": 71,
   "id": "09db7bbb-47e0-40e7-a1f8-3863bf332f68",
   "metadata": {},
   "outputs": [
    {
     "data": {
      "text/plain": [
       "<BarContainer object of 2 artists>"
      ]
     },
     "execution_count": 71,
     "metadata": {},
     "output_type": "execute_result"
    },
    {
     "data": {
      "text/plain": [
       "Text(0.5, 1.0, 'Punishment Sensitvity per Participant')"
      ]
     },
     "execution_count": 71,
     "metadata": {},
     "output_type": "execute_result"
    },
    {
     "data": {
      "image/png": "[encoded data removed]",
      "text/plain": [
       "<Figure size 1200x700 with 1 Axes>"
      ]
     },
     "metadata": {},
     "output_type": "display_data"
    }
   ],
   "source": [
    "plt.bar(list(pr.columns), pr.loc['Punishment'])\n",
    "plt.title(\"Punishment Sensitvity per Participant\")"
   ]
  },
  {
   "cell_type": "code",
   "execution_count": 72,
   "id": "3afb6f9f-0a79-4569-8d3a-e8dc3da41b43",
   "metadata": {},
   "outputs": [
    {
     "data": {
      "text/plain": [
       "<BarContainer object of 2 artists>"
      ]
     },
     "execution_count": 72,
     "metadata": {},
     "output_type": "execute_result"
    },
    {
     "data": {
      "text/plain": [
       "Text(0.5, 1.0, 'Reward Sensitvity per Participant')"
      ]
     },
     "execution_count": 72,
     "metadata": {},
     "output_type": "execute_result"
    },
    {
     "data": {
      "image/png": "[encoded data removed]",
      "text/plain": [
       "<Figure size 1200x700 with 1 Axes>"
      ]
     },
     "metadata": {},
     "output_type": "display_data"
    }
   ],
   "source": [
    "plt.bar(list(pr.columns), pr.loc['Reward'])\n",
    "plt.title(\"Reward Sensitvity per Participant\")"
   ]
  },
  {
   "cell_type": "markdown",
   "id": "bda649ad-269a-4511-a9f2-02fdadbc96e0",
   "metadata": {},
   "source": [
    "---"
   ]
  },
  {
   "cell_type": "markdown",
   "id": "66afb153-0e29-4a12-a5d8-3a73880169d3",
   "metadata": {},
   "source": [
    "# PANAS"
   ]
  },
  {
   "cell_type": "code",
   "execution_count": 73,
   "id": "b618fc3c-9e4d-4906-ba34-84f8491f0a54",
   "metadata": {},
   "outputs": [
    {
     "data": {
      "text/html": [
       "<div>\n",
       "<style scoped>\n",
       "    .dataframe tbody tr th:only-of-type {\n",
       "        vertical-align: middle;\n",
       "    }\n",
       "\n",
       "    .dataframe tbody tr th {\n",
       "        vertical-align: top;\n",
       "    }\n",
       "\n",
       "    .dataframe thead th {\n",
       "        text-align: right;\n",
       "    }\n",
       "</style>\n",
       "<table border=\"1\" class=\"dataframe\">\n",
       "  <thead>\n",
       "    <tr style=\"text-align: right;\">\n",
       "      <th></th>\n",
       "      <th>Upset</th>\n",
       "      <th>Hostile</th>\n",
       "      <th>Alert</th>\n",
       "      <th>Ashamed</th>\n",
       "      <th>Inspired</th>\n",
       "      <th>Nervous</th>\n",
       "      <th>Determined</th>\n",
       "      <th>Attentive</th>\n",
       "      <th>Afraid</th>\n",
       "      <th>Active</th>\n",
       "    </tr>\n",
       "  </thead>\n",
       "  <tbody>\n",
       "    <tr>\n",
       "      <th>0</th>\n",
       "      <td>1</td>\n",
       "      <td>2</td>\n",
       "      <td>3</td>\n",
       "      <td>4</td>\n",
       "      <td>5</td>\n",
       "      <td>1</td>\n",
       "      <td>2</td>\n",
       "      <td>3</td>\n",
       "      <td>4</td>\n",
       "      <td>5</td>\n",
       "    </tr>\n",
       "    <tr>\n",
       "      <th>1</th>\n",
       "      <td>3</td>\n",
       "      <td>3</td>\n",
       "      <td>4</td>\n",
       "      <td>3</td>\n",
       "      <td>3</td>\n",
       "      <td>2</td>\n",
       "      <td>3</td>\n",
       "      <td>3</td>\n",
       "      <td>3</td>\n",
       "      <td>3</td>\n",
       "    </tr>\n",
       "  </tbody>\n",
       "</table>\n",
       "</div>"
      ],
      "text/plain": [
       "   Upset  Hostile  Alert  Ashamed  Inspired  Nervous  Determined  Attentive  \\\n",
       "0      1        2      3        4         5        1           2          3   \n",
       "1      3        3      4        3         3        2           3          3   \n",
       "\n",
       "   Afraid  Active  \n",
       "0       4       5  \n",
       "1       3       3  "
      ]
     },
     "execution_count": 73,
     "metadata": {},
     "output_type": "execute_result"
    }
   ],
   "source": [
    "dfpanas = dforig.iloc[:, 140:150]\n",
    "dfpanas"
   ]
  },
  {
   "cell_type": "markdown",
   "id": "87acab58-f906-45f5-b038-ad312b061b2f",
   "metadata": {},
   "source": [
    "---"
   ]
  },
  {
   "cell_type": "markdown",
   "id": "3443e5d9-6e79-4334-86bd-707fe99a51e8",
   "metadata": {},
   "source": [
    "# EHI-SF"
   ]
  },
  {
   "cell_type": "code",
   "execution_count": 74,
   "id": "da477859-cccc-4ebb-937b-1ff3b10b5e4e",
   "metadata": {},
   "outputs": [
    {
     "data": {
      "text/html": [
       "<div>\n",
       "<style scoped>\n",
       "    .dataframe tbody tr th:only-of-type {\n",
       "        vertical-align: middle;\n",
       "    }\n",
       "\n",
       "    .dataframe tbody tr th {\n",
       "        vertical-align: top;\n",
       "    }\n",
       "\n",
       "    .dataframe thead th {\n",
       "        text-align: right;\n",
       "    }\n",
       "</style>\n",
       "<table border=\"1\" class=\"dataframe\">\n",
       "  <thead>\n",
       "    <tr style=\"text-align: right;\">\n",
       "      <th></th>\n",
       "      <th>Please indicate your preferences in the use of hands in the following activities or when using certain objects [Writing]</th>\n",
       "      <th>Please indicate your preferences in the use of hands in the following activities or when using certain objects [Throwing]</th>\n",
       "      <th>Please indicate your preferences in the use of hands in the following activities or when using certain objects [Toothbrush]</th>\n",
       "      <th>Please indicate your preferences in the use of hands in the following activities or when using certain objects [Spoon]</th>\n",
       "    </tr>\n",
       "  </thead>\n",
       "  <tbody>\n",
       "    <tr>\n",
       "      <th>0</th>\n",
       "      <td>Both equally</td>\n",
       "      <td>Usually Left</td>\n",
       "      <td>Both equally</td>\n",
       "      <td>Both equally</td>\n",
       "    </tr>\n",
       "    <tr>\n",
       "      <th>1</th>\n",
       "      <td>Always Right</td>\n",
       "      <td>Always Right</td>\n",
       "      <td>Always Right</td>\n",
       "      <td>Always Right</td>\n",
       "    </tr>\n",
       "  </tbody>\n",
       "</table>\n",
       "</div>"
      ],
      "text/plain": [
       "  Please indicate your preferences in the use of hands in the following activities or when using certain objects [Writing]  \\\n",
       "0                                       Both equally                                                                         \n",
       "1                                       Always Right                                                                         \n",
       "\n",
       "  Please indicate your preferences in the use of hands in the following activities or when using certain objects [Throwing]  \\\n",
       "0                                       Usually Left                                                                          \n",
       "1                                       Always Right                                                                          \n",
       "\n",
       "  Please indicate your preferences in the use of hands in the following activities or when using certain objects [Toothbrush]  \\\n",
       "0                                       Both equally                                                                            \n",
       "1                                       Always Right                                                                            \n",
       "\n",
       "  Please indicate your preferences in the use of hands in the following activities or when using certain objects [Spoon]  \n",
       "0                                       Both equally                                                                      \n",
       "1                                       Always Right                                                                      "
      ]
     },
     "execution_count": 74,
     "metadata": {},
     "output_type": "execute_result"
    }
   ],
   "source": [
    "dfehi = dforig.iloc[:, 151:155]\n",
    "dfehi"
   ]
  },
  {
   "cell_type": "code",
   "execution_count": 75,
   "id": "cf0ec5c8-1f31-42db-ad92-9bb2e336a7ac",
   "metadata": {},
   "outputs": [
    {
     "data": {
      "text/html": [
       "<div>\n",
       "<style scoped>\n",
       "    .dataframe tbody tr th:only-of-type {\n",
       "        vertical-align: middle;\n",
       "    }\n",
       "\n",
       "    .dataframe tbody tr th {\n",
       "        vertical-align: top;\n",
       "    }\n",
       "\n",
       "    .dataframe thead th {\n",
       "        text-align: right;\n",
       "    }\n",
       "</style>\n",
       "<table border=\"1\" class=\"dataframe\">\n",
       "  <thead>\n",
       "    <tr style=\"text-align: right;\">\n",
       "      <th></th>\n",
       "      <th>Please indicate your preferences in the use of hands in the following activities or when using certain objects [Writing]</th>\n",
       "      <th>Please indicate your preferences in the use of hands in the following activities or when using certain objects [Throwing]</th>\n",
       "      <th>Please indicate your preferences in the use of hands in the following activities or when using certain objects [Toothbrush]</th>\n",
       "      <th>Please indicate your preferences in the use of hands in the following activities or when using certain objects [Spoon]</th>\n",
       "    </tr>\n",
       "  </thead>\n",
       "  <tbody>\n",
       "    <tr>\n",
       "      <th>0</th>\n",
       "      <td>0</td>\n",
       "      <td>-1</td>\n",
       "      <td>0</td>\n",
       "      <td>0</td>\n",
       "    </tr>\n",
       "    <tr>\n",
       "      <th>1</th>\n",
       "      <td>2</td>\n",
       "      <td>2</td>\n",
       "      <td>2</td>\n",
       "      <td>2</td>\n",
       "    </tr>\n",
       "  </tbody>\n",
       "</table>\n",
       "</div>"
      ],
      "text/plain": [
       "   Please indicate your preferences in the use of hands in the following activities or when using certain objects [Writing]  \\\n",
       "0                                                  0                                                                          \n",
       "1                                                  2                                                                          \n",
       "\n",
       "   Please indicate your preferences in the use of hands in the following activities or when using certain objects [Throwing]  \\\n",
       "0                                                 -1                                                                           \n",
       "1                                                  2                                                                           \n",
       "\n",
       "   Please indicate your preferences in the use of hands in the following activities or when using certain objects [Toothbrush]  \\\n",
       "0                                                  0                                                                             \n",
       "1                                                  2                                                                             \n",
       "\n",
       "   Please indicate your preferences in the use of hands in the following activities or when using certain objects [Spoon]  \n",
       "0                                                  0                                                                       \n",
       "1                                                  2                                                                       "
      ]
     },
     "execution_count": 75,
     "metadata": {},
     "output_type": "execute_result"
    }
   ],
   "source": [
    "dic_ehi = {\"Always Right\": 2,\n",
    "           \"Usually Right\": 1,\n",
    "           \"Both equally\": 0,\n",
    "           \"Usually Left\": -1,\n",
    "           \"Always Left\": -2}\n",
    "\n",
    "dfehi.replace(dic_ehi, inplace=True)\n",
    "\n",
    "dfehi"
   ]
  },
  {
   "cell_type": "code",
   "execution_count": 76,
   "id": "3a11beda-9835-4b09-9eea-0ee82215dc07",
   "metadata": {},
   "outputs": [
    {
     "data": {
      "text/html": [
       "<div>\n",
       "<style scoped>\n",
       "    .dataframe tbody tr th:only-of-type {\n",
       "        vertical-align: middle;\n",
       "    }\n",
       "\n",
       "    .dataframe tbody tr th {\n",
       "        vertical-align: top;\n",
       "    }\n",
       "\n",
       "    .dataframe thead th {\n",
       "        text-align: right;\n",
       "    }\n",
       "</style>\n",
       "<table border=\"1\" class=\"dataframe\">\n",
       "  <thead>\n",
       "    <tr style=\"text-align: right;\">\n",
       "      <th></th>\n",
       "      <th>Please indicate your preferences in the use of hands in the following activities or when using certain objects [Writing]</th>\n",
       "      <th>Please indicate your preferences in the use of hands in the following activities or when using certain objects [Throwing]</th>\n",
       "      <th>Please indicate your preferences in the use of hands in the following activities or when using certain objects [Toothbrush]</th>\n",
       "      <th>Please indicate your preferences in the use of hands in the following activities or when using certain objects [Spoon]</th>\n",
       "      <th>Total</th>\n",
       "    </tr>\n",
       "  </thead>\n",
       "  <tbody>\n",
       "    <tr>\n",
       "      <th>0</th>\n",
       "      <td>0</td>\n",
       "      <td>-1</td>\n",
       "      <td>0</td>\n",
       "      <td>0</td>\n",
       "      <td>Left handed</td>\n",
       "    </tr>\n",
       "    <tr>\n",
       "      <th>1</th>\n",
       "      <td>2</td>\n",
       "      <td>2</td>\n",
       "      <td>2</td>\n",
       "      <td>2</td>\n",
       "      <td>Right handed</td>\n",
       "    </tr>\n",
       "  </tbody>\n",
       "</table>\n",
       "</div>"
      ],
      "text/plain": [
       "   Please indicate your preferences in the use of hands in the following activities or when using certain objects [Writing]  \\\n",
       "0                                                  0                                                                          \n",
       "1                                                  2                                                                          \n",
       "\n",
       "   Please indicate your preferences in the use of hands in the following activities or when using certain objects [Throwing]  \\\n",
       "0                                                 -1                                                                           \n",
       "1                                                  2                                                                           \n",
       "\n",
       "   Please indicate your preferences in the use of hands in the following activities or when using certain objects [Toothbrush]  \\\n",
       "0                                                  0                                                                             \n",
       "1                                                  2                                                                             \n",
       "\n",
       "   Please indicate your preferences in the use of hands in the following activities or when using certain objects [Spoon]  \\\n",
       "0                                                  0                                                                        \n",
       "1                                                  2                                                                        \n",
       "\n",
       "          Total  \n",
       "0   Left handed  \n",
       "1  Right handed  "
      ]
     },
     "execution_count": 76,
     "metadata": {},
     "output_type": "execute_result"
    }
   ],
   "source": [
    "dfehi_array = np.array(dfehi)\n",
    "\n",
    "dfehi[\"Total\"] = 100*(sr(dfehi_array)/sr(abs(dfehi_array)))\n",
    "\n",
    "def handedness(n):\n",
    "    if n >= 100:\n",
    "        return \"Right handed\"\n",
    "    elif n >= 50 and n < 100:\n",
    "        return \"Mixed right handed\"\n",
    "    elif n < 50 and n > -50:\n",
    "        return \"Neutral\"\n",
    "    elif n <= -50 and n > -100:\n",
    "        return \"Mixed left handed\"\n",
    "    elif n <= -100:\n",
    "        return \"Left handed\"\n",
    "\n",
    "dfehi[\"Total\"] = dfehi[\"Total\"].apply(handedness)\n",
    "dfehi"
   ]
  },
  {
   "cell_type": "markdown",
   "id": "1960aee6-4417-42fb-979a-ac047e5d6e09",
   "metadata": {},
   "source": [
    "## Count"
   ]
  },
  {
   "cell_type": "code",
   "execution_count": 77,
   "id": "14ad356f-dd4d-4b95-a188-a12e3d3ca98c",
   "metadata": {},
   "outputs": [
    {
     "data": {
      "text/plain": [
       "<BarContainer object of 2 artists>"
      ]
     },
     "execution_count": 77,
     "metadata": {},
     "output_type": "execute_result"
    },
    {
     "data": {
      "image/png": "[encoded data removed]",
      "text/plain": [
       "<Figure size 1200x700 with 1 Axes>"
      ]
     },
     "metadata": {},
     "output_type": "display_data"
    }
   ],
   "source": [
    "plt.bar(dfehi[\"Total\"], dfehi[\"Total\"].value_counts())"
   ]
  },
  {
   "cell_type": "markdown",
   "id": "fd252a74-a181-4535-9f71-b6be59883886",
   "metadata": {},
   "source": [
    "---"
   ]
  },
  {
   "cell_type": "markdown",
   "id": "0cb07bf3-a5c7-4050-9530-50fae6f91b3d",
   "metadata": {},
   "source": [
    "# Mindfulness Experience"
   ]
  },
  {
   "cell_type": "code",
   "execution_count": 78,
   "id": "1203a123-4f02-46b8-bd98-2fd83c8262cf",
   "metadata": {},
   "outputs": [
    {
     "data": {
      "text/html": [
       "<div>\n",
       "<style scoped>\n",
       "    .dataframe tbody tr th:only-of-type {\n",
       "        vertical-align: middle;\n",
       "    }\n",
       "\n",
       "    .dataframe tbody tr th {\n",
       "        vertical-align: top;\n",
       "    }\n",
       "\n",
       "    .dataframe thead th {\n",
       "        text-align: right;\n",
       "    }\n",
       "</style>\n",
       "<table border=\"1\" class=\"dataframe\">\n",
       "  <thead>\n",
       "    <tr style=\"text-align: right;\">\n",
       "      <th></th>\n",
       "      <th>Have you ever practiced meditation, mindfulness, or contemplative prayer?</th>\n",
       "      <th>If you responded 'yes' to the previous question, please briefly describe the kind of practice you engage in most frequently</th>\n",
       "      <th>If you responded 'yes' to the previous question, what is the total length of time (in months) you practiced/have been practicing meditation, mindfulness, or contemplative prayer?</th>\n",
       "      <th>If you responded 'yes' to the previous question, which option best describes the frequency of your typical practice of meditation, mindfulness, or contemplative prayer?</th>\n",
       "    </tr>\n",
       "  </thead>\n",
       "  <tbody>\n",
       "    <tr>\n",
       "      <th>0</th>\n",
       "      <td>No</td>\n",
       "      <td>NaN</td>\n",
       "      <td>NaN</td>\n",
       "      <td>Not currently practicing</td>\n",
       "    </tr>\n",
       "    <tr>\n",
       "      <th>1</th>\n",
       "      <td>Yes</td>\n",
       "      <td>Meditation</td>\n",
       "      <td>1 month</td>\n",
       "      <td>Not currently practicing</td>\n",
       "    </tr>\n",
       "  </tbody>\n",
       "</table>\n",
       "</div>"
      ],
      "text/plain": [
       "  Have you ever practiced meditation, mindfulness, or contemplative prayer?  \\\n",
       "0                                                 No                          \n",
       "1                                                Yes                          \n",
       "\n",
       "  If you responded 'yes' to the previous question, please briefly describe the kind of practice you engage in most frequently  \\\n",
       "0                                                NaN                                                                            \n",
       "1                                         Meditation                                                                            \n",
       "\n",
       "  If you responded 'yes' to the previous question, what is the total length of time (in months) you practiced/have been practicing meditation, mindfulness, or contemplative prayer?  \\\n",
       "0                                                NaN                                                                                                                                   \n",
       "1                                            1 month                                                                                                                                   \n",
       "\n",
       "  If you responded 'yes' to the previous question, which option best describes the frequency of your typical practice of meditation, mindfulness, or contemplative prayer?  \n",
       "0                           Not currently practicing                                                                                                                        \n",
       "1                           Not currently practicing                                                                                                                        "
      ]
     },
     "execution_count": 78,
     "metadata": {},
     "output_type": "execute_result"
    }
   ],
   "source": [
    "dfme = dforig.iloc[:, 155:159]\n",
    "dfme"
   ]
  },
  {
   "cell_type": "markdown",
   "id": "e6656e5e-2660-43f7-9a42-323c276e69a7",
   "metadata": {},
   "source": [
    "---"
   ]
  },
  {
   "cell_type": "markdown",
   "id": "3606b19b-ae13-4abc-9586-8b92cfc9ba14",
   "metadata": {},
   "source": [
    "# FFMQ"
   ]
  },
  {
   "cell_type": "code",
   "execution_count": 102,
   "id": "fd2f73c0-7bb2-4d86-a7f3-2afc24d963b4",
   "metadata": {},
   "outputs": [
    {
     "data": {
      "text/html": [
       "<div>\n",
       "<style scoped>\n",
       "    .dataframe tbody tr th:only-of-type {\n",
       "        vertical-align: middle;\n",
       "    }\n",
       "\n",
       "    .dataframe tbody tr th {\n",
       "        vertical-align: top;\n",
       "    }\n",
       "\n",
       "    .dataframe thead th {\n",
       "        text-align: right;\n",
       "    }\n",
       "</style>\n",
       "<table border=\"1\" class=\"dataframe\">\n",
       "  <thead>\n",
       "    <tr style=\"text-align: right;\">\n",
       "      <th></th>\n",
       "      <th>Please rate each of the following statements using the scale provided.  Select the option that best describes your own opinion of what is generally true for you. [When I’m walking, I deliberately notice the sensations of my body moving.]</th>\n",
       "      <th>Please rate each of the following statements using the scale provided.  Select the option that best describes your own opinion of what is generally true for you. [I’m good at finding words to describe my feelings.]</th>\n",
       "      <th>Please rate each of the following statements using the scale provided.  Select the option that best describes your own opinion of what is generally true for you. [I criticize myself for having irrational or inappropriate emotions.]</th>\n",
       "      <th>Please rate each of the following statements using the scale provided.  Select the option that best describes your own opinion of what is generally true for you. [I perceive my feelings and emotions without having to react to them.]</th>\n",
       "      <th>Please rate each of the following statements using the scale provided.  Select the option that best describes your own opinion of what is generally true for you. [When I do things, my mind wanders off and I’m easily distracted.]</th>\n",
       "      <th>Please rate each of the following statements using the scale provided.  Select the option that best describes your own opinion of what is generally true for you. [When I take a shower or bath, I stay alert to the sensations of water on my body.]</th>\n",
       "      <th>Please rate each of the following statements using the scale provided.  Select the option that best describes your own opinion of what is generally true for you. [I can easily put my beliefs, opinions, and expectations into words.]</th>\n",
       "      <th>Please rate each of the following statements using the scale provided.  Select the option that best describes your own opinion of what is generally true for you. [I don’t pay attention to what I’m doing because I’m daydreaming, worrying, or otherwise distracted.]</th>\n",
       "      <th>Please rate each of the following statements using the scale provided.  Select the option that best describes your own opinion of what is generally true for you. [I watch my feelings without getting lost in them.]</th>\n",
       "      <th>Please rate each of the following statements using the scale provided.  Select the option that best describes your own opinion of what is generally true for you. [I tell myself I shouldn’t be feeling the way I’m feeling.]</th>\n",
       "      <th>...</th>\n",
       "      <th>Please rate each of the following statements using the scale provided.  Select the option that best describes your own opinion of what is generally true for you. [I think some of my emotions are bad or inappropriate and I shouldn’t feel them.]</th>\n",
       "      <th>Please rate each of the following statements using the scale provided.  Select the option that best describes your own opinion of what is generally true for you. [I notice visual elements in art or nature, such as colors, shapes, textures, or patterns of light and shadow.]</th>\n",
       "      <th>Please rate each of the following statements using the scale provided.  Select the option that best describes your own opinion of what is generally true for you. [My natural tendency is to put my experiences into words.]</th>\n",
       "      <th>Please rate each of the following statements using the scale provided.  Select the option that best describes your own opinion of what is generally true for you. [When I have distressing thoughts or images, I just notice them and let them go.]</th>\n",
       "      <th>Please rate each of the following statements using the scale provided.  Select the option that best describes your own opinion of what is generally true for you. [I do jobs or tasks automatically without being aware of what I’m doing.]</th>\n",
       "      <th>Please rate each of the following statements using the scale provided.  Select the option that best describes your own opinion of what is generally true for you. [When I have distressing thoughts or images, I judge myself as good or bad, depending on what the thought/image is about.]</th>\n",
       "      <th>Please rate each of the following statements using the scale provided.  Select the option that best describes your own opinion of what is generally true for you. [I pay attention to how my emotions affect my thoughts and behavior.]</th>\n",
       "      <th>Please rate each of the following statements using the scale provided.  Select the option that best describes your own opinion of what is generally true for you. [I can usually describe how I feel at the moment in considerable detail.]</th>\n",
       "      <th>Please rate each of the following statements using the scale provided.  Select the option that best describes your own opinion of what is generally true for you. [I find myself doing things without paying attention.]</th>\n",
       "      <th>Please rate each of the following statements using the scale provided.  Select the option that best describes your own opinion of what is generally true for you. [I disapprove of myself when I have irrational ideas.]</th>\n",
       "    </tr>\n",
       "  </thead>\n",
       "  <tbody>\n",
       "    <tr>\n",
       "      <th>0</th>\n",
       "      <td>Sometimes True</td>\n",
       "      <td>Sometimes True</td>\n",
       "      <td>Often True</td>\n",
       "      <td>Often True</td>\n",
       "      <td>Rarely True</td>\n",
       "      <td>Sometimes True</td>\n",
       "      <td>Often True</td>\n",
       "      <td>Often True</td>\n",
       "      <td>Often True</td>\n",
       "      <td>Never or Very Rarely True</td>\n",
       "      <td>...</td>\n",
       "      <td>Sometimes True</td>\n",
       "      <td>Often True</td>\n",
       "      <td>Often True</td>\n",
       "      <td>Often True</td>\n",
       "      <td>Often True</td>\n",
       "      <td>Often True</td>\n",
       "      <td>Often True</td>\n",
       "      <td>Rarely True</td>\n",
       "      <td>Sometimes True</td>\n",
       "      <td>Sometimes True</td>\n",
       "    </tr>\n",
       "    <tr>\n",
       "      <th>1</th>\n",
       "      <td>Never or Very Rarely True</td>\n",
       "      <td>Often True</td>\n",
       "      <td>Never or Very Rarely True</td>\n",
       "      <td>Sometimes True</td>\n",
       "      <td>Sometimes True</td>\n",
       "      <td>Sometimes True</td>\n",
       "      <td>Sometimes True</td>\n",
       "      <td>Sometimes True</td>\n",
       "      <td>Sometimes True</td>\n",
       "      <td>Sometimes True</td>\n",
       "      <td>...</td>\n",
       "      <td>Sometimes True</td>\n",
       "      <td>Sometimes True</td>\n",
       "      <td>Sometimes True</td>\n",
       "      <td>Sometimes True</td>\n",
       "      <td>Sometimes True</td>\n",
       "      <td>Sometimes True</td>\n",
       "      <td>Sometimes True</td>\n",
       "      <td>Sometimes True</td>\n",
       "      <td>Sometimes True</td>\n",
       "      <td>Sometimes True</td>\n",
       "    </tr>\n",
       "  </tbody>\n",
       "</table>\n",
       "<p>2 rows × 39 columns</p>\n",
       "</div>"
      ],
      "text/plain": [
       "  Please rate each of the following statements using the scale provided.  Select the option that best describes your own opinion of what is generally true for you. [When I’m walking, I deliberately notice the sensations of my body moving.]  \\\n",
       "0                                     Sometimes True                                                                                                                                                                                              \n",
       "1                          Never or Very Rarely True                                                                                                                                                                                              \n",
       "\n",
       "  Please rate each of the following statements using the scale provided.  Select the option that best describes your own opinion of what is generally true for you. [I’m good at finding words to describe my feelings.]  \\\n",
       "0                                     Sometimes True                                                                                                                                                                       \n",
       "1                                         Often True                                                                                                                                                                       \n",
       "\n",
       "  Please rate each of the following statements using the scale provided.  Select the option that best describes your own opinion of what is generally true for you. [I criticize myself for having irrational or inappropriate emotions.]  \\\n",
       "0                                         Often True                                                                                                                                                                                        \n",
       "1                          Never or Very Rarely True                                                                                                                                                                                        \n",
       "\n",
       "  Please rate each of the following statements using the scale provided.  Select the option that best describes your own opinion of what is generally true for you. [I perceive my feelings and emotions without having to react to them.]  \\\n",
       "0                                         Often True                                                                                                                                                                                         \n",
       "1                                     Sometimes True                                                                                                                                                                                         \n",
       "\n",
       "  Please rate each of the following statements using the scale provided.  Select the option that best describes your own opinion of what is generally true for you. [When I do things, my mind wanders off and I’m easily distracted.]  \\\n",
       "0                                        Rarely True                                                                                                                                                                                     \n",
       "1                                     Sometimes True                                                                                                                                                                                     \n",
       "\n",
       "  Please rate each of the following statements using the scale provided.  Select the option that best describes your own opinion of what is generally true for you. [When I take a shower or bath, I stay alert to the sensations of water on my body.]  \\\n",
       "0                                     Sometimes True                                                                                                                                                                                                      \n",
       "1                                     Sometimes True                                                                                                                                                                                                      \n",
       "\n",
       "  Please rate each of the following statements using the scale provided.  Select the option that best describes your own opinion of what is generally true for you. [I can easily put my beliefs, opinions, and expectations into words.]  \\\n",
       "0                                         Often True                                                                                                                                                                                        \n",
       "1                                     Sometimes True                                                                                                                                                                                        \n",
       "\n",
       "  Please rate each of the following statements using the scale provided.  Select the option that best describes your own opinion of what is generally true for you. [I don’t pay attention to what I’m doing because I’m daydreaming, worrying, or otherwise distracted.]  \\\n",
       "0                                         Often True                                                                                                                                                                                                                        \n",
       "1                                     Sometimes True                                                                                                                                                                                                                        \n",
       "\n",
       "  Please rate each of the following statements using the scale provided.  Select the option that best describes your own opinion of what is generally true for you. [I watch my feelings without getting lost in them.]  \\\n",
       "0                                         Often True                                                                                                                                                                      \n",
       "1                                     Sometimes True                                                                                                                                                                      \n",
       "\n",
       "  Please rate each of the following statements using the scale provided.  Select the option that best describes your own opinion of what is generally true for you. [I tell myself I shouldn’t be feeling the way I’m feeling.]  \\\n",
       "0                          Never or Very Rarely True                                                                                                                                                                              \n",
       "1                                     Sometimes True                                                                                                                                                                              \n",
       "\n",
       "   ...  \\\n",
       "0  ...   \n",
       "1  ...   \n",
       "\n",
       "  Please rate each of the following statements using the scale provided.  Select the option that best describes your own opinion of what is generally true for you. [I think some of my emotions are bad or inappropriate and I shouldn’t feel them.]  \\\n",
       "0                                     Sometimes True                                                                                                                                                                                                    \n",
       "1                                     Sometimes True                                                                                                                                                                                                    \n",
       "\n",
       "  Please rate each of the following statements using the scale provided.  Select the option that best describes your own opinion of what is generally true for you. [I notice visual elements in art or nature, such as colors, shapes, textures, or patterns of light and shadow.]  \\\n",
       "0                                         Often True                                                                                                                                                                                                                                  \n",
       "1                                     Sometimes True                                                                                                                                                                                                                                  \n",
       "\n",
       "  Please rate each of the following statements using the scale provided.  Select the option that best describes your own opinion of what is generally true for you. [My natural tendency is to put my experiences into words.]  \\\n",
       "0                                         Often True                                                                                                                                                                             \n",
       "1                                     Sometimes True                                                                                                                                                                             \n",
       "\n",
       "  Please rate each of the following statements using the scale provided.  Select the option that best describes your own opinion of what is generally true for you. [When I have distressing thoughts or images, I just notice them and let them go.]  \\\n",
       "0                                         Often True                                                                                                                                                                                                    \n",
       "1                                     Sometimes True                                                                                                                                                                                                    \n",
       "\n",
       "  Please rate each of the following statements using the scale provided.  Select the option that best describes your own opinion of what is generally true for you. [I do jobs or tasks automatically without being aware of what I’m doing.]  \\\n",
       "0                                         Often True                                                                                                                                                                                            \n",
       "1                                     Sometimes True                                                                                                                                                                                            \n",
       "\n",
       "  Please rate each of the following statements using the scale provided.  Select the option that best describes your own opinion of what is generally true for you. [When I have distressing thoughts or images, I judge myself as good or bad, depending on what the thought/image is about.]  \\\n",
       "0                                         Often True                                                                                                                                                                                                                                             \n",
       "1                                     Sometimes True                                                                                                                                                                                                                                             \n",
       "\n",
       "  Please rate each of the following statements using the scale provided.  Select the option that best describes your own opinion of what is generally true for you. [I pay attention to how my emotions affect my thoughts and behavior.]  \\\n",
       "0                                         Often True                                                                                                                                                                                        \n",
       "1                                     Sometimes True                                                                                                                                                                                        \n",
       "\n",
       "  Please rate each of the following statements using the scale provided.  Select the option that best describes your own opinion of what is generally true for you. [I can usually describe how I feel at the moment in considerable detail.]  \\\n",
       "0                                        Rarely True                                                                                                                                                                                            \n",
       "1                                     Sometimes True                                                                                                                                                                                            \n",
       "\n",
       "  Please rate each of the following statements using the scale provided.  Select the option that best describes your own opinion of what is generally true for you. [I find myself doing things without paying attention.]  \\\n",
       "0                                     Sometimes True                                                                                                                                                                         \n",
       "1                                     Sometimes True                                                                                                                                                                         \n",
       "\n",
       "  Please rate each of the following statements using the scale provided.  Select the option that best describes your own opinion of what is generally true for you. [I disapprove of myself when I have irrational ideas.]  \n",
       "0                                     Sometimes True                                                                                                                                                                        \n",
       "1                                     Sometimes True                                                                                                                                                                        \n",
       "\n",
       "[2 rows x 39 columns]"
      ]
     },
     "execution_count": 102,
     "metadata": {},
     "output_type": "execute_result"
    }
   ],
   "source": [
    "dfffmq = dforig.iloc[:, 159:198]\n",
    "dfffmq"
   ]
  },
  {
   "cell_type": "markdown",
   "id": "ab7aa161-1dab-4367-b6f2-26be63da81b4",
   "metadata": {},
   "source": [
    "## Int and Reverse"
   ]
  },
  {
   "cell_type": "code",
   "execution_count": 103,
   "id": "d8bd8f0f-90b3-4e50-804e-f8cf43c87d1b",
   "metadata": {},
   "outputs": [
    {
     "data": {
      "text/html": [
       "<div>\n",
       "<style scoped>\n",
       "    .dataframe tbody tr th:only-of-type {\n",
       "        vertical-align: middle;\n",
       "    }\n",
       "\n",
       "    .dataframe tbody tr th {\n",
       "        vertical-align: top;\n",
       "    }\n",
       "\n",
       "    .dataframe thead th {\n",
       "        text-align: right;\n",
       "    }\n",
       "</style>\n",
       "<table border=\"1\" class=\"dataframe\">\n",
       "  <thead>\n",
       "    <tr style=\"text-align: right;\">\n",
       "      <th></th>\n",
       "      <th>Please rate each of the following statements using the scale provided.  Select the option that best describes your own opinion of what is generally true for you. [When I’m walking, I deliberately notice the sensations of my body moving.]</th>\n",
       "      <th>Please rate each of the following statements using the scale provided.  Select the option that best describes your own opinion of what is generally true for you. [I’m good at finding words to describe my feelings.]</th>\n",
       "      <th>Please rate each of the following statements using the scale provided.  Select the option that best describes your own opinion of what is generally true for you. [I criticize myself for having irrational or inappropriate emotions.]</th>\n",
       "      <th>Please rate each of the following statements using the scale provided.  Select the option that best describes your own opinion of what is generally true for you. [I perceive my feelings and emotions without having to react to them.]</th>\n",
       "      <th>Please rate each of the following statements using the scale provided.  Select the option that best describes your own opinion of what is generally true for you. [When I do things, my mind wanders off and I’m easily distracted.]</th>\n",
       "      <th>Please rate each of the following statements using the scale provided.  Select the option that best describes your own opinion of what is generally true for you. [When I take a shower or bath, I stay alert to the sensations of water on my body.]</th>\n",
       "      <th>Please rate each of the following statements using the scale provided.  Select the option that best describes your own opinion of what is generally true for you. [I can easily put my beliefs, opinions, and expectations into words.]</th>\n",
       "      <th>Please rate each of the following statements using the scale provided.  Select the option that best describes your own opinion of what is generally true for you. [I don’t pay attention to what I’m doing because I’m daydreaming, worrying, or otherwise distracted.]</th>\n",
       "      <th>Please rate each of the following statements using the scale provided.  Select the option that best describes your own opinion of what is generally true for you. [I watch my feelings without getting lost in them.]</th>\n",
       "      <th>Please rate each of the following statements using the scale provided.  Select the option that best describes your own opinion of what is generally true for you. [I tell myself I shouldn’t be feeling the way I’m feeling.]</th>\n",
       "      <th>...</th>\n",
       "      <th>Please rate each of the following statements using the scale provided.  Select the option that best describes your own opinion of what is generally true for you. [I think some of my emotions are bad or inappropriate and I shouldn’t feel them.]</th>\n",
       "      <th>Please rate each of the following statements using the scale provided.  Select the option that best describes your own opinion of what is generally true for you. [I notice visual elements in art or nature, such as colors, shapes, textures, or patterns of light and shadow.]</th>\n",
       "      <th>Please rate each of the following statements using the scale provided.  Select the option that best describes your own opinion of what is generally true for you. [My natural tendency is to put my experiences into words.]</th>\n",
       "      <th>Please rate each of the following statements using the scale provided.  Select the option that best describes your own opinion of what is generally true for you. [When I have distressing thoughts or images, I just notice them and let them go.]</th>\n",
       "      <th>Please rate each of the following statements using the scale provided.  Select the option that best describes your own opinion of what is generally true for you. [I do jobs or tasks automatically without being aware of what I’m doing.]</th>\n",
       "      <th>Please rate each of the following statements using the scale provided.  Select the option that best describes your own opinion of what is generally true for you. [When I have distressing thoughts or images, I judge myself as good or bad, depending on what the thought/image is about.]</th>\n",
       "      <th>Please rate each of the following statements using the scale provided.  Select the option that best describes your own opinion of what is generally true for you. [I pay attention to how my emotions affect my thoughts and behavior.]</th>\n",
       "      <th>Please rate each of the following statements using the scale provided.  Select the option that best describes your own opinion of what is generally true for you. [I can usually describe how I feel at the moment in considerable detail.]</th>\n",
       "      <th>Please rate each of the following statements using the scale provided.  Select the option that best describes your own opinion of what is generally true for you. [I find myself doing things without paying attention.]</th>\n",
       "      <th>Please rate each of the following statements using the scale provided.  Select the option that best describes your own opinion of what is generally true for you. [I disapprove of myself when I have irrational ideas.]</th>\n",
       "    </tr>\n",
       "  </thead>\n",
       "  <tbody>\n",
       "    <tr>\n",
       "      <th>0</th>\n",
       "      <td>3</td>\n",
       "      <td>3</td>\n",
       "      <td>2</td>\n",
       "      <td>4</td>\n",
       "      <td>4</td>\n",
       "      <td>3</td>\n",
       "      <td>4</td>\n",
       "      <td>2</td>\n",
       "      <td>4</td>\n",
       "      <td>5</td>\n",
       "      <td>...</td>\n",
       "      <td>3</td>\n",
       "      <td>4</td>\n",
       "      <td>4</td>\n",
       "      <td>4</td>\n",
       "      <td>2</td>\n",
       "      <td>2</td>\n",
       "      <td>4</td>\n",
       "      <td>2</td>\n",
       "      <td>3</td>\n",
       "      <td>3</td>\n",
       "    </tr>\n",
       "    <tr>\n",
       "      <th>1</th>\n",
       "      <td>1</td>\n",
       "      <td>4</td>\n",
       "      <td>5</td>\n",
       "      <td>3</td>\n",
       "      <td>3</td>\n",
       "      <td>3</td>\n",
       "      <td>3</td>\n",
       "      <td>3</td>\n",
       "      <td>3</td>\n",
       "      <td>3</td>\n",
       "      <td>...</td>\n",
       "      <td>3</td>\n",
       "      <td>3</td>\n",
       "      <td>3</td>\n",
       "      <td>3</td>\n",
       "      <td>3</td>\n",
       "      <td>3</td>\n",
       "      <td>3</td>\n",
       "      <td>3</td>\n",
       "      <td>3</td>\n",
       "      <td>3</td>\n",
       "    </tr>\n",
       "  </tbody>\n",
       "</table>\n",
       "<p>2 rows × 39 columns</p>\n",
       "</div>"
      ],
      "text/plain": [
       "   Please rate each of the following statements using the scale provided.  Select the option that best describes your own opinion of what is generally true for you. [When I’m walking, I deliberately notice the sensations of my body moving.]  \\\n",
       "0                                                  3                                                                                                                                                                                               \n",
       "1                                                  1                                                                                                                                                                                               \n",
       "\n",
       "   Please rate each of the following statements using the scale provided.  Select the option that best describes your own opinion of what is generally true for you. [I’m good at finding words to describe my feelings.]  \\\n",
       "0                                                  3                                                                                                                                                                        \n",
       "1                                                  4                                                                                                                                                                        \n",
       "\n",
       "   Please rate each of the following statements using the scale provided.  Select the option that best describes your own opinion of what is generally true for you. [I criticize myself for having irrational or inappropriate emotions.]  \\\n",
       "0                                                  2                                                                                                                                                                                         \n",
       "1                                                  5                                                                                                                                                                                         \n",
       "\n",
       "   Please rate each of the following statements using the scale provided.  Select the option that best describes your own opinion of what is generally true for you. [I perceive my feelings and emotions without having to react to them.]  \\\n",
       "0                                                  4                                                                                                                                                                                          \n",
       "1                                                  3                                                                                                                                                                                          \n",
       "\n",
       "   Please rate each of the following statements using the scale provided.  Select the option that best describes your own opinion of what is generally true for you. [When I do things, my mind wanders off and I’m easily distracted.]  \\\n",
       "0                                                  4                                                                                                                                                                                      \n",
       "1                                                  3                                                                                                                                                                                      \n",
       "\n",
       "   Please rate each of the following statements using the scale provided.  Select the option that best describes your own opinion of what is generally true for you. [When I take a shower or bath, I stay alert to the sensations of water on my body.]  \\\n",
       "0                                                  3                                                                                                                                                                                                       \n",
       "1                                                  3                                                                                                                                                                                                       \n",
       "\n",
       "   Please rate each of the following statements using the scale provided.  Select the option that best describes your own opinion of what is generally true for you. [I can easily put my beliefs, opinions, and expectations into words.]  \\\n",
       "0                                                  4                                                                                                                                                                                         \n",
       "1                                                  3                                                                                                                                                                                         \n",
       "\n",
       "   Please rate each of the following statements using the scale provided.  Select the option that best describes your own opinion of what is generally true for you. [I don’t pay attention to what I’m doing because I’m daydreaming, worrying, or otherwise distracted.]  \\\n",
       "0                                                  2                                                                                                                                                                                                                         \n",
       "1                                                  3                                                                                                                                                                                                                         \n",
       "\n",
       "   Please rate each of the following statements using the scale provided.  Select the option that best describes your own opinion of what is generally true for you. [I watch my feelings without getting lost in them.]  \\\n",
       "0                                                  4                                                                                                                                                                       \n",
       "1                                                  3                                                                                                                                                                       \n",
       "\n",
       "   Please rate each of the following statements using the scale provided.  Select the option that best describes your own opinion of what is generally true for you. [I tell myself I shouldn’t be feeling the way I’m feeling.]  \\\n",
       "0                                                  5                                                                                                                                                                               \n",
       "1                                                  3                                                                                                                                                                               \n",
       "\n",
       "   ...  \\\n",
       "0  ...   \n",
       "1  ...   \n",
       "\n",
       "   Please rate each of the following statements using the scale provided.  Select the option that best describes your own opinion of what is generally true for you. [I think some of my emotions are bad or inappropriate and I shouldn’t feel them.]  \\\n",
       "0                                                  3                                                                                                                                                                                                     \n",
       "1                                                  3                                                                                                                                                                                                     \n",
       "\n",
       "   Please rate each of the following statements using the scale provided.  Select the option that best describes your own opinion of what is generally true for you. [I notice visual elements in art or nature, such as colors, shapes, textures, or patterns of light and shadow.]  \\\n",
       "0                                                  4                                                                                                                                                                                                                                   \n",
       "1                                                  3                                                                                                                                                                                                                                   \n",
       "\n",
       "   Please rate each of the following statements using the scale provided.  Select the option that best describes your own opinion of what is generally true for you. [My natural tendency is to put my experiences into words.]  \\\n",
       "0                                                  4                                                                                                                                                                              \n",
       "1                                                  3                                                                                                                                                                              \n",
       "\n",
       "   Please rate each of the following statements using the scale provided.  Select the option that best describes your own opinion of what is generally true for you. [When I have distressing thoughts or images, I just notice them and let them go.]  \\\n",
       "0                                                  4                                                                                                                                                                                                     \n",
       "1                                                  3                                                                                                                                                                                                     \n",
       "\n",
       "   Please rate each of the following statements using the scale provided.  Select the option that best describes your own opinion of what is generally true for you. [I do jobs or tasks automatically without being aware of what I’m doing.]  \\\n",
       "0                                                  2                                                                                                                                                                                             \n",
       "1                                                  3                                                                                                                                                                                             \n",
       "\n",
       "   Please rate each of the following statements using the scale provided.  Select the option that best describes your own opinion of what is generally true for you. [When I have distressing thoughts or images, I judge myself as good or bad, depending on what the thought/image is about.]  \\\n",
       "0                                                  2                                                                                                                                                                                                                                              \n",
       "1                                                  3                                                                                                                                                                                                                                              \n",
       "\n",
       "   Please rate each of the following statements using the scale provided.  Select the option that best describes your own opinion of what is generally true for you. [I pay attention to how my emotions affect my thoughts and behavior.]  \\\n",
       "0                                                  4                                                                                                                                                                                         \n",
       "1                                                  3                                                                                                                                                                                         \n",
       "\n",
       "   Please rate each of the following statements using the scale provided.  Select the option that best describes your own opinion of what is generally true for you. [I can usually describe how I feel at the moment in considerable detail.]  \\\n",
       "0                                                  2                                                                                                                                                                                             \n",
       "1                                                  3                                                                                                                                                                                             \n",
       "\n",
       "   Please rate each of the following statements using the scale provided.  Select the option that best describes your own opinion of what is generally true for you. [I find myself doing things without paying attention.]  \\\n",
       "0                                                  3                                                                                                                                                                          \n",
       "1                                                  3                                                                                                                                                                          \n",
       "\n",
       "   Please rate each of the following statements using the scale provided.  Select the option that best describes your own opinion of what is generally true for you. [I disapprove of myself when I have irrational ideas.]  \n",
       "0                                                  3                                                                                                                                                                         \n",
       "1                                                  3                                                                                                                                                                         \n",
       "\n",
       "[2 rows x 39 columns]"
      ]
     },
     "execution_count": 103,
     "metadata": {},
     "output_type": "execute_result"
    }
   ],
   "source": [
    "mq = {'Never or Very Rarely True': 1,\n",
    "      'Rarely True': 2,\n",
    "      'Sometimes True': 3,\n",
    "      'Often True': 4,\n",
    "      'Very Often or Always True': 5}\n",
    "\n",
    "dfffmq.replace(mq, inplace=True)\n",
    "\n",
    "rev = [11, 15, 21, 4, 7, 12, 17, 22, 27, 33, 37, 2, 9, 13, 16, 24, 29, 34, 38]\n",
    "\n",
    "dfffmq.iloc[:, rev] = 6 - dfffmq.iloc[:, rev]\n",
    "\n",
    "dfffmq"
   ]
  },
  {
   "cell_type": "code",
   "execution_count": 153,
   "id": "cd2f8db2-20c5-4f28-b659-5b98dec68d3b",
   "metadata": {},
   "outputs": [
    {
     "data": {
      "text/html": [
       "<div>\n",
       "<style scoped>\n",
       "    .dataframe tbody tr th:only-of-type {\n",
       "        vertical-align: middle;\n",
       "    }\n",
       "\n",
       "    .dataframe tbody tr th {\n",
       "        vertical-align: top;\n",
       "    }\n",
       "\n",
       "    .dataframe thead th {\n",
       "        text-align: right;\n",
       "    }\n",
       "</style>\n",
       "<table border=\"1\" class=\"dataframe\">\n",
       "  <thead>\n",
       "    <tr style=\"text-align: right;\">\n",
       "      <th></th>\n",
       "      <th>Observing Total</th>\n",
       "      <th>Describing Total</th>\n",
       "      <th>ActAware Total</th>\n",
       "      <th>Nonjudging Total</th>\n",
       "      <th>Nonreactivity Total</th>\n",
       "      <th>Total</th>\n",
       "    </tr>\n",
       "  </thead>\n",
       "  <tbody>\n",
       "    <tr>\n",
       "      <th>0</th>\n",
       "      <td>26</td>\n",
       "      <td>28</td>\n",
       "      <td>23</td>\n",
       "      <td>26</td>\n",
       "      <td>28</td>\n",
       "      <td>131</td>\n",
       "    </tr>\n",
       "    <tr>\n",
       "      <th>1</th>\n",
       "      <td>22</td>\n",
       "      <td>25</td>\n",
       "      <td>24</td>\n",
       "      <td>26</td>\n",
       "      <td>21</td>\n",
       "      <td>118</td>\n",
       "    </tr>\n",
       "  </tbody>\n",
       "</table>\n",
       "</div>"
      ],
      "text/plain": [
       "   Observing Total  Describing Total  ActAware Total  Nonjudging Total  \\\n",
       "0               26                28              23                26   \n",
       "1               22                25              24                26   \n",
       "\n",
       "   Nonreactivity Total  Total  \n",
       "0                   28    131  \n",
       "1                   21    118  "
      ]
     },
     "execution_count": 153,
     "metadata": {},
     "output_type": "execute_result"
    },
    {
     "data": {
      "text/html": [
       "<div>\n",
       "<style scoped>\n",
       "    .dataframe tbody tr th:only-of-type {\n",
       "        vertical-align: middle;\n",
       "    }\n",
       "\n",
       "    .dataframe tbody tr th {\n",
       "        vertical-align: top;\n",
       "    }\n",
       "\n",
       "    .dataframe thead th {\n",
       "        text-align: right;\n",
       "    }\n",
       "</style>\n",
       "<table border=\"1\" class=\"dataframe\">\n",
       "  <thead>\n",
       "    <tr style=\"text-align: right;\">\n",
       "      <th></th>\n",
       "      <th>Observing Mean</th>\n",
       "      <th>Describing Mean</th>\n",
       "      <th>ActAware Mean</th>\n",
       "      <th>Nonjudging Mean</th>\n",
       "      <th>Nonreactivity Mean</th>\n",
       "      <th>Overall Mean</th>\n",
       "    </tr>\n",
       "  </thead>\n",
       "  <tbody>\n",
       "    <tr>\n",
       "      <th>0</th>\n",
       "      <td>3.25</td>\n",
       "      <td>3.500</td>\n",
       "      <td>2.875</td>\n",
       "      <td>3.25</td>\n",
       "      <td>4.0</td>\n",
       "      <td>3.358974</td>\n",
       "    </tr>\n",
       "    <tr>\n",
       "      <th>1</th>\n",
       "      <td>2.75</td>\n",
       "      <td>3.125</td>\n",
       "      <td>3.000</td>\n",
       "      <td>3.25</td>\n",
       "      <td>3.0</td>\n",
       "      <td>3.025641</td>\n",
       "    </tr>\n",
       "  </tbody>\n",
       "</table>\n",
       "</div>"
      ],
      "text/plain": [
       "   Observing Mean  Describing Mean  ActAware Mean  Nonjudging Mean  \\\n",
       "0            3.25            3.500          2.875             3.25   \n",
       "1            2.75            3.125          3.000             3.25   \n",
       "\n",
       "   Nonreactivity Mean  Overall Mean  \n",
       "0                 4.0      3.358974  \n",
       "1                 3.0      3.025641  "
      ]
     },
     "execution_count": 153,
     "metadata": {},
     "output_type": "execute_result"
    }
   ],
   "source": [
    "ffmq_array = np.array(dfffmq)\n",
    "\n",
    "obv = sr(ffmq_array[:, [0, 5, 10, 14, 19, 25, 30, 35]])\n",
    "des = sr(ffmq_array[:, [1, 6, 11, 15, 21, 26, 31, 36]])\n",
    "awa = sr(ffmq_array[:, [4, 7, 12, 17, 22, 27, 33, 37]])\n",
    "nj = sr(ffmq_array[:, [2, 9, 13, 16, 24, 29, 34, 38]])\n",
    "nr = sr(ffmq_array[:, [3, 8, 18, 20, 23, 28, 32]])\n",
    "\n",
    "stacked_total = np.stack([obv, des, awa, nj, nr], axis = 1)\n",
    "ffmqtotal = pd.DataFrame(stacked_total, columns = [\"Observing Total\", \"Describing Total\", \"ActAware Total\", \"Nonjudging Total\", \"Nonreactivity Total\"])\n",
    "ffmqtotal[\"Total\"] = ffmqtotal.sum(axis=1)\n",
    "\n",
    "stacked_mean = stacked_total/[8, 8, 8, 8, 7]\n",
    "ffmqmean = pd.DataFrame(stacked_mean, columns = [\"Observing Mean\", \"Describing Mean\", \"ActAware Mean\", \"Nonjudging Mean\", \"Nonreactivity Mean\"])\n",
    "ffmqmean[\"Overall Mean\"] = ffmqtotal[\"Total\"]/39\n",
    "\n",
    "ffmqtotal\n",
    "ffmqmean"
   ]
  },
  {
   "cell_type": "markdown",
   "id": "aa2d633f-a2f6-4d9a-b419-85d2aae4de08",
   "metadata": {},
   "source": [
    "---"
   ]
  },
  {
   "cell_type": "markdown",
   "id": "d16bfad9-f8d8-4bb8-9d7d-f95d5f52355a",
   "metadata": {},
   "source": [
    "# STAI-T"
   ]
  },
  {
   "cell_type": "code",
   "execution_count": 179,
   "id": "d93ce802-2374-4eba-a3af-525cff0d38ba",
   "metadata": {},
   "outputs": [
    {
     "data": {
      "text/html": [
       "<div>\n",
       "<style scoped>\n",
       "    .dataframe tbody tr th:only-of-type {\n",
       "        vertical-align: middle;\n",
       "    }\n",
       "\n",
       "    .dataframe tbody tr th {\n",
       "        vertical-align: top;\n",
       "    }\n",
       "\n",
       "    .dataframe thead th {\n",
       "        text-align: right;\n",
       "    }\n",
       "</style>\n",
       "<table border=\"1\" class=\"dataframe\">\n",
       "  <thead>\n",
       "    <tr style=\"text-align: right;\">\n",
       "      <th></th>\n",
       "      <th>Please read the following statements and select the item to indicate how you generally feel most of the time. There’s no right or wrong answers and please don’t spend too much time on each statement [I feel pleasant.]</th>\n",
       "      <th>Please read the following statements and select the item to indicate how you generally feel most of the time. There’s no right or wrong answers and please don’t spend too much time on each statement [I feel nervous and restless.]</th>\n",
       "      <th>Please read the following statements and select the item to indicate how you generally feel most of the time. There’s no right or wrong answers and please don’t spend too much time on each statement [I feel satisfied with myself.]</th>\n",
       "      <th>Please read the following statements and select the item to indicate how you generally feel most of the time. There’s no right or wrong answers and please don’t spend too much time on each statement [I wish I could be as happy as others seem to be.]</th>\n",
       "      <th>Please read the following statements and select the item to indicate how you generally feel most of the time. There’s no right or wrong answers and please don’t spend too much time on each statement [I feel like a failure.]</th>\n",
       "      <th>Please read the following statements and select the item to indicate how you generally feel most of the time. There’s no right or wrong answers and please don’t spend too much time on each statement [I feel rested.]</th>\n",
       "      <th>Please read the following statements and select the item to indicate how you generally feel most of the time. There’s no right or wrong answers and please don’t spend too much time on each statement [I am 'cool, calm, and collected'.]</th>\n",
       "      <th>Please read the following statements and select the item to indicate how you generally feel most of the time. There’s no right or wrong answers and please don’t spend too much time on each statement [I feel that difficulties are piling up so that I can't overcome them.]</th>\n",
       "      <th>Please read the following statements and select the item to indicate how you generally feel most of the time. There’s no right or wrong answers and please don’t spend too much time on each statement [I worry too much over something that really doesn't matter.]</th>\n",
       "      <th>Please read the following statements and select the item to indicate how you generally feel most of the time. There’s no right or wrong answers and please don’t spend too much time on each statement [I am happy.]</th>\n",
       "      <th>Please read the following statements and select the item to indicate how you generally feel most of the time. There’s no right or wrong answers and please don’t spend too much time on each statement [I have disturbing thoughts.]</th>\n",
       "      <th>Please read the following statements and select the item to indicate how you generally feel most of the time. There’s no right or wrong answers and please don’t spend too much time on each statement [I lack self-confidence.]</th>\n",
       "      <th>Please read the following statements and select the item to indicate how you generally feel most of the time. There’s no right or wrong answers and please don’t spend too much time on each statement [I feel secure.]</th>\n",
       "      <th>Please read the following statements and select the item to indicate how you generally feel most of the time. There’s no right or wrong answers and please don’t spend too much time on each statement [I make decisions easily.]</th>\n",
       "      <th>Please read the following statements and select the item to indicate how you generally feel most of the time. There’s no right or wrong answers and please don’t spend too much time on each statement [I feel inadequate.]</th>\n",
       "      <th>Please read the following statements and select the item to indicate how you generally feel most of the time. There’s no right or wrong answers and please don’t spend too much time on each statement [I am content.]</th>\n",
       "      <th>Please read the following statements and select the item to indicate how you generally feel most of the time. There’s no right or wrong answers and please don’t spend too much time on each statement [Some unimportant thought runs through my mind and bothers me.]</th>\n",
       "      <th>Please read the following statements and select the item to indicate how you generally feel most of the time. There’s no right or wrong answers and please don’t spend too much time on each statement [I take disappointments so keenly I can't put them out of my mind.]</th>\n",
       "      <th>Please read the following statements and select the item to indicate how you generally feel most of the time. There’s no right or wrong answers and please don’t spend too much time on each statement [I am a steady person.]</th>\n",
       "      <th>Please read the following statements and select the item to indicate how you generally feel most of the time. There’s no right or wrong answers and please don’t spend too much time on each statement [I get in a state of tension or turmoil as I think over my recent concerns and interests.]</th>\n",
       "    </tr>\n",
       "  </thead>\n",
       "  <tbody>\n",
       "    <tr>\n",
       "      <th>0</th>\n",
       "      <td>Moderately so</td>\n",
       "      <td>Moderately so</td>\n",
       "      <td>Somewhat</td>\n",
       "      <td>Somewhat</td>\n",
       "      <td>Moderately so</td>\n",
       "      <td>Moderately so</td>\n",
       "      <td>Somewhat</td>\n",
       "      <td>Moderately so</td>\n",
       "      <td>Moderately so</td>\n",
       "      <td>Somewhat</td>\n",
       "      <td>Moderately so</td>\n",
       "      <td>Not at all</td>\n",
       "      <td>Very much so</td>\n",
       "      <td>Very much so</td>\n",
       "      <td>Very much so</td>\n",
       "      <td>Very much so</td>\n",
       "      <td>Moderately so</td>\n",
       "      <td>Somewhat</td>\n",
       "      <td>Moderately so</td>\n",
       "      <td>Moderately so</td>\n",
       "    </tr>\n",
       "    <tr>\n",
       "      <th>1</th>\n",
       "      <td>Moderately so</td>\n",
       "      <td>Moderately so</td>\n",
       "      <td>Moderately so</td>\n",
       "      <td>Moderately so</td>\n",
       "      <td>Moderately so</td>\n",
       "      <td>Moderately so</td>\n",
       "      <td>Moderately so</td>\n",
       "      <td>Moderately so</td>\n",
       "      <td>Moderately so</td>\n",
       "      <td>Moderately so</td>\n",
       "      <td>Moderately so</td>\n",
       "      <td>Moderately so</td>\n",
       "      <td>Moderately so</td>\n",
       "      <td>Moderately so</td>\n",
       "      <td>Moderately so</td>\n",
       "      <td>Moderately so</td>\n",
       "      <td>Moderately so</td>\n",
       "      <td>Moderately so</td>\n",
       "      <td>Moderately so</td>\n",
       "      <td>Moderately so</td>\n",
       "    </tr>\n",
       "  </tbody>\n",
       "</table>\n",
       "</div>"
      ],
      "text/plain": [
       "  Please read the following statements and select the item to indicate how you generally feel most of the time. There’s no right or wrong answers and please don’t spend too much time on each statement [I feel pleasant.]  \\\n",
       "0                                      Moderately so                                                                                                                                                                          \n",
       "1                                      Moderately so                                                                                                                                                                          \n",
       "\n",
       "  Please read the following statements and select the item to indicate how you generally feel most of the time. There’s no right or wrong answers and please don’t spend too much time on each statement [I feel nervous and restless.]  \\\n",
       "0                                      Moderately so                                                                                                                                                                                      \n",
       "1                                      Moderately so                                                                                                                                                                                      \n",
       "\n",
       "  Please read the following statements and select the item to indicate how you generally feel most of the time. There’s no right or wrong answers and please don’t spend too much time on each statement [I feel satisfied with myself.]  \\\n",
       "0                                           Somewhat                                                                                                                                                                                       \n",
       "1                                      Moderately so                                                                                                                                                                                       \n",
       "\n",
       "  Please read the following statements and select the item to indicate how you generally feel most of the time. There’s no right or wrong answers and please don’t spend too much time on each statement [I wish I could be as happy as others seem to be.]  \\\n",
       "0                                           Somewhat                                                                                                                                                                                                          \n",
       "1                                      Moderately so                                                                                                                                                                                                          \n",
       "\n",
       "  Please read the following statements and select the item to indicate how you generally feel most of the time. There’s no right or wrong answers and please don’t spend too much time on each statement [I feel like a failure.]  \\\n",
       "0                                      Moderately so                                                                                                                                                                                \n",
       "1                                      Moderately so                                                                                                                                                                                \n",
       "\n",
       "  Please read the following statements and select the item to indicate how you generally feel most of the time. There’s no right or wrong answers and please don’t spend too much time on each statement [I feel rested.]  \\\n",
       "0                                      Moderately so                                                                                                                                                                        \n",
       "1                                      Moderately so                                                                                                                                                                        \n",
       "\n",
       "  Please read the following statements and select the item to indicate how you generally feel most of the time. There’s no right or wrong answers and please don’t spend too much time on each statement [I am 'cool, calm, and collected'.]  \\\n",
       "0                                           Somewhat                                                                                                                                                                                           \n",
       "1                                      Moderately so                                                                                                                                                                                           \n",
       "\n",
       "  Please read the following statements and select the item to indicate how you generally feel most of the time. There’s no right or wrong answers and please don’t spend too much time on each statement [I feel that difficulties are piling up so that I can't overcome them.]  \\\n",
       "0                                      Moderately so                                                                                                                                                                                                                               \n",
       "1                                      Moderately so                                                                                                                                                                                                                               \n",
       "\n",
       "  Please read the following statements and select the item to indicate how you generally feel most of the time. There’s no right or wrong answers and please don’t spend too much time on each statement [I worry too much over something that really doesn't matter.]  \\\n",
       "0                                      Moderately so                                                                                                                                                                                                                     \n",
       "1                                      Moderately so                                                                                                                                                                                                                     \n",
       "\n",
       "  Please read the following statements and select the item to indicate how you generally feel most of the time. There’s no right or wrong answers and please don’t spend too much time on each statement [I am happy.]  \\\n",
       "0                                           Somewhat                                                                                                                                                                     \n",
       "1                                      Moderately so                                                                                                                                                                     \n",
       "\n",
       "  Please read the following statements and select the item to indicate how you generally feel most of the time. There’s no right or wrong answers and please don’t spend too much time on each statement [I have disturbing thoughts.]  \\\n",
       "0                                      Moderately so                                                                                                                                                                                     \n",
       "1                                      Moderately so                                                                                                                                                                                     \n",
       "\n",
       "  Please read the following statements and select the item to indicate how you generally feel most of the time. There’s no right or wrong answers and please don’t spend too much time on each statement [I lack self-confidence.]  \\\n",
       "0                                         Not at all                                                                                                                                                                                 \n",
       "1                                      Moderately so                                                                                                                                                                                 \n",
       "\n",
       "  Please read the following statements and select the item to indicate how you generally feel most of the time. There’s no right or wrong answers and please don’t spend too much time on each statement [I feel secure.]  \\\n",
       "0                                       Very much so                                                                                                                                                                        \n",
       "1                                      Moderately so                                                                                                                                                                        \n",
       "\n",
       "  Please read the following statements and select the item to indicate how you generally feel most of the time. There’s no right or wrong answers and please don’t spend too much time on each statement [I make decisions easily.]  \\\n",
       "0                                       Very much so                                                                                                                                                                                  \n",
       "1                                      Moderately so                                                                                                                                                                                  \n",
       "\n",
       "  Please read the following statements and select the item to indicate how you generally feel most of the time. There’s no right or wrong answers and please don’t spend too much time on each statement [I feel inadequate.]  \\\n",
       "0                                       Very much so                                                                                                                                                                            \n",
       "1                                      Moderately so                                                                                                                                                                            \n",
       "\n",
       "  Please read the following statements and select the item to indicate how you generally feel most of the time. There’s no right or wrong answers and please don’t spend too much time on each statement [I am content.]  \\\n",
       "0                                       Very much so                                                                                                                                                                       \n",
       "1                                      Moderately so                                                                                                                                                                       \n",
       "\n",
       "  Please read the following statements and select the item to indicate how you generally feel most of the time. There’s no right or wrong answers and please don’t spend too much time on each statement [Some unimportant thought runs through my mind and bothers me.]  \\\n",
       "0                                      Moderately so                                                                                                                                                                                                                       \n",
       "1                                      Moderately so                                                                                                                                                                                                                       \n",
       "\n",
       "  Please read the following statements and select the item to indicate how you generally feel most of the time. There’s no right or wrong answers and please don’t spend too much time on each statement [I take disappointments so keenly I can't put them out of my mind.]  \\\n",
       "0                                           Somewhat                                                                                                                                                                                                                           \n",
       "1                                      Moderately so                                                                                                                                                                                                                           \n",
       "\n",
       "  Please read the following statements and select the item to indicate how you generally feel most of the time. There’s no right or wrong answers and please don’t spend too much time on each statement [I am a steady person.]  \\\n",
       "0                                      Moderately so                                                                                                                                                                               \n",
       "1                                      Moderately so                                                                                                                                                                               \n",
       "\n",
       "  Please read the following statements and select the item to indicate how you generally feel most of the time. There’s no right or wrong answers and please don’t spend too much time on each statement [I get in a state of tension or turmoil as I think over my recent concerns and interests.]  \n",
       "0                                      Moderately so                                                                                                                                                                                                                                                 \n",
       "1                                      Moderately so                                                                                                                                                                                                                                                 "
      ]
     },
     "execution_count": 179,
     "metadata": {},
     "output_type": "execute_result"
    }
   ],
   "source": [
    "dfstai = dforig.iloc[:, 198:219]\n",
    "dfstai"
   ]
  },
  {
   "cell_type": "markdown",
   "id": "81bfe52d-7569-48d4-80f1-d1d9f8beecbf",
   "metadata": {},
   "source": [
    "## Int and Reverse"
   ]
  },
  {
   "cell_type": "code",
   "execution_count": 180,
   "id": "267d7a0d-f3f8-40d2-826b-ecc690c12b41",
   "metadata": {},
   "outputs": [
    {
     "data": {
      "text/html": [
       "<div>\n",
       "<style scoped>\n",
       "    .dataframe tbody tr th:only-of-type {\n",
       "        vertical-align: middle;\n",
       "    }\n",
       "\n",
       "    .dataframe tbody tr th {\n",
       "        vertical-align: top;\n",
       "    }\n",
       "\n",
       "    .dataframe thead th {\n",
       "        text-align: right;\n",
       "    }\n",
       "</style>\n",
       "<table border=\"1\" class=\"dataframe\">\n",
       "  <thead>\n",
       "    <tr style=\"text-align: right;\">\n",
       "      <th></th>\n",
       "      <th>Please read the following statements and select the item to indicate how you generally feel most of the time. There’s no right or wrong answers and please don’t spend too much time on each statement [I feel pleasant.]</th>\n",
       "      <th>Please read the following statements and select the item to indicate how you generally feel most of the time. There’s no right or wrong answers and please don’t spend too much time on each statement [I feel nervous and restless.]</th>\n",
       "      <th>Please read the following statements and select the item to indicate how you generally feel most of the time. There’s no right or wrong answers and please don’t spend too much time on each statement [I feel satisfied with myself.]</th>\n",
       "      <th>Please read the following statements and select the item to indicate how you generally feel most of the time. There’s no right or wrong answers and please don’t spend too much time on each statement [I wish I could be as happy as others seem to be.]</th>\n",
       "      <th>Please read the following statements and select the item to indicate how you generally feel most of the time. There’s no right or wrong answers and please don’t spend too much time on each statement [I feel like a failure.]</th>\n",
       "      <th>Please read the following statements and select the item to indicate how you generally feel most of the time. There’s no right or wrong answers and please don’t spend too much time on each statement [I feel rested.]</th>\n",
       "      <th>Please read the following statements and select the item to indicate how you generally feel most of the time. There’s no right or wrong answers and please don’t spend too much time on each statement [I am 'cool, calm, and collected'.]</th>\n",
       "      <th>Please read the following statements and select the item to indicate how you generally feel most of the time. There’s no right or wrong answers and please don’t spend too much time on each statement [I feel that difficulties are piling up so that I can't overcome them.]</th>\n",
       "      <th>Please read the following statements and select the item to indicate how you generally feel most of the time. There’s no right or wrong answers and please don’t spend too much time on each statement [I worry too much over something that really doesn't matter.]</th>\n",
       "      <th>Please read the following statements and select the item to indicate how you generally feel most of the time. There’s no right or wrong answers and please don’t spend too much time on each statement [I am happy.]</th>\n",
       "      <th>...</th>\n",
       "      <th>Please read the following statements and select the item to indicate how you generally feel most of the time. There’s no right or wrong answers and please don’t spend too much time on each statement [I lack self-confidence.]</th>\n",
       "      <th>Please read the following statements and select the item to indicate how you generally feel most of the time. There’s no right or wrong answers and please don’t spend too much time on each statement [I feel secure.]</th>\n",
       "      <th>Please read the following statements and select the item to indicate how you generally feel most of the time. There’s no right or wrong answers and please don’t spend too much time on each statement [I make decisions easily.]</th>\n",
       "      <th>Please read the following statements and select the item to indicate how you generally feel most of the time. There’s no right or wrong answers and please don’t spend too much time on each statement [I feel inadequate.]</th>\n",
       "      <th>Please read the following statements and select the item to indicate how you generally feel most of the time. There’s no right or wrong answers and please don’t spend too much time on each statement [I am content.]</th>\n",
       "      <th>Please read the following statements and select the item to indicate how you generally feel most of the time. There’s no right or wrong answers and please don’t spend too much time on each statement [Some unimportant thought runs through my mind and bothers me.]</th>\n",
       "      <th>Please read the following statements and select the item to indicate how you generally feel most of the time. There’s no right or wrong answers and please don’t spend too much time on each statement [I take disappointments so keenly I can't put them out of my mind.]</th>\n",
       "      <th>Please read the following statements and select the item to indicate how you generally feel most of the time. There’s no right or wrong answers and please don’t spend too much time on each statement [I am a steady person.]</th>\n",
       "      <th>Please read the following statements and select the item to indicate how you generally feel most of the time. There’s no right or wrong answers and please don’t spend too much time on each statement [I get in a state of tension or turmoil as I think over my recent concerns and interests.]</th>\n",
       "      <th>Total</th>\n",
       "    </tr>\n",
       "  </thead>\n",
       "  <tbody>\n",
       "    <tr>\n",
       "      <th>0</th>\n",
       "      <td>2</td>\n",
       "      <td>3</td>\n",
       "      <td>3</td>\n",
       "      <td>2</td>\n",
       "      <td>3</td>\n",
       "      <td>2</td>\n",
       "      <td>3</td>\n",
       "      <td>3</td>\n",
       "      <td>3</td>\n",
       "      <td>3</td>\n",
       "      <td>...</td>\n",
       "      <td>1</td>\n",
       "      <td>1</td>\n",
       "      <td>1</td>\n",
       "      <td>4</td>\n",
       "      <td>1</td>\n",
       "      <td>3</td>\n",
       "      <td>2</td>\n",
       "      <td>2</td>\n",
       "      <td>3</td>\n",
       "      <td>48</td>\n",
       "    </tr>\n",
       "    <tr>\n",
       "      <th>1</th>\n",
       "      <td>2</td>\n",
       "      <td>3</td>\n",
       "      <td>2</td>\n",
       "      <td>3</td>\n",
       "      <td>3</td>\n",
       "      <td>2</td>\n",
       "      <td>2</td>\n",
       "      <td>3</td>\n",
       "      <td>3</td>\n",
       "      <td>2</td>\n",
       "      <td>...</td>\n",
       "      <td>3</td>\n",
       "      <td>2</td>\n",
       "      <td>2</td>\n",
       "      <td>3</td>\n",
       "      <td>2</td>\n",
       "      <td>3</td>\n",
       "      <td>3</td>\n",
       "      <td>2</td>\n",
       "      <td>3</td>\n",
       "      <td>51</td>\n",
       "    </tr>\n",
       "  </tbody>\n",
       "</table>\n",
       "<p>2 rows × 21 columns</p>\n",
       "</div>"
      ],
      "text/plain": [
       "   Please read the following statements and select the item to indicate how you generally feel most of the time. There’s no right or wrong answers and please don’t spend too much time on each statement [I feel pleasant.]  \\\n",
       "0                                                  2                                                                                                                                                                           \n",
       "1                                                  2                                                                                                                                                                           \n",
       "\n",
       "   Please read the following statements and select the item to indicate how you generally feel most of the time. There’s no right or wrong answers and please don’t spend too much time on each statement [I feel nervous and restless.]  \\\n",
       "0                                                  3                                                                                                                                                                                       \n",
       "1                                                  3                                                                                                                                                                                       \n",
       "\n",
       "   Please read the following statements and select the item to indicate how you generally feel most of the time. There’s no right or wrong answers and please don’t spend too much time on each statement [I feel satisfied with myself.]  \\\n",
       "0                                                  3                                                                                                                                                                                        \n",
       "1                                                  2                                                                                                                                                                                        \n",
       "\n",
       "   Please read the following statements and select the item to indicate how you generally feel most of the time. There’s no right or wrong answers and please don’t spend too much time on each statement [I wish I could be as happy as others seem to be.]  \\\n",
       "0                                                  2                                                                                                                                                                                                           \n",
       "1                                                  3                                                                                                                                                                                                           \n",
       "\n",
       "   Please read the following statements and select the item to indicate how you generally feel most of the time. There’s no right or wrong answers and please don’t spend too much time on each statement [I feel like a failure.]  \\\n",
       "0                                                  3                                                                                                                                                                                 \n",
       "1                                                  3                                                                                                                                                                                 \n",
       "\n",
       "   Please read the following statements and select the item to indicate how you generally feel most of the time. There’s no right or wrong answers and please don’t spend too much time on each statement [I feel rested.]  \\\n",
       "0                                                  2                                                                                                                                                                         \n",
       "1                                                  2                                                                                                                                                                         \n",
       "\n",
       "   Please read the following statements and select the item to indicate how you generally feel most of the time. There’s no right or wrong answers and please don’t spend too much time on each statement [I am 'cool, calm, and collected'.]  \\\n",
       "0                                                  3                                                                                                                                                                                            \n",
       "1                                                  2                                                                                                                                                                                            \n",
       "\n",
       "   Please read the following statements and select the item to indicate how you generally feel most of the time. There’s no right or wrong answers and please don’t spend too much time on each statement [I feel that difficulties are piling up so that I can't overcome them.]  \\\n",
       "0                                                  3                                                                                                                                                                                                                                \n",
       "1                                                  3                                                                                                                                                                                                                                \n",
       "\n",
       "   Please read the following statements and select the item to indicate how you generally feel most of the time. There’s no right or wrong answers and please don’t spend too much time on each statement [I worry too much over something that really doesn't matter.]  \\\n",
       "0                                                  3                                                                                                                                                                                                                      \n",
       "1                                                  3                                                                                                                                                                                                                      \n",
       "\n",
       "   Please read the following statements and select the item to indicate how you generally feel most of the time. There’s no right or wrong answers and please don’t spend too much time on each statement [I am happy.]  \\\n",
       "0                                                  3                                                                                                                                                                      \n",
       "1                                                  2                                                                                                                                                                      \n",
       "\n",
       "   ...  \\\n",
       "0  ...   \n",
       "1  ...   \n",
       "\n",
       "   Please read the following statements and select the item to indicate how you generally feel most of the time. There’s no right or wrong answers and please don’t spend too much time on each statement [I lack self-confidence.]  \\\n",
       "0                                                  1                                                                                                                                                                                  \n",
       "1                                                  3                                                                                                                                                                                  \n",
       "\n",
       "   Please read the following statements and select the item to indicate how you generally feel most of the time. There’s no right or wrong answers and please don’t spend too much time on each statement [I feel secure.]  \\\n",
       "0                                                  1                                                                                                                                                                         \n",
       "1                                                  2                                                                                                                                                                         \n",
       "\n",
       "   Please read the following statements and select the item to indicate how you generally feel most of the time. There’s no right or wrong answers and please don’t spend too much time on each statement [I make decisions easily.]  \\\n",
       "0                                                  1                                                                                                                                                                                   \n",
       "1                                                  2                                                                                                                                                                                   \n",
       "\n",
       "   Please read the following statements and select the item to indicate how you generally feel most of the time. There’s no right or wrong answers and please don’t spend too much time on each statement [I feel inadequate.]  \\\n",
       "0                                                  4                                                                                                                                                                             \n",
       "1                                                  3                                                                                                                                                                             \n",
       "\n",
       "   Please read the following statements and select the item to indicate how you generally feel most of the time. There’s no right or wrong answers and please don’t spend too much time on each statement [I am content.]  \\\n",
       "0                                                  1                                                                                                                                                                        \n",
       "1                                                  2                                                                                                                                                                        \n",
       "\n",
       "   Please read the following statements and select the item to indicate how you generally feel most of the time. There’s no right or wrong answers and please don’t spend too much time on each statement [Some unimportant thought runs through my mind and bothers me.]  \\\n",
       "0                                                  3                                                                                                                                                                                                                        \n",
       "1                                                  3                                                                                                                                                                                                                        \n",
       "\n",
       "   Please read the following statements and select the item to indicate how you generally feel most of the time. There’s no right or wrong answers and please don’t spend too much time on each statement [I take disappointments so keenly I can't put them out of my mind.]  \\\n",
       "0                                                  2                                                                                                                                                                                                                            \n",
       "1                                                  3                                                                                                                                                                                                                            \n",
       "\n",
       "   Please read the following statements and select the item to indicate how you generally feel most of the time. There’s no right or wrong answers and please don’t spend too much time on each statement [I am a steady person.]  \\\n",
       "0                                                  2                                                                                                                                                                                \n",
       "1                                                  2                                                                                                                                                                                \n",
       "\n",
       "   Please read the following statements and select the item to indicate how you generally feel most of the time. There’s no right or wrong answers and please don’t spend too much time on each statement [I get in a state of tension or turmoil as I think over my recent concerns and interests.]  \\\n",
       "0                                                  3                                                                                                                                                                                                                                                   \n",
       "1                                                  3                                                                                                                                                                                                                                                   \n",
       "\n",
       "   Total  \n",
       "0     48  \n",
       "1     51  \n",
       "\n",
       "[2 rows x 21 columns]"
      ]
     },
     "execution_count": 180,
     "metadata": {},
     "output_type": "execute_result"
    }
   ],
   "source": [
    "dic_t = {\"Not at all\": 1,\n",
    "         \"Somewhat\": 2,\n",
    "         \"Moderately so\": 3,\n",
    "         \"Very much so\": 4}\n",
    "\n",
    "dfstai.replace(dic_t, inplace = True)\n",
    "rev = np.array([1,3, 6, 7, 10, 13,14, 16, 19])-1\n",
    "dfstai.iloc[:, rev] = 5 - dfstai.iloc[:, rev]\n",
    "\n",
    "dfstai[\"Total\"] = dfstai.sum(axis=1)\n",
    "dfstai"
   ]
  },
  {
   "cell_type": "markdown",
   "id": "b8d74337-162e-44ce-87a0-269d84c82b50",
   "metadata": {},
   "source": [
    "## Descriptives"
   ]
  },
  {
   "cell_type": "code",
   "execution_count": 183,
   "id": "92715a23-286e-42b2-acd0-54e7c820d28d",
   "metadata": {},
   "outputs": [
    {
     "data": {
      "text/plain": [
       "<BarContainer object of 2 artists>"
      ]
     },
     "execution_count": 183,
     "metadata": {},
     "output_type": "execute_result"
    },
    {
     "data": {
      "text/plain": [
       "Text(0.5, 1.0, 'Total Score per Participant')"
      ]
     },
     "execution_count": 183,
     "metadata": {},
     "output_type": "execute_result"
    },
    {
     "data": {
      "image/png": "[encoded data removed]",
      "text/plain": [
       "<Figure size 1200x700 with 1 Axes>"
      ]
     },
     "metadata": {},
     "output_type": "display_data"
    }
   ],
   "source": [
    "plt.bar(dfstai.index, dfstai[\"Total\"])\n",
    "plt.title(\"Total Score per Participant\")"
   ]
  }
 ],
 "metadata": {
  "kernelspec": {
   "display_name": "Python 3 (ipykernel)",
   "language": "python",
   "name": "python3"
  },
  "language_info": {
   "codemirror_mode": {
    "name": "ipython",
    "version": 3
   },
   "file_extension": ".py",
   "mimetype": "text/x-python",
   "name": "python",
   "nbconvert_exporter": "python",
   "pygments_lexer": "ipython3",
   "version": "3.9.13"
  }
 },
 "nbformat": 4,
 "nbformat_minor": 5
}
